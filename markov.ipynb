{
 "cells": [
  {
   "cell_type": "code",
   "execution_count": 1,
   "id": "established-teach",
   "metadata": {},
   "outputs": [],
   "source": [
    "import os\n",
    "import numpy as np\n",
    "from tqdm.notebook import tqdm\n",
    "import guitarpro\n",
    "\n",
    "import matplotlib.pyplot as plt\n",
    "import pandas as pd\n",
    "from collections import Counter\n",
    "\n",
    "from src.models.markov_chain import MarkovChain\n",
    "from src.parse_gp import drop_rests_from_drum_track, get_notes_and_durations\n",
    "from src.save_midi import save_notes_and_durations, save_notes"
   ]
  },
  {
   "cell_type": "code",
   "execution_count": 2,
   "id": "binary-creek",
   "metadata": {},
   "outputs": [],
   "source": [
    "folderpath = \"tabs/\"\n",
    "track_name = 'guitar'"
   ]
  },
  {
   "cell_type": "code",
   "execution_count": 3,
   "id": "dutch-correspondence",
   "metadata": {},
   "outputs": [
    {
     "data": {
      "application/vnd.jupyter.widget-view+json": {
       "model_id": "3bec1bc9c1aa47a0a6996f7933b6550d",
       "version_major": 2,
       "version_minor": 0
      },
      "text/plain": [
       "  0%|          | 0/14 [00:00<?, ?it/s]"
      ]
     },
     "metadata": {},
     "output_type": "display_data"
    },
    {
     "data": {
      "application/vnd.jupyter.widget-view+json": {
       "model_id": "ca1447fc740244459cce84fb3ba28bc4",
       "version_major": 2,
       "version_minor": 0
      },
      "text/plain": [
       "  0%|          | 0/12 [00:00<?, ?it/s]"
      ]
     },
     "metadata": {},
     "output_type": "display_data"
    }
   ],
   "source": [
    "notes, durations = [], []\n",
    "for folder in os.listdir(folderpath):\n",
    "    for filename in tqdm(os.listdir(folderpath + folder + '/')):\n",
    "        tab = guitarpro.parse(folderpath + folder + '/' + filename)\n",
    "        tab_notes, tab_durations = get_notes_and_durations(tab, track_name, True)\n",
    "        notes += tab_notes\n",
    "        durations += tab_durations"
   ]
  },
  {
   "cell_type": "code",
   "execution_count": 4,
   "id": "stupid-middle",
   "metadata": {},
   "outputs": [
    {
     "data": {
      "text/plain": [
       "<BarContainer object of 526 artists>"
      ]
     },
     "execution_count": 4,
     "metadata": {},
     "output_type": "execute_result"
    },
    {
     "data": {
      "image/png": "[encoded data removed]",
      "text/plain": [
       "<Figure size 432x288 with 1 Axes>"
      ]
     },
     "metadata": {
      "image/png": {
       "height": 248,
       "width": 381
      },
      "needs_background": "light"
     },
     "output_type": "display_data"
    }
   ],
   "source": [
    "note_counts = Counter(notes)\n",
    "df = pd.DataFrame(note_counts.items(), columns=['note', 'cnt']).sort_values('cnt', ascending=False)\n",
    "plt.bar(range(df.shape[0]), df.cnt)"
   ]
  },
  {
   "cell_type": "code",
   "execution_count": 5,
   "id": "stunning-donor",
   "metadata": {},
   "outputs": [],
   "source": [
    "limit = 200"
   ]
  },
  {
   "cell_type": "code",
   "execution_count": 6,
   "id": "stable-advocate",
   "metadata": {},
   "outputs": [],
   "source": [
    "note_to_use = df.iloc[:limit].note.values"
   ]
  },
  {
   "cell_type": "code",
   "execution_count": 7,
   "id": "manual-indian",
   "metadata": {},
   "outputs": [],
   "source": [
    "notes_corr, durations_corr = [], []\n",
    "for note, dur in zip(notes, durations):\n",
    "    if note in note_to_use:\n",
    "        notes_corr.append(note)\n",
    "        durations_corr.append(dur)"
   ]
  },
  {
   "cell_type": "code",
   "execution_count": 8,
   "id": "solid-delay",
   "metadata": {},
   "outputs": [
    {
     "data": {
      "text/plain": [
       "[22, 3, 3, 0, 3, 3, 3, 5, 3, 0]"
      ]
     },
     "execution_count": 8,
     "metadata": {},
     "output_type": "execute_result"
    }
   ],
   "source": [
    "note_dictionary = {note: i for i, note in enumerate(note_to_use)}\n",
    "inv_note_dictionary = {i: note for note, i in note_dictionary.items()}\n",
    "notes_to_int = [note_dictionary[note] for note in notes_corr]\n",
    "notes_to_int[:10]"
   ]
  },
  {
   "cell_type": "code",
   "execution_count": 9,
   "id": "controlled-scottish",
   "metadata": {},
   "outputs": [
    {
     "data": {
      "text/plain": [
       "[1, 0, 0, 0, 0, 0, 0, 0, 0, 0]"
      ]
     },
     "execution_count": 9,
     "metadata": {},
     "output_type": "execute_result"
    }
   ],
   "source": [
    "duration_dictionary = {dur: i for i, dur in enumerate(set(durations_corr))}\n",
    "inv_dur_dictionary = {i: dur for dur, i in duration_dictionary.items()}\n",
    "durations_to_int = [duration_dictionary[dur] for dur in durations_corr]\n",
    "durations_to_int[:10]"
   ]
  },
  {
   "cell_type": "code",
   "execution_count": 10,
   "id": "viral-rouge",
   "metadata": {},
   "outputs": [
    {
     "data": {
      "text/plain": [
       "['C#3.F#3.', 'F#3.', 'F#3.', '', 'F#3.', 'F#3.', 'F#3.', 'G3.', 'F#3.', '']"
      ]
     },
     "execution_count": 10,
     "metadata": {},
     "output_type": "execute_result"
    }
   ],
   "source": [
    "notes[:10]"
   ]
  },
  {
   "cell_type": "code",
   "execution_count": 11,
   "id": "distant-restaurant",
   "metadata": {},
   "outputs": [
    {
     "data": {
      "text/plain": [
       "[1.0, 0.0625, 0.0625, 0.0625, 0.0625, 0.0625, 0.0625, 0.0625, 0.0625, 0.0625]"
      ]
     },
     "execution_count": 11,
     "metadata": {},
     "output_type": "execute_result"
    }
   ],
   "source": [
    "durations[:10]"
   ]
  },
  {
   "cell_type": "code",
   "execution_count": 12,
   "id": "finnish-leader",
   "metadata": {},
   "outputs": [],
   "source": [
    "markov_notes = MarkovChain()\n",
    "markov_notes.fit_partial(notes_to_int)"
   ]
  },
  {
   "cell_type": "code",
   "execution_count": 13,
   "id": "mature-fortune",
   "metadata": {},
   "outputs": [],
   "source": [
    "markov_durations = MarkovChain()\n",
    "markov_durations.fit_partial(durations_to_int)"
   ]
  },
  {
   "cell_type": "code",
   "execution_count": 14,
   "id": "spiritual-integer",
   "metadata": {},
   "outputs": [
    {
     "data": {
      "image/png": "[encoded data removed]",
      "text/plain": [
       "<Figure size 504x504 with 1 Axes>"
      ]
     },
     "metadata": {
      "image/png": {
       "height": 414,
       "width": 421
      },
      "needs_background": "light"
     },
     "output_type": "display_data"
    }
   ],
   "source": [
    "note_matrix = markov_notes.heatmap_of_transitions()"
   ]
  },
  {
   "cell_type": "code",
   "execution_count": 15,
   "id": "analyzed-classroom",
   "metadata": {},
   "outputs": [
    {
     "data": {
      "image/png": "[encoded data removed]",
      "text/plain": [
       "<Figure size 504x504 with 1 Axes>"
      ]
     },
     "metadata": {
      "image/png": {
       "height": 411,
       "width": 414
      },
      "needs_background": "light"
     },
     "output_type": "display_data"
    }
   ],
   "source": [
    "duration_matrix = markov_durations.heatmap_of_transitions()"
   ]
  },
  {
   "cell_type": "code",
   "execution_count": 16,
   "id": "external-geography",
   "metadata": {},
   "outputs": [],
   "source": [
    "def sample(preds, temperature):\n",
    "    if temperature == 0:\n",
    "        return np.argmax(preds)\n",
    "    else:\n",
    "        preds = np.log(preds) / temperature\n",
    "        exp_preds = np.exp(preds)\n",
    "        preds = exp_preds / np.sum(exp_preds)\n",
    "        return np.random.choice(len(preds), p=preds)"
   ]
  },
  {
   "cell_type": "code",
   "execution_count": 18,
   "id": "logical-respect",
   "metadata": {},
   "outputs": [],
   "source": [
    "temperatures = [0.0, 0.5, 0.9]\n",
    "\n",
    "for temperature in temperatures:\n",
    "    generated_notes = [note_dictionary['B1.']]\n",
    "#     generated_notes = [note_dictionary['46.36.']]\n",
    "    generated_durations = [duration_dictionary[1/16]]\n",
    "    for i in range(100):\n",
    "        probas = [markov_notes.predict_proba_state_transition(generated_notes[i], note_dictionary[x]) + 1e-6 for x in note_dictionary]\n",
    "        generated_notes.append(sample(probas, temperature))\n",
    "\n",
    "        probas = [markov_durations.predict_proba_state_transition(generated_durations[i], duration_dictionary[x]) + 1e-6 for x in duration_dictionary]\n",
    "        generated_durations.append(sample(probas, temperature))\n",
    "    \n",
    "    generated = [[inv_note_dictionary[x] for x in generated_notes], [inv_dur_dictionary[x] for x in generated_durations]]\n",
    "    save_notes_and_durations(generated, f'output/markov/markov_output_{temperature}')"
   ]
  },
  {
   "cell_type": "code",
   "execution_count": null,
   "id": "exotic-louisiana",
   "metadata": {},
   "outputs": [],
   "source": []
  }
 ],
 "metadata": {
  "kernelspec": {
   "display_name": "Python 3",
   "language": "python",
   "name": "python3"
  },
  "language_info": {
   "codemirror_mode": {
    "name": "ipython",
    "version": 3
   },
   "file_extension": ".py",
   "mimetype": "text/x-python",
   "name": "python",
   "nbconvert_exporter": "python",
   "pygments_lexer": "ipython3",
   "version": "3.8.5"
  }
 },
 "nbformat": 4,
 "nbformat_minor": 5
}
