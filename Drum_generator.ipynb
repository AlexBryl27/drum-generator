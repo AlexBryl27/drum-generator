{
 "cells": [
  {
   "cell_type": "markdown",
   "metadata": {},
   "source": [
    "## TODO\n",
    "1. Проверить sound banks не на линухе, м.б. экспортнуть сразу в гитарпро на винде, т.к. на линухе все играет стандартное пианино.\n",
    "2. Если экспортировать в drum не получится - перевести все ноты в набор основных звуков: кик, снейр, хэт, крэш и т.д., то, что есть в music21\n",
    "3. Val loss всегда растет независимо от архитектуры. М.б. стоит избавиться от пауз, которые составляют 40 % партий и добавить конкатенацию с массивом длительностей\n",
    "4. Или просто добавить больше партий?"
   ]
  },
  {
   "cell_type": "code",
   "execution_count": 1,
   "metadata": {},
   "outputs": [],
   "source": [
    "import os\n",
    "import numpy as np\n",
    "from tqdm.notebook import tqdm\n",
    "import guitarpro\n",
    "\n",
    "import matplotlib.pyplot as plt\n",
    "\n",
    "from src.model import NotesRNN\n",
    "from src.parse_gp import get_drum_notes, drop_rests_from_drum_track\n",
    "from src.save_midi import save_notes_and_durations"
   ]
  },
  {
   "cell_type": "code",
   "execution_count": 2,
   "metadata": {},
   "outputs": [],
   "source": [
    "folderpath = \"tabs/\"\n",
    "use_durations = True"
   ]
  },
  {
   "cell_type": "code",
   "execution_count": 3,
   "metadata": {},
   "outputs": [
    {
     "data": {
      "application/vnd.jupyter.widget-view+json": {
       "model_id": "347155d88b5041b7b17c281effecd341",
       "version_major": 2,
       "version_minor": 0
      },
      "text/plain": [
       "  0%|          | 0/12 [00:00<?, ?it/s]"
      ]
     },
     "metadata": {},
     "output_type": "display_data"
    }
   ],
   "source": [
    "notes = []\n",
    "for folder in os.listdir(folderpath):\n",
    "    for filename in tqdm(os.listdir(folderpath + folder + '/')):\n",
    "        tab = guitarpro.parse(folderpath + folder + '/' + filename)\n",
    "        notes += get_drum_notes(tab)"
   ]
  },
  {
   "cell_type": "code",
   "execution_count": 4,
   "metadata": {},
   "outputs": [],
   "source": [
    "if use_durations:\n",
    "    notes, durations = drop_rests_from_drum_track(notes)"
   ]
  },
  {
   "cell_type": "code",
   "execution_count": 5,
   "metadata": {},
   "outputs": [
    {
     "data": {
      "text/plain": [
       "[80, 78, 32, 32, 93, 32, 32, 32, 93, 153]"
      ]
     },
     "execution_count": 5,
     "metadata": {},
     "output_type": "execute_result"
    }
   ],
   "source": [
    "note_dictionary = {note: i for i, note in enumerate(set(notes))}\n",
    "inv_note_dictionary = {i: note for note, i in note_dictionary.items()}\n",
    "notes_to_int = [note_dictionary[note] for note in notes]\n",
    "notes_to_int[:10]"
   ]
  },
  {
   "cell_type": "code",
   "execution_count": 6,
   "metadata": {},
   "outputs": [
    {
     "data": {
      "text/plain": [
       "155"
      ]
     },
     "execution_count": 6,
     "metadata": {},
     "output_type": "execute_result"
    }
   ],
   "source": [
    "len(note_dictionary)"
   ]
  },
  {
   "cell_type": "code",
   "execution_count": 7,
   "metadata": {},
   "outputs": [
    {
     "name": "stdout",
     "output_type": "stream",
     "text": [
      "16\n"
     ]
    }
   ],
   "source": [
    "if use_durations:\n",
    "    duration_dictionary = {dur: i for i, dur in enumerate(set(durations))}\n",
    "    inv_dur_dictionary = {i: dur for dur, i in duration_dictionary.items()}\n",
    "    durations_to_int = [duration_dictionary[dur] for dur in durations]\n",
    "    durations_to_int[:10]\n",
    "    print(len(duration_dictionary))\n",
    "else:\n",
    "    durations_to_int = None"
   ]
  },
  {
   "cell_type": "code",
   "execution_count": 8,
   "metadata": {},
   "outputs": [],
   "source": [
    "n_notes = len(note_dictionary)\n",
    "n_durations = len(duration_dictionary) if use_durations else None\n",
    "emb_size = 100\n",
    "n_units = 128\n",
    "n_layers = 4\n",
    "use_dropout = False\n",
    "use_attention = True"
   ]
  },
  {
   "cell_type": "code",
   "execution_count": 9,
   "metadata": {},
   "outputs": [],
   "source": [
    "RNN = NotesRNN(\n",
    "    n_notes,\n",
    "    n_durations,\n",
    "    emb_size,\n",
    "    n_units,\n",
    "    n_layers,\n",
    "    use_dropout,\n",
    "    use_attention,\n",
    "    use_durations\n",
    ")"
   ]
  },
  {
   "cell_type": "code",
   "execution_count": 10,
   "metadata": {},
   "outputs": [
    {
     "name": "stdout",
     "output_type": "stream",
     "text": [
      "Model: \"model\"\n",
      "__________________________________________________________________________________________________\n",
      "Layer (type)                    Output Shape         Param #     Connected to                     \n",
      "==================================================================================================\n",
      "input_1 (InputLayer)            [(None, None)]       0                                            \n",
      "__________________________________________________________________________________________________\n",
      "input_2 (InputLayer)            [(None, None)]       0                                            \n",
      "__________________________________________________________________________________________________\n",
      "embedding (Embedding)           (None, None, 100)    15500       input_1[0][0]                    \n",
      "__________________________________________________________________________________________________\n",
      "embedding_1 (Embedding)         (None, None, 100)    1600        input_2[0][0]                    \n",
      "__________________________________________________________________________________________________\n",
      "concatenate (Concatenate)       (None, None, 200)    0           embedding[0][0]                  \n",
      "                                                                 embedding_1[0][0]                \n",
      "__________________________________________________________________________________________________\n",
      "lstm (LSTM)                     (None, None, 128)    168448      concatenate[0][0]                \n",
      "__________________________________________________________________________________________________\n",
      "lstm_1 (LSTM)                   (None, None, 128)    131584      lstm[0][0]                       \n",
      "__________________________________________________________________________________________________\n",
      "lstm_2 (LSTM)                   (None, None, 128)    131584      lstm_1[0][0]                     \n",
      "__________________________________________________________________________________________________\n",
      "lstm_3 (LSTM)                   (None, None, 128)    131584      lstm_2[0][0]                     \n",
      "__________________________________________________________________________________________________\n",
      "dense (Dense)                   (None, None, 1)      129         lstm_3[0][0]                     \n",
      "__________________________________________________________________________________________________\n",
      "reshape (Reshape)               (None, None)         0           dense[0][0]                      \n",
      "__________________________________________________________________________________________________\n",
      "activation (Activation)         (None, None)         0           reshape[0][0]                    \n",
      "__________________________________________________________________________________________________\n",
      "repeat_vector (RepeatVector)    (None, 128, None)    0           activation[0][0]                 \n",
      "__________________________________________________________________________________________________\n",
      "permute (Permute)               (None, None, 128)    0           repeat_vector[0][0]              \n",
      "__________________________________________________________________________________________________\n",
      "multiply (Multiply)             (None, None, 128)    0           lstm_3[0][0]                     \n",
      "                                                                 permute[0][0]                    \n",
      "__________________________________________________________________________________________________\n",
      "lambda (Lambda)                 (None, 128)          0           multiply[0][0]                   \n",
      "__________________________________________________________________________________________________\n",
      "dense_1 (Dense)                 (None, 155)          19995       lambda[0][0]                     \n",
      "__________________________________________________________________________________________________\n",
      "dense_2 (Dense)                 (None, 16)           2064        lambda[0][0]                     \n",
      "==================================================================================================\n",
      "Total params: 602,488\n",
      "Trainable params: 602,488\n",
      "Non-trainable params: 0\n",
      "__________________________________________________________________________________________________\n"
     ]
    }
   ],
   "source": [
    "RNN.model.summary()"
   ]
  },
  {
   "cell_type": "code",
   "execution_count": 11,
   "metadata": {},
   "outputs": [],
   "source": [
    "seq_length = 128\n",
    "step = 1\n",
    "X, y = RNN.prepare_sequences(notes_to_int, durations_to_int, seq_length, step)"
   ]
  },
  {
   "cell_type": "code",
   "execution_count": 12,
   "metadata": {
    "tags": []
   },
   "outputs": [
    {
     "name": "stdout",
     "output_type": "stream",
     "text": [
      "Epoch 1/10\n",
      "275/275 [==============================] - 64s 215ms/step - loss: 4.8569 - dense_1_loss: 3.6708 - dense_2_loss: 1.1860 - val_loss: 4.7449 - val_dense_1_loss: 3.3953 - val_dense_2_loss: 1.3496\n",
      "Epoch 2/10\n",
      "275/275 [==============================] - 58s 211ms/step - loss: 4.3215 - dense_1_loss: 3.2933 - dense_2_loss: 1.0283 - val_loss: 4.6627 - val_dense_1_loss: 3.3721 - val_dense_2_loss: 1.2906\n",
      "Epoch 3/10\n",
      "275/275 [==============================] - 58s 210ms/step - loss: 4.1184 - dense_1_loss: 3.1430 - dense_2_loss: 0.9754 - val_loss: 4.8045 - val_dense_1_loss: 3.4621 - val_dense_2_loss: 1.3423\n",
      "Epoch 4/10\n",
      "275/275 [==============================] - 58s 210ms/step - loss: 3.9369 - dense_1_loss: 2.9993 - dense_2_loss: 0.9376 - val_loss: 4.8181 - val_dense_1_loss: 3.4976 - val_dense_2_loss: 1.3205\n",
      "Epoch 5/10\n",
      "275/275 [==============================] - 58s 210ms/step - loss: 3.8714 - dense_1_loss: 2.9615 - dense_2_loss: 0.9100 - val_loss: 4.8594 - val_dense_1_loss: 3.5121 - val_dense_2_loss: 1.3473\n",
      "Epoch 6/10\n",
      "275/275 [==============================] - 58s 211ms/step - loss: 3.7784 - dense_1_loss: 2.8851 - dense_2_loss: 0.8933 - val_loss: 4.8357 - val_dense_1_loss: 3.4860 - val_dense_2_loss: 1.3497\n",
      "Epoch 7/10\n",
      "275/275 [==============================] - 58s 210ms/step - loss: 3.6561 - dense_1_loss: 2.7840 - dense_2_loss: 0.8721 - val_loss: 4.8858 - val_dense_1_loss: 3.5267 - val_dense_2_loss: 1.3592\n",
      "Epoch 8/10\n",
      "275/275 [==============================] - 58s 210ms/step - loss: 3.6251 - dense_1_loss: 2.7653 - dense_2_loss: 0.8598 - val_loss: 4.9254 - val_dense_1_loss: 3.5649 - val_dense_2_loss: 1.3604\n",
      "Epoch 9/10\n",
      "275/275 [==============================] - 58s 210ms/step - loss: 3.5801 - dense_1_loss: 2.7200 - dense_2_loss: 0.8601 - val_loss: 4.9987 - val_dense_1_loss: 3.6436 - val_dense_2_loss: 1.3551\n",
      "Epoch 10/10\n",
      "275/275 [==============================] - 58s 209ms/step - loss: 3.5360 - dense_1_loss: 2.6782 - dense_2_loss: 0.8578 - val_loss: 5.0827 - val_dense_1_loss: 3.6903 - val_dense_2_loss: 1.3924\n"
     ]
    },
    {
     "data": {
      "text/plain": [
       "<tensorflow.python.keras.callbacks.History at 0x7f44cb12bd00>"
      ]
     },
     "execution_count": 12,
     "metadata": {},
     "output_type": "execute_result"
    }
   ],
   "source": [
    "RNN.model.fit(\n",
    "    X, y,\n",
    "    epochs=10,\n",
    "    batch_size=32,\n",
    "    validation_split=0.2,\n",
    "    shuffle=True\n",
    ")"
   ]
  },
  {
   "cell_type": "code",
   "execution_count": 13,
   "metadata": {},
   "outputs": [
    {
     "data": {
      "image/png": "[encoded data removed]",
      "text/plain": [
       "<Figure size 432x288 with 1 Axes>"
      ]
     },
     "metadata": {
      "image/png": {
       "height": 248,
       "width": 372
      },
      "needs_background": "light"
     },
     "output_type": "display_data"
    }
   ],
   "source": [
    "plt.figure()\n",
    "plt.plot(RNN.model.history.history['loss'], label='loss')\n",
    "plt.plot(RNN.model.history.history['val_loss'], label='val_loss')\n",
    "plt.legend()\n",
    "plt.show()"
   ]
  },
  {
   "cell_type": "code",
   "execution_count": 14,
   "metadata": {},
   "outputs": [],
   "source": [
    "def sample(preds, temperature):\n",
    "    if temperature == 0:\n",
    "        return np.argmax(preds)\n",
    "    else:\n",
    "        preds = np.log(preds) / temperature\n",
    "        exp_preds = np.exp(preds)\n",
    "        preds = exp_preds / np.sum(exp_preds)\n",
    "        return np.random.choice(len(preds), p=preds)"
   ]
  },
  {
   "cell_type": "code",
   "execution_count": 15,
   "metadata": {},
   "outputs": [],
   "source": [
    "if use_durations:\n",
    "    self_notes = [\n",
    "        '49.36.', '44.36.', '44.38.', '44.36.', '38.', '44.36.', '38.', '44.36.', '44.38.', '44.36.', '38.',\n",
    "        '44.36.', '44.36.', '44.38.', '44.36.', '38.', '44.36.', '38.', '44.36.', '44.38.', '44.36.', '38.',\n",
    "    ]\n",
    "    self_durations = [\n",
    "        1/8, 1/8, 1/8, 1/16, 1/16, 1/16, 1/16, 1/8, 1/8, 1/16, 1/16,\n",
    "        1/8, 1/8, 1/8, 1/16, 1/16, 1/16, 1/16, 1/8, 1/8, 1/16, 1/16\n",
    "    ]\n",
    "    generated_notes = [note_dictionary[x] for x in self_notes]\n",
    "    generated_durations = [duration_dictionary[x] for x in self_durations]\n",
    "    generated = [generated_notes, generated_durations]\n",
    "else:\n",
    "    self_notes = [\n",
    "        '49.36.', '', '44.36.', '', '44.38.', '', '44.36.', '38.', '44.36.', '38.', '44.36.', '', '44.38.', '', '44.36.', '38.',\n",
    "        '44.36.', '', '44.36.', '', '44.38.', '', '44.36.', '38.', '44.36.', '38.', '44.36.', '', '44.38.', '', '44.36.', '38.',\n",
    "    ]\n",
    "    generated = [note_dictionary[x] for x in self_notes]"
   ]
  },
  {
   "cell_type": "code",
   "execution_count": 16,
   "metadata": {},
   "outputs": [
    {
     "data": {
      "application/vnd.jupyter.widget-view+json": {
       "model_id": "dcfba8347dbd4afc94522ca21f54b3e3",
       "version_major": 2,
       "version_minor": 0
      },
      "text/plain": [
       "  0%|          | 0/100 [00:00<?, ?it/s]"
      ]
     },
     "metadata": {},
     "output_type": "display_data"
    }
   ],
   "source": [
    "temperature = 0.5\n",
    "n_generated = 100\n",
    "\n",
    "att_matrix = np.zeros((n_generated+seq_length, n_generated))\n",
    "\n",
    "for i in tqdm(range(n_generated)):\n",
    "    if use_durations:\n",
    "        note_pred, duration_pred = RNN.model.predict([np.array(generated[0][i:]), np.array(generated[1][i:])])\n",
    "        generated[0].append(sample(note_pred[0], temperature))\n",
    "        generated[1].append(sample(duration_pred[0], temperature))\n",
    "    else:\n",
    "        note_pred = RNN.model.predict([generated[i:]])\n",
    "        generated.append(sample(note_pred[0], temperature))\n",
    "#     if use_attention:\n",
    "#         att_preds = RNN.att_model.predict(generated[i:])[0]\n",
    "#         att_matrix[(i-len(att_preds)+seq_length):(i+seq_length), i] = att_preds"
   ]
  },
  {
   "cell_type": "code",
   "execution_count": 17,
   "metadata": {},
   "outputs": [
    {
     "data": {
      "text/plain": [
       "['51.36.',\n",
       " '43.45.',\n",
       " '52.',\n",
       " '43.36.',\n",
       " '43.41.36.',\n",
       " '51.38.',\n",
       " '55.48.38.',\n",
       " '52.38.36.',\n",
       " '46.38.36.',\n",
       " '41.',\n",
       " '53.',\n",
       " '52.43.36.',\n",
       " '42.38.36.',\n",
       " '44.51.']"
      ]
     },
     "execution_count": 17,
     "metadata": {},
     "output_type": "execute_result"
    }
   ],
   "source": [
    "if use_durations:\n",
    "    generated_to_notes = [inv_note_dictionary[i] for i in generated[0]]\n",
    "    generated_to_durations = [inv_dur_dictionary[i] for i in generated[1]]\n",
    "else:\n",
    "    generated_to_notes = [inv_note_dictionary[i] for i in generated]\n",
    "generated_to_notes[64:78]"
   ]
  },
  {
   "cell_type": "code",
   "execution_count": 18,
   "metadata": {},
   "outputs": [],
   "source": [
    "if use_durations:\n",
    "    generated = [generated_to_notes, generated_to_durations]\n",
    "else:\n",
    "    generated = generated_to_notes"
   ]
  },
  {
   "cell_type": "code",
   "execution_count": 19,
   "metadata": {},
   "outputs": [],
   "source": [
    "save_notes_and_durations(generated, 'output')"
   ]
  },
  {
   "cell_type": "code",
   "execution_count": 20,
   "metadata": {},
   "outputs": [],
   "source": [
    "# if use_attention:\n",
    "#     fig, ax = plt.subplots(figsize=(20,20))\n",
    "#     im = ax.imshow(att_matrix[(seq_length-2):,], cmap='coolwarm', interpolation='nearest')\n",
    "#     ax.set_xticks(np.arange(-.5, len(generated_to_notes)- seq_length, 1), minor=True);\n",
    "#     ax.set_yticks(np.arange(-.5, len(generated_to_notes)- seq_length, 1), minor=True);\n",
    "#     ax.grid(which='minor', color='black', linestyle='-', linewidth=1)\n",
    "#     ax.set_xticks(np.arange(len(generated_to_notes) - seq_length))\n",
    "#     ax.set_yticks(np.arange(len(generated_to_notes)- seq_length+2))\n",
    "#     ax.set_xticklabels([n for n in generated_to_notes[(seq_length):]])\n",
    "#     ax.set_yticklabels([n for n in generated_to_notes[(seq_length - 2):]])\n",
    "#     ax.xaxis.tick_top()    \n",
    "#     plt.setp(ax.get_xticklabels(), rotation=90, ha=\"left\", va = \"center\",\n",
    "#              rotation_mode=\"anchor\")\n",
    "\n",
    "#     plt.show()"
   ]
  },
  {
   "cell_type": "code",
   "execution_count": null,
   "metadata": {},
   "outputs": [],
   "source": []
  }
 ],
 "metadata": {
  "kernelspec": {
   "display_name": "Python 3",
   "language": "python",
   "name": "python3"
  },
  "language_info": {
   "codemirror_mode": {
    "name": "ipython",
    "version": 3
   },
   "file_extension": ".py",
   "mimetype": "text/x-python",
   "name": "python",
   "nbconvert_exporter": "python",
   "pygments_lexer": "ipython3",
   "version": "3.8.5"
  }
 },
 "nbformat": 4,
 "nbformat_minor": 4
}
