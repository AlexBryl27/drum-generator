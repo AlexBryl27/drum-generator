{
 "cells": [
  {
   "cell_type": "code",
   "execution_count": 30,
   "metadata": {},
   "outputs": [],
   "source": [
    "import guitarpro\n",
    "from music21 import instrument, note, stream, chord, duration\n",
    "\n",
    "import os\n",
    "import numpy as np\n",
    "from tqdm.notebook import tqdm\n",
    "from tensorflow.keras.utils import to_categorical\n",
    "from tensorflow.keras.callbacks import ModelCheckpoint, EarlyStopping\n",
    "\n",
    "import matplotlib.pyplot as plt\n",
    "\n",
    "from model import NotesRNN"
   ]
  },
  {
   "cell_type": "code",
   "execution_count": 3,
   "metadata": {},
   "outputs": [],
   "source": [
    "folderpath = \"tabs/necro/\""
   ]
  },
  {
   "cell_type": "code",
   "execution_count": 14,
   "metadata": {},
   "outputs": [],
   "source": [
    "def get_drum_notes(tab):\n",
    "    \n",
    "    for track in tab.tracks:\n",
    "        if track.isPercussionTrack:\n",
    "            break\n",
    "    \n",
    "    notes = []\n",
    "    for measure in track.measures:\n",
    "        for beat in measure.voices[0].beats:\n",
    "            # pass empty measures\n",
    "            if len(measure.voices[0].beats) == 1 and len(beat.notes) == 0:\n",
    "                continue\n",
    "            poly_note = ''\n",
    "            for note in beat.notes:\n",
    "                # replace different snare kicks\n",
    "                if note.value == 40:\n",
    "                    note.value = 38\n",
    "                poly_note += str(note.value) + '.'\n",
    "            notes.append(poly_note)\n",
    "    \n",
    "    return notes"
   ]
  },
  {
   "cell_type": "code",
   "execution_count": 15,
   "metadata": {},
   "outputs": [],
   "source": [
    "notes = []\n",
    "for filename in os.listdir(folderpath):\n",
    "    tab = guitarpro.parse(folderpath + filename)\n",
    "    notes += get_drum_notes(tab)"
   ]
  },
  {
   "cell_type": "code",
   "execution_count": 16,
   "metadata": {},
   "outputs": [
    {
     "data": {
      "text/plain": [
       "18233"
      ]
     },
     "execution_count": 16,
     "metadata": {},
     "output_type": "execute_result"
    }
   ],
   "source": [
    "len(notes)"
   ]
  },
  {
   "cell_type": "code",
   "execution_count": 17,
   "metadata": {},
   "outputs": [
    {
     "data": {
      "text/plain": [
       "[13, 74, 0, 74, 45, 0, 74, 74, 0, 74]"
      ]
     },
     "execution_count": 17,
     "metadata": {},
     "output_type": "execute_result"
    }
   ],
   "source": [
    "dictionary = {note: i for i, note in enumerate(set(notes))}\n",
    "inv_dictionary = {i: note for note, i in dictionary.items()}\n",
    "notes_to_int = [dictionary[note] for note in notes]\n",
    "notes_to_int[:10]"
   ]
  },
  {
   "cell_type": "code",
   "execution_count": 18,
   "metadata": {},
   "outputs": [
    {
     "data": {
      "text/plain": [
       "['46.36.', '42.', '', '42.', '51.38.', '', '42.', '42.', '', '42.']"
      ]
     },
     "execution_count": 18,
     "metadata": {},
     "output_type": "execute_result"
    }
   ],
   "source": [
    "notes[:10]"
   ]
  },
  {
   "cell_type": "code",
   "execution_count": 21,
   "metadata": {},
   "outputs": [
    {
     "data": {
      "text/plain": [
       "174"
      ]
     },
     "execution_count": 21,
     "metadata": {},
     "output_type": "execute_result"
    }
   ],
   "source": [
    "len(dictionary)"
   ]
  },
  {
   "cell_type": "code",
   "execution_count": 20,
   "metadata": {},
   "outputs": [],
   "source": [
    "def prepare_sequences(notes, dict_size, length, step):\n",
    "    sequences = []\n",
    "    targets = []\n",
    "    for i in range(0, len(notes) - length, step):\n",
    "        sequences.append(notes[i: i + length])\n",
    "        targets.append(notes[i + length])\n",
    "    targets = to_categorical(targets, dict_size)\n",
    "    return sequences, targets"
   ]
  },
  {
   "cell_type": "code",
   "execution_count": 22,
   "metadata": {},
   "outputs": [],
   "source": [
    "X, y = prepare_sequences(notes_to_int, len(dictionary), 32, 1)"
   ]
  },
  {
   "cell_type": "code",
   "execution_count": 23,
   "metadata": {},
   "outputs": [],
   "source": [
    "RNN = NotesRNN(len(dictionary), 100, 256, 2, False, True)"
   ]
  },
  {
   "cell_type": "code",
   "execution_count": 24,
   "metadata": {},
   "outputs": [
    {
     "name": "stdout",
     "output_type": "stream",
     "text": [
      "Model: \"model\"\n",
      "__________________________________________________________________________________________________\n",
      "Layer (type)                    Output Shape         Param #     Connected to                     \n",
      "==================================================================================================\n",
      "input_1 (InputLayer)            [(None, None)]       0                                            \n",
      "__________________________________________________________________________________________________\n",
      "embedding (Embedding)           (None, None, 100)    17400       input_1[0][0]                    \n",
      "__________________________________________________________________________________________________\n",
      "lstm (LSTM)                     (None, None, 256)    365568      embedding[0][0]                  \n",
      "__________________________________________________________________________________________________\n",
      "lstm_1 (LSTM)                   (None, None, 256)    525312      lstm[0][0]                       \n",
      "__________________________________________________________________________________________________\n",
      "dense (Dense)                   (None, None, 1)      257         lstm_1[0][0]                     \n",
      "__________________________________________________________________________________________________\n",
      "reshape (Reshape)               (None, None)         0           dense[0][0]                      \n",
      "__________________________________________________________________________________________________\n",
      "activation (Activation)         (None, None)         0           reshape[0][0]                    \n",
      "__________________________________________________________________________________________________\n",
      "repeat_vector (RepeatVector)    (None, 256, None)    0           activation[0][0]                 \n",
      "__________________________________________________________________________________________________\n",
      "permute (Permute)               (None, None, 256)    0           repeat_vector[0][0]              \n",
      "__________________________________________________________________________________________________\n",
      "multiply (Multiply)             (None, None, 256)    0           lstm_1[0][0]                     \n",
      "                                                                 permute[0][0]                    \n",
      "__________________________________________________________________________________________________\n",
      "lambda (Lambda)                 (None, 256)          0           multiply[0][0]                   \n",
      "__________________________________________________________________________________________________\n",
      "dense_1 (Dense)                 (None, 174)          44718       lambda[0][0]                     \n",
      "==================================================================================================\n",
      "Total params: 953,255\n",
      "Trainable params: 953,255\n",
      "Non-trainable params: 0\n",
      "__________________________________________________________________________________________________\n"
     ]
    }
   ],
   "source": [
    "RNN.model.summary()"
   ]
  },
  {
   "cell_type": "code",
   "execution_count": 25,
   "metadata": {},
   "outputs": [],
   "source": [
    "X = np.array(X)\n",
    "y = np.array(y)"
   ]
  },
  {
   "cell_type": "code",
   "execution_count": 26,
   "metadata": {},
   "outputs": [
    {
     "name": "stdout",
     "output_type": "stream",
     "text": [
      "Epoch 1/20\n",
      "455/455 [==============================] - 36s 76ms/step - loss: 2.9647 - val_loss: 2.6314\n",
      "Epoch 2/20\n",
      "455/455 [==============================] - 33s 72ms/step - loss: 2.5329 - val_loss: 2.5696\n",
      "Epoch 3/20\n",
      "455/455 [==============================] - 33s 72ms/step - loss: 2.4341 - val_loss: 2.5672\n",
      "Epoch 4/20\n",
      "455/455 [==============================] - 33s 73ms/step - loss: 2.3669 - val_loss: 2.5198\n",
      "Epoch 5/20\n",
      "455/455 [==============================] - 34s 74ms/step - loss: 2.2822 - val_loss: 2.5307\n",
      "Epoch 6/20\n",
      "455/455 [==============================] - 33s 72ms/step - loss: 2.1821 - val_loss: 2.5360\n",
      "Epoch 7/20\n",
      "455/455 [==============================] - 31s 69ms/step - loss: 2.1182 - val_loss: 2.5890\n",
      "Epoch 8/20\n",
      "455/455 [==============================] - 29s 64ms/step - loss: 2.0288 - val_loss: 2.6039\n",
      "Epoch 9/20\n",
      "455/455 [==============================] - 29s 64ms/step - loss: 1.9201 - val_loss: 2.6546\n",
      "Epoch 10/20\n",
      "455/455 [==============================] - 31s 67ms/step - loss: 1.8073 - val_loss: 2.7012\n",
      "Epoch 11/20\n",
      "455/455 [==============================] - 31s 68ms/step - loss: 1.7019 - val_loss: 2.7734\n",
      "Epoch 12/20\n",
      "455/455 [==============================] - 29s 64ms/step - loss: 1.6032 - val_loss: 2.8394\n",
      "Epoch 13/20\n",
      "455/455 [==============================] - 30s 66ms/step - loss: 1.5018 - val_loss: 2.9063\n",
      "Epoch 14/20\n",
      "455/455 [==============================] - 30s 65ms/step - loss: 1.4163 - val_loss: 2.9443\n",
      "Epoch 15/20\n",
      "455/455 [==============================] - 31s 68ms/step - loss: 1.3142 - val_loss: 3.0209\n",
      "Epoch 16/20\n",
      "455/455 [==============================] - 33s 72ms/step - loss: 1.2300 - val_loss: 3.1266\n",
      "Epoch 17/20\n",
      "455/455 [==============================] - 33s 73ms/step - loss: 1.1475 - val_loss: 3.2748\n",
      "Epoch 18/20\n",
      "455/455 [==============================] - 33s 73ms/step - loss: 1.0393 - val_loss: 3.2232\n",
      "Epoch 19/20\n",
      "455/455 [==============================] - 33s 73ms/step - loss: 0.9767 - val_loss: 3.4171\n",
      "Epoch 20/20\n",
      "455/455 [==============================] - 33s 73ms/step - loss: 0.8970 - val_loss: 3.5514\n"
     ]
    },
    {
     "data": {
      "text/plain": [
       "<tensorflow.python.keras.callbacks.History at 0x7fd17a865a60>"
      ]
     },
     "execution_count": 26,
     "metadata": {},
     "output_type": "execute_result"
    }
   ],
   "source": [
    "RNN.model.fit(\n",
    "    X, y,\n",
    "    epochs=20,\n",
    "    batch_size=32,\n",
    "    validation_split=0.2,\n",
    "    shuffle=True\n",
    ")"
   ]
  },
  {
   "cell_type": "code",
   "execution_count": 32,
   "metadata": {},
   "outputs": [
    {
     "data": {
      "image/png": "[encoded data removed]",
      "text/plain": [
       "<Figure size 432x288 with 1 Axes>"
      ]
     },
     "metadata": {
      "image/png": {
       "height": 248,
       "width": 372
      },
      "needs_background": "light"
     },
     "output_type": "display_data"
    }
   ],
   "source": [
    "plt.figure()\n",
    "plt.plot(RNN.model.history.history['loss'], label='loss')\n",
    "plt.plot(RNN.model.history.history['val_loss'], label='val_loss')\n",
    "plt.legend()\n",
    "plt.show()"
   ]
  },
  {
   "cell_type": "code",
   "execution_count": 33,
   "metadata": {},
   "outputs": [],
   "source": [
    "def sample(preds, temperature):\n",
    "    if temperature == 0:\n",
    "        return np.argmax(preds)\n",
    "    else:\n",
    "        preds = np.log(preds) / temperature\n",
    "        exp_preds = np.exp(preds)\n",
    "        preds = exp_preds / np.sum(exp_preds)\n",
    "        return np.random.choice(len(preds), p=preds)"
   ]
  },
  {
   "cell_type": "code",
   "execution_count": 34,
   "metadata": {},
   "outputs": [
    {
     "data": {
      "application/vnd.jupyter.widget-view+json": {
       "model_id": "7394edc3f9bd4cfda5c79b6edff65606",
       "version_major": 2,
       "version_minor": 0
      },
      "text/plain": [
       "  0%|          | 0/100 [00:00<?, ?it/s]"
      ]
     },
     "metadata": {},
     "output_type": "display_data"
    }
   ],
   "source": [
    "temperature = 0.1\n",
    "generated = notes_to_int[:32]\n",
    "\n",
    "for i in tqdm(range(100)):\n",
    "    preds = RNN.model.predict(generated[i:])[0]\n",
    "    generated.append(sample(preds, temperature))"
   ]
  },
  {
   "cell_type": "code",
   "execution_count": 37,
   "metadata": {},
   "outputs": [
    {
     "data": {
      "text/plain": [
       "['44.38.', '44.38.', '', '44.38.', '44.38.', '', '44.38.', '44.38.']"
      ]
     },
     "execution_count": 37,
     "metadata": {},
     "output_type": "execute_result"
    }
   ],
   "source": [
    "generated_to_notes = [inv_dictionary[i] for i in generated]\n",
    "generated_to_notes[32:40]"
   ]
  },
  {
   "cell_type": "code",
   "execution_count": 51,
   "metadata": {},
   "outputs": [],
   "source": [
    "midi_stream = stream.Stream()\n",
    "\n",
    "for gen_notes in generated_to_notes:\n",
    "    \n",
    "    gen_notes = gen_notes.split('.')[:-1]\n",
    "    # chord\n",
    "    if len(gen_notes) > 1:\n",
    "        cur_chord = []\n",
    "        for cur_note in gen_notes:\n",
    "            new_note = note.Note(int(cur_note))\n",
    "            new_note.duration = duration.Duration(type='16th')\n",
    "            new_note.soredInstrument = instrument.Percussion()\n",
    "            cur_chord.append(new_note)\n",
    "        midi_stream.append(chord.Chord(cur_chord))\n",
    "    elif gen_notes != []:\n",
    "        new_note = note.Note(int(gen_notes[0]))\n",
    "        new_note.duration = duration.Duration(type='16th')\n",
    "        new_note.soredInstrument = instrument.Percussion()\n",
    "        midi_stream.append(new_note)\n",
    "    else:\n",
    "        new_note = note.Rest()\n",
    "        new_note.duration = duration.Duration(type='16th')\n",
    "        new_note.storedInstrument = instrument.Violoncello()\n",
    "        midi_stream.append(new_note)\n",
    "        \n",
    "midi_stream = midi_stream.chordify()"
   ]
  },
  {
   "cell_type": "code",
   "execution_count": 53,
   "metadata": {},
   "outputs": [
    {
     "data": {
      "text/plain": [
       "'output.mid'"
      ]
     },
     "execution_count": 53,
     "metadata": {},
     "output_type": "execute_result"
    }
   ],
   "source": [
    "midi_stream.write('midi', fp=os.path.join('output' + '.mid'))"
   ]
  },
  {
   "cell_type": "code",
   "execution_count": null,
   "metadata": {},
   "outputs": [],
   "source": []
  },
  {
   "cell_type": "code",
   "execution_count": null,
   "metadata": {},
   "outputs": [],
   "source": []
  }
 ],
 "metadata": {
  "kernelspec": {
   "display_name": "Python 3",
   "language": "python",
   "name": "python3"
  },
  "language_info": {
   "codemirror_mode": {
    "name": "ipython",
    "version": 3
   },
   "file_extension": ".py",
   "mimetype": "text/x-python",
   "name": "python",
   "nbconvert_exporter": "python",
   "pygments_lexer": "ipython3",
   "version": "3.8.5"
  }
 },
 "nbformat": 4,
 "nbformat_minor": 4
}
