{
 "cells": [
  {
   "cell_type": "markdown",
   "metadata": {},
   "source": [
    "## TODO\n",
    "1. Проверить sound banks не на линухе, м.б. экспортнуть сразу в гитарпро на винде, т.к. на линухе все играет стандартное пианино.\n",
    "2. Если экспортировать в drum не получится - перевести все ноты в набор основных звуков: кик, снейр, хэт, крэш и т.д., то, что есть в music21\n",
    "3. Val loss всегда растет независимо от архитектуры. М.б. стоит избавиться от пауз, которые составляют 40 % партий и добавить конкатенацию с массивом длительностей\n",
    "4. Или просто добавить больше партий?"
   ]
  },
  {
   "cell_type": "code",
   "execution_count": 1,
   "metadata": {},
   "outputs": [],
   "source": [
    "import os\n",
    "import numpy as np\n",
    "from tqdm.notebook import tqdm\n",
    "import guitarpro\n",
    "\n",
    "import matplotlib.pyplot as plt\n",
    "\n",
    "from src.model import NotesRNN\n",
    "from src.parse_gp import drop_rests_from_drum_track, get_notes_and_durations\n",
    "from src.save_midi import save_notes_and_durations, save_notes"
   ]
  },
  {
   "cell_type": "markdown",
   "metadata": {},
   "source": [
    "Изначально было интересно проверить возможность генерации барабанных дорожек в своем стиле. Поэтому в коде отражены особенности написания барабанных партий именно мной.\n",
    "\n",
    "А именно: простой бит в 4/4 |36 38 36 38| (36 - бочка, 38 - рабочий) можно описать 4-я нотами и 4-я длительностями в 1/4. \n",
    "\n",
    "Я же написал бы тот же такт таким образом: |36 R R R 38 R R R 36 R R R 38 R R R|, где R - просто пауза и все длительности 1/16. Поэтому после парсинга ударных в списке нот до 40% пауз, которые могли усложнить модель (по факту нет).\n",
    "\n",
    "Поэтому по мере роста гипотез добавились функции дропа этих пауз и парсинга оригинальных длительностей, так что теперь можно применять код для парсинга любой дорожки и использовать модель с конкатенацией как нот, так и длительностей."
   ]
  },
  {
   "cell_type": "code",
   "execution_count": 2,
   "metadata": {},
   "outputs": [],
   "source": [
    "folderpath = \"tabs/\"\n",
    "use_durations = True\n",
    "drop_rests = False"
   ]
  },
  {
   "cell_type": "code",
   "execution_count": 3,
   "metadata": {},
   "outputs": [
    {
     "data": {
      "application/vnd.jupyter.widget-view+json": {
       "model_id": "85ef9e08da524cc593481be618fafd19",
       "version_major": 2,
       "version_minor": 0
      },
      "text/plain": [
       "  0%|          | 0/12 [00:00<?, ?it/s]"
      ]
     },
     "metadata": {},
     "output_type": "display_data"
    }
   ],
   "source": [
    "notes, durations = [], []\n",
    "for folder in os.listdir(folderpath):\n",
    "    for filename in tqdm(os.listdir(folderpath + folder + '/')):\n",
    "        tab = guitarpro.parse(folderpath + folder + '/' + filename)\n",
    "        tab_notes, tab_durations = get_notes_and_durations(tab, False)\n",
    "        notes += tab_notes\n",
    "        durations += tab_durations"
   ]
  },
  {
   "cell_type": "code",
   "execution_count": 4,
   "metadata": {},
   "outputs": [
    {
     "data": {
      "text/plain": [
       "True"
      ]
     },
     "execution_count": 4,
     "metadata": {},
     "output_type": "execute_result"
    }
   ],
   "source": [
    "len(notes) == len(durations)"
   ]
  },
  {
   "cell_type": "code",
   "execution_count": 5,
   "metadata": {},
   "outputs": [],
   "source": [
    "if drop_rests:\n",
    "    notes, durations = drop_rests_from_drum_track(notes)"
   ]
  },
  {
   "cell_type": "code",
   "execution_count": 6,
   "metadata": {},
   "outputs": [
    {
     "data": {
      "text/plain": [
       "[109, 136, 149, 0, 72, 136, 149, 72, 0, 126]"
      ]
     },
     "execution_count": 6,
     "metadata": {},
     "output_type": "execute_result"
    }
   ],
   "source": [
    "note_dictionary = {note: i for i, note in enumerate(set(notes))}\n",
    "inv_note_dictionary = {i: note for note, i in note_dictionary.items()}\n",
    "notes_to_int = [note_dictionary[note] for note in notes]\n",
    "notes_to_int[:10]"
   ]
  },
  {
   "cell_type": "code",
   "execution_count": 7,
   "metadata": {},
   "outputs": [
    {
     "data": {
      "text/plain": [
       "['del', '0.', '6.', '', '4.', '0.', '6.', '4.', '', '2.']"
      ]
     },
     "execution_count": 7,
     "metadata": {},
     "output_type": "execute_result"
    }
   ],
   "source": [
    "notes[:10]"
   ]
  },
  {
   "cell_type": "code",
   "execution_count": 8,
   "metadata": {},
   "outputs": [
    {
     "data": {
      "text/plain": [
       "5421"
      ]
     },
     "execution_count": 8,
     "metadata": {},
     "output_type": "execute_result"
    }
   ],
   "source": [
    "len(notes)"
   ]
  },
  {
   "cell_type": "code",
   "execution_count": 9,
   "metadata": {},
   "outputs": [
    {
     "data": {
      "text/plain": [
       "175"
      ]
     },
     "execution_count": 9,
     "metadata": {},
     "output_type": "execute_result"
    }
   ],
   "source": [
    "len(note_dictionary)"
   ]
  },
  {
   "cell_type": "code",
   "execution_count": 10,
   "metadata": {},
   "outputs": [
    {
     "name": "stdout",
     "output_type": "stream",
     "text": [
      "6\n"
     ]
    }
   ],
   "source": [
    "if use_durations:\n",
    "    duration_dictionary = {dur: i for i, dur in enumerate(set(durations))}\n",
    "    inv_dur_dictionary = {i: dur for dur, i in duration_dictionary.items()}\n",
    "    durations_to_int = [duration_dictionary[dur] for dur in durations]\n",
    "    durations_to_int[:10]\n",
    "    print(len(duration_dictionary))\n",
    "else:\n",
    "    durations_to_int = None"
   ]
  },
  {
   "cell_type": "code",
   "execution_count": 12,
   "metadata": {},
   "outputs": [],
   "source": [
    "n_notes = len(note_dictionary)\n",
    "n_durations = len(duration_dictionary) if use_durations else None\n",
    "emb_size = 100\n",
    "n_units = 128\n",
    "n_layers = 2\n",
    "use_dropout = True\n",
    "use_attention = True"
   ]
  },
  {
   "cell_type": "code",
   "execution_count": 13,
   "metadata": {},
   "outputs": [],
   "source": [
    "RNN = NotesRNN(\n",
    "    n_notes,\n",
    "    n_durations,\n",
    "    emb_size,\n",
    "    n_units,\n",
    "    n_layers,\n",
    "    use_dropout,\n",
    "    use_attention,\n",
    "    use_durations\n",
    ")"
   ]
  },
  {
   "cell_type": "code",
   "execution_count": 14,
   "metadata": {},
   "outputs": [
    {
     "name": "stdout",
     "output_type": "stream",
     "text": [
      "Model: \"model\"\n",
      "__________________________________________________________________________________________________\n",
      "Layer (type)                    Output Shape         Param #     Connected to                     \n",
      "==================================================================================================\n",
      "input_1 (InputLayer)            [(None, None)]       0                                            \n",
      "__________________________________________________________________________________________________\n",
      "input_2 (InputLayer)            [(None, None)]       0                                            \n",
      "__________________________________________________________________________________________________\n",
      "embedding (Embedding)           (None, None, 100)    17500       input_1[0][0]                    \n",
      "__________________________________________________________________________________________________\n",
      "embedding_1 (Embedding)         (None, None, 100)    600         input_2[0][0]                    \n",
      "__________________________________________________________________________________________________\n",
      "concatenate (Concatenate)       (None, None, 200)    0           embedding[0][0]                  \n",
      "                                                                 embedding_1[0][0]                \n",
      "__________________________________________________________________________________________________\n",
      "lstm (LSTM)                     (None, None, 128)    168448      concatenate[0][0]                \n",
      "__________________________________________________________________________________________________\n",
      "dropout (Dropout)               (None, None, 128)    0           lstm[0][0]                       \n",
      "__________________________________________________________________________________________________\n",
      "lstm_1 (LSTM)                   (None, None, 128)    131584      dropout[0][0]                    \n",
      "__________________________________________________________________________________________________\n",
      "dropout_1 (Dropout)             (None, None, 128)    0           lstm_1[0][0]                     \n",
      "__________________________________________________________________________________________________\n",
      "dense (Dense)                   (None, None, 1)      129         dropout_1[0][0]                  \n",
      "__________________________________________________________________________________________________\n",
      "reshape (Reshape)               (None, None)         0           dense[0][0]                      \n",
      "__________________________________________________________________________________________________\n",
      "activation (Activation)         (None, None)         0           reshape[0][0]                    \n",
      "__________________________________________________________________________________________________\n",
      "repeat_vector (RepeatVector)    (None, 128, None)    0           activation[0][0]                 \n",
      "__________________________________________________________________________________________________\n",
      "permute (Permute)               (None, None, 128)    0           repeat_vector[0][0]              \n",
      "__________________________________________________________________________________________________\n",
      "multiply (Multiply)             (None, None, 128)    0           dropout_1[0][0]                  \n",
      "                                                                 permute[0][0]                    \n",
      "__________________________________________________________________________________________________\n",
      "lambda (Lambda)                 (None, 128)          0           multiply[0][0]                   \n",
      "__________________________________________________________________________________________________\n",
      "dense_1 (Dense)                 (None, 175)          22575       lambda[0][0]                     \n",
      "__________________________________________________________________________________________________\n",
      "dense_2 (Dense)                 (None, 6)            774         lambda[0][0]                     \n",
      "==================================================================================================\n",
      "Total params: 341,610\n",
      "Trainable params: 341,610\n",
      "Non-trainable params: 0\n",
      "__________________________________________________________________________________________________\n"
     ]
    }
   ],
   "source": [
    "RNN.model.summary()"
   ]
  },
  {
   "cell_type": "code",
   "execution_count": 15,
   "metadata": {},
   "outputs": [],
   "source": [
    "seq_length = 32\n",
    "step = 1\n",
    "X, y = RNN.prepare_sequences(notes_to_int, durations_to_int, seq_length, step)"
   ]
  },
  {
   "cell_type": "code",
   "execution_count": 16,
   "metadata": {
    "tags": []
   },
   "outputs": [
    {
     "name": "stdout",
     "output_type": "stream",
     "text": [
      "Epoch 1/10\n",
      "135/135 [==============================] - 7s 34ms/step - loss: 5.2143 - dense_1_loss: 3.9289 - dense_2_loss: 1.2854 - val_loss: 5.8871 - val_dense_1_loss: 4.5611 - val_dense_2_loss: 1.3261\n",
      "Epoch 2/10\n",
      "135/135 [==============================] - 4s 29ms/step - loss: 4.1952 - dense_1_loss: 3.1476 - dense_2_loss: 1.0477 - val_loss: 5.9974 - val_dense_1_loss: 4.6397 - val_dense_2_loss: 1.3576\n",
      "Epoch 3/10\n",
      "135/135 [==============================] - 4s 30ms/step - loss: 3.7847 - dense_1_loss: 2.8453 - dense_2_loss: 0.9393 - val_loss: 5.7966 - val_dense_1_loss: 4.5129 - val_dense_2_loss: 1.2838\n",
      "Epoch 4/10\n",
      "135/135 [==============================] - 4s 29ms/step - loss: 3.5077 - dense_1_loss: 2.6491 - dense_2_loss: 0.8585 - val_loss: 6.0719 - val_dense_1_loss: 4.6934 - val_dense_2_loss: 1.3785\n",
      "Epoch 5/10\n",
      "135/135 [==============================] - 4s 28ms/step - loss: 3.3499 - dense_1_loss: 2.5305 - dense_2_loss: 0.8193 - val_loss: 6.1709 - val_dense_1_loss: 4.7869 - val_dense_2_loss: 1.3841\n",
      "Epoch 6/10\n",
      "135/135 [==============================] - 4s 28ms/step - loss: 3.2252 - dense_1_loss: 2.4141 - dense_2_loss: 0.8111 - val_loss: 6.0249 - val_dense_1_loss: 4.6483 - val_dense_2_loss: 1.3766\n",
      "Epoch 7/10\n",
      "135/135 [==============================] - 4s 29ms/step - loss: 3.1271 - dense_1_loss: 2.3355 - dense_2_loss: 0.7915 - val_loss: 6.1183 - val_dense_1_loss: 4.7211 - val_dense_2_loss: 1.3971\n",
      "Epoch 8/10\n",
      "135/135 [==============================] - 4s 29ms/step - loss: 2.9650 - dense_1_loss: 2.2331 - dense_2_loss: 0.7320 - val_loss: 6.1852 - val_dense_1_loss: 4.8215 - val_dense_2_loss: 1.3637\n",
      "Epoch 9/10\n",
      "135/135 [==============================] - 4s 29ms/step - loss: 2.9358 - dense_1_loss: 2.2101 - dense_2_loss: 0.7256 - val_loss: 6.3528 - val_dense_1_loss: 4.8749 - val_dense_2_loss: 1.4779\n",
      "Epoch 10/10\n",
      "135/135 [==============================] - 4s 29ms/step - loss: 2.8103 - dense_1_loss: 2.1088 - dense_2_loss: 0.7015 - val_loss: 6.4230 - val_dense_1_loss: 4.8801 - val_dense_2_loss: 1.5428\n"
     ]
    },
    {
     "data": {
      "text/plain": [
       "<tensorflow.python.keras.callbacks.History at 0x7f09de613c10>"
      ]
     },
     "execution_count": 16,
     "metadata": {},
     "output_type": "execute_result"
    }
   ],
   "source": [
    "RNN.model.fit(\n",
    "    X, y,\n",
    "    epochs=10,\n",
    "    batch_size=32,\n",
    "    validation_split=0.2,\n",
    "    shuffle=True\n",
    ")"
   ]
  },
  {
   "cell_type": "code",
   "execution_count": 17,
   "metadata": {},
   "outputs": [
    {
     "data": {
      "image/png": "[encoded data removed]",
      "text/plain": [
       "<Figure size 432x288 with 1 Axes>"
      ]
     },
     "metadata": {
      "image/png": {
       "height": 248,
       "width": 372
      },
      "needs_background": "light"
     },
     "output_type": "display_data"
    }
   ],
   "source": [
    "plt.figure()\n",
    "plt.plot(RNN.model.history.history['loss'], label='loss')\n",
    "plt.plot(RNN.model.history.history['val_loss'], label='val_loss')\n",
    "plt.legend()\n",
    "plt.show()"
   ]
  },
  {
   "cell_type": "code",
   "execution_count": 18,
   "metadata": {},
   "outputs": [],
   "source": [
    "def sample(preds, temperature):\n",
    "    if temperature == 0:\n",
    "        return np.argmax(preds)\n",
    "    else:\n",
    "        preds = np.log(preds) / temperature\n",
    "        exp_preds = np.exp(preds)\n",
    "        preds = exp_preds / np.sum(exp_preds)\n",
    "        return np.random.choice(len(preds), p=preds)"
   ]
  },
  {
   "cell_type": "code",
   "execution_count": 25,
   "metadata": {},
   "outputs": [],
   "source": [
    "if use_durations:\n",
    "    self_notes = [\n",
    "        '46.36.', '46.36.', '46.38.', '46.36.', '38.', '46.36.', '38.', '46.36.', '46.38.', '46.36.', '38.',\n",
    "        '46.36.', '46.36.', '46.38.', '46.36.', '38.', '46.36.', '38.', '46.36.', '46.38.', '46.36.', '38.',\n",
    "    ]\n",
    "    self_durations = [\n",
    "        1/8, 1/8, 1/8, 1/16, 1/16, 1/16, 1/16, 1/8, 1/8, 1/16, 1/16,\n",
    "        1/8, 1/8, 1/8, 1/16, 1/16, 1/16, 1/16, 1/8, 1/8, 1/16, 1/16\n",
    "    ]\n",
    "    generated_notes = [note_dictionary[x] for x in self_notes]\n",
    "    generated_durations = [duration_dictionary[x] for x in self_durations]\n",
    "    generated = [generated_notes, generated_durations]\n",
    "else:\n",
    "    self_notes = [\n",
    "        '46.36.', '', '46.36.', '', '46.38.', '', '46.36.', '38.', '46.36.', '38.', '46.36.', '', '46.38.', '', '46.36.', '38.',\n",
    "        '46.36.', '', '46.36.', '', '46.38.', '', '46.36.', '38.', '46.36.', '38.', '46.36.', '', '46.38.', '', '46.36.', '38.',\n",
    "    ]\n",
    "    generated = [note_dictionary[x] for x in self_notes]"
   ]
  },
  {
   "cell_type": "code",
   "execution_count": 23,
   "metadata": {},
   "outputs": [],
   "source": [
    "generated = [[note_dictionary[x] for x in notes[:32]], [duration_dictionary[x] for x in durations[:32]]]"
   ]
  },
  {
   "cell_type": "code",
   "execution_count": 24,
   "metadata": {},
   "outputs": [
    {
     "data": {
      "application/vnd.jupyter.widget-view+json": {
       "model_id": "c0abe9f1bcf240bab8e6658014abad35",
       "version_major": 2,
       "version_minor": 0
      },
      "text/plain": [
       "  0%|          | 0/100 [00:00<?, ?it/s]"
      ]
     },
     "metadata": {},
     "output_type": "display_data"
    }
   ],
   "source": [
    "temperature = 0.5\n",
    "n_generated = 100\n",
    "\n",
    "att_matrix = np.zeros((n_generated+seq_length, n_generated))\n",
    "\n",
    "for i in tqdm(range(n_generated)):\n",
    "    if use_durations:\n",
    "        note_pred, duration_pred = RNN.model.predict([np.array(generated[0][i:]), np.array(generated[1][i:])])\n",
    "        generated[0].append(sample(note_pred[0], temperature))\n",
    "        generated[1].append(sample(duration_pred[0], temperature))\n",
    "    else:\n",
    "        note_pred = RNN.model.predict([generated[i:]])\n",
    "        generated.append(sample(note_pred[0], temperature))\n",
    "#     if use_attention:\n",
    "#         att_preds = RNN.att_model.predict(generated[i:])[0]\n",
    "#         att_matrix[(i-len(att_preds)+seq_length):(i+seq_length), i] = att_preds"
   ]
  },
  {
   "cell_type": "code",
   "execution_count": 25,
   "metadata": {},
   "outputs": [
    {
     "data": {
      "text/plain": [
       "['del',\n",
       " '12.12.',\n",
       " '3.3.3.',\n",
       " '7.5.',\n",
       " '1.0.0.',\n",
       " '0.',\n",
       " '4.4.',\n",
       " 'del',\n",
       " '16.0.',\n",
       " '17.',\n",
       " '9.7.',\n",
       " '',\n",
       " '15.',\n",
       " '5.']"
      ]
     },
     "execution_count": 25,
     "metadata": {},
     "output_type": "execute_result"
    }
   ],
   "source": [
    "if use_durations:\n",
    "    generated_to_notes = [inv_note_dictionary[i] for i in generated[0]]\n",
    "    generated_to_durations = [inv_dur_dictionary[i] for i in generated[1]]\n",
    "else:\n",
    "    generated_to_notes = [inv_note_dictionary[i] for i in generated]\n",
    "generated_to_notes[64:78]"
   ]
  },
  {
   "cell_type": "code",
   "execution_count": 26,
   "metadata": {},
   "outputs": [],
   "source": [
    "if use_durations:\n",
    "    generated = [generated_to_notes, generated_to_durations]\n",
    "else:\n",
    "    generated = generated_to_notes"
   ]
  },
  {
   "cell_type": "code",
   "execution_count": 27,
   "metadata": {},
   "outputs": [],
   "source": [
    "save_notes_and_durations(generated, 'output')\n",
    "#save_notes(generated, 'output')"
   ]
  },
  {
   "cell_type": "code",
   "execution_count": 20,
   "metadata": {},
   "outputs": [],
   "source": [
    "# if use_attention:\n",
    "#     fig, ax = plt.subplots(figsize=(20,20))\n",
    "#     im = ax.imshow(att_matrix[(seq_length-2):,], cmap='coolwarm', interpolation='nearest')\n",
    "#     ax.set_xticks(np.arange(-.5, len(generated_to_notes)- seq_length, 1), minor=True);\n",
    "#     ax.set_yticks(np.arange(-.5, len(generated_to_notes)- seq_length, 1), minor=True);\n",
    "#     ax.grid(which='minor', color='black', linestyle='-', linewidth=1)\n",
    "#     ax.set_xticks(np.arange(len(generated_to_notes) - seq_length))\n",
    "#     ax.set_yticks(np.arange(len(generated_to_notes)- seq_length+2))\n",
    "#     ax.set_xticklabels([n for n in generated_to_notes[(seq_length):]])\n",
    "#     ax.set_yticklabels([n for n in generated_to_notes[(seq_length - 2):]])\n",
    "#     ax.xaxis.tick_top()    \n",
    "#     plt.setp(ax.get_xticklabels(), rotation=90, ha=\"left\", va = \"center\",\n",
    "#              rotation_mode=\"anchor\")\n",
    "\n",
    "#     plt.show()"
   ]
  },
  {
   "cell_type": "code",
   "execution_count": null,
   "metadata": {},
   "outputs": [],
   "source": []
  }
 ],
 "metadata": {
  "kernelspec": {
   "display_name": "Python 3",
   "language": "python",
   "name": "python3"
  },
  "language_info": {
   "codemirror_mode": {
    "name": "ipython",
    "version": 3
   },
   "file_extension": ".py",
   "mimetype": "text/x-python",
   "name": "python",
   "nbconvert_exporter": "python",
   "pygments_lexer": "ipython3",
   "version": "3.8.5"
  }
 },
 "nbformat": 4,
 "nbformat_minor": 4
}
