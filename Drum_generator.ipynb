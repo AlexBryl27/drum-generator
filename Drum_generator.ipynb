{
 "cells": [
  {
   "cell_type": "markdown",
   "metadata": {},
   "source": [
    "## TODO\n",
    "1. Проверить sound banks не на линухе, м.б. экспортнуть сразу в гитарпро на винде, т.к. на линухе все играет стандартное пианино.\n",
    "2. Если экспортировать в drum не получится - перевести все ноты в набор основных звуков: кик, снейр, хэт, крэш и т.д., то, что есть в music21\n",
    "3. Val loss всегда растет независимо от архитектуры. М.б. стоит избавиться от пауз, которые составляют 40 % партий и добавить конкатенацию с массивом длительностей\n",
    "4. Или просто добавить больше партий?"
   ]
  },
  {
   "cell_type": "code",
   "execution_count": 1,
   "metadata": {},
   "outputs": [],
   "source": [
    "import guitarpro\n",
    "from music21 import instrument, note, stream, chord, duration\n",
    "\n",
    "import os\n",
    "import numpy as np\n",
    "from tqdm.notebook import tqdm\n",
    "from tensorflow.keras.utils import to_categorical\n",
    "from tensorflow.keras.callbacks import ModelCheckpoint, EarlyStopping\n",
    "\n",
    "import matplotlib.pyplot as plt\n",
    "\n",
    "from model import NotesRNN"
   ]
  },
  {
   "cell_type": "code",
   "execution_count": 2,
   "metadata": {},
   "outputs": [],
   "source": [
    "folderpath = \"tabs/necro/\""
   ]
  },
  {
   "cell_type": "code",
   "execution_count": 3,
   "metadata": {},
   "outputs": [],
   "source": [
    "def get_drum_notes(tab):\n",
    "    \n",
    "    for track in tab.tracks:\n",
    "        if track.isPercussionTrack:\n",
    "            break\n",
    "    \n",
    "    notes = []\n",
    "    for measure in track.measures:\n",
    "        for beat in measure.voices[0].beats:\n",
    "            # pass empty measures\n",
    "            if len(measure.voices[0].beats) == 1 and len(beat.notes) == 0:\n",
    "                continue\n",
    "            poly_note = ''\n",
    "            for note in beat.notes:\n",
    "                # replace different snare kicks\n",
    "                if note.value == 40:\n",
    "                    note.value = 38\n",
    "                poly_note += str(note.value) + '.'\n",
    "            notes.append(poly_note)\n",
    "    \n",
    "    return notes"
   ]
  },
  {
   "cell_type": "code",
   "execution_count": 4,
   "metadata": {},
   "outputs": [],
   "source": [
    "notes = []\n",
    "for filename in os.listdir(folderpath):\n",
    "    tab = guitarpro.parse(folderpath + filename)\n",
    "    notes += get_drum_notes(tab)"
   ]
  },
  {
   "cell_type": "code",
   "execution_count": 5,
   "metadata": {},
   "outputs": [
    {
     "data": {
      "text/plain": [
       "18233"
      ]
     },
     "execution_count": 5,
     "metadata": {},
     "output_type": "execute_result"
    }
   ],
   "source": [
    "len(notes)"
   ]
  },
  {
   "cell_type": "code",
   "execution_count": 6,
   "metadata": {},
   "outputs": [
    {
     "data": {
      "text/plain": [
       "[37, 161, 0, 161, 4, 0, 161, 161, 0, 161]"
      ]
     },
     "execution_count": 6,
     "metadata": {},
     "output_type": "execute_result"
    }
   ],
   "source": [
    "dictionary = {note: i for i, note in enumerate(set(notes))}\n",
    "inv_dictionary = {i: note for note, i in dictionary.items()}\n",
    "notes_to_int = [dictionary[note] for note in notes]\n",
    "notes_to_int[:10]"
   ]
  },
  {
   "cell_type": "code",
   "execution_count": 7,
   "metadata": {},
   "outputs": [
    {
     "data": {
      "text/plain": [
       "['46.36.', '42.', '', '42.', '51.38.', '', '42.', '42.', '', '42.']"
      ]
     },
     "execution_count": 7,
     "metadata": {},
     "output_type": "execute_result"
    }
   ],
   "source": [
    "notes[:10]"
   ]
  },
  {
   "cell_type": "code",
   "execution_count": 8,
   "metadata": {},
   "outputs": [
    {
     "data": {
      "text/plain": [
       "174"
      ]
     },
     "execution_count": 8,
     "metadata": {},
     "output_type": "execute_result"
    }
   ],
   "source": [
    "len(dictionary)"
   ]
  },
  {
   "cell_type": "code",
   "execution_count": 9,
   "metadata": {},
   "outputs": [],
   "source": [
    "def prepare_sequences(notes, dict_size, length, step):\n",
    "    sequences = []\n",
    "    targets = []\n",
    "    for i in range(0, len(notes) - length, step):\n",
    "        sequences.append(notes[i: i + length])\n",
    "        targets.append(notes[i + length])\n",
    "    targets = to_categorical(targets, dict_size)\n",
    "    return sequences, targets"
   ]
  },
  {
   "cell_type": "code",
   "execution_count": 10,
   "metadata": {},
   "outputs": [],
   "source": [
    "X, y = prepare_sequences(notes_to_int, len(dictionary), 32, 1)"
   ]
  },
  {
   "cell_type": "code",
   "execution_count": 11,
   "metadata": {},
   "outputs": [],
   "source": [
    "RNN = NotesRNN(len(dictionary), 100, 128, 4, True, True)"
   ]
  },
  {
   "cell_type": "code",
   "execution_count": 12,
   "metadata": {},
   "outputs": [
    {
     "name": "stdout",
     "output_type": "stream",
     "text": [
      "Model: \"model\"\n",
      "__________________________________________________________________________________________________\n",
      "Layer (type)                    Output Shape         Param #     Connected to                     \n",
      "==================================================================================================\n",
      "input_1 (InputLayer)            [(None, None)]       0                                            \n",
      "__________________________________________________________________________________________________\n",
      "embedding (Embedding)           (None, None, 100)    17400       input_1[0][0]                    \n",
      "__________________________________________________________________________________________________\n",
      "lstm (LSTM)                     (None, None, 128)    117248      embedding[0][0]                  \n",
      "__________________________________________________________________________________________________\n",
      "dropout (Dropout)               (None, None, 128)    0           lstm[0][0]                       \n",
      "__________________________________________________________________________________________________\n",
      "lstm_1 (LSTM)                   (None, None, 128)    131584      dropout[0][0]                    \n",
      "__________________________________________________________________________________________________\n",
      "dropout_1 (Dropout)             (None, None, 128)    0           lstm_1[0][0]                     \n",
      "__________________________________________________________________________________________________\n",
      "lstm_2 (LSTM)                   (None, None, 128)    131584      dropout_1[0][0]                  \n",
      "__________________________________________________________________________________________________\n",
      "dropout_2 (Dropout)             (None, None, 128)    0           lstm_2[0][0]                     \n",
      "__________________________________________________________________________________________________\n",
      "lstm_3 (LSTM)                   (None, None, 128)    131584      dropout_2[0][0]                  \n",
      "__________________________________________________________________________________________________\n",
      "dropout_3 (Dropout)             (None, None, 128)    0           lstm_3[0][0]                     \n",
      "__________________________________________________________________________________________________\n",
      "dense (Dense)                   (None, None, 1)      129         dropout_3[0][0]                  \n",
      "__________________________________________________________________________________________________\n",
      "reshape (Reshape)               (None, None)         0           dense[0][0]                      \n",
      "__________________________________________________________________________________________________\n",
      "activation (Activation)         (None, None)         0           reshape[0][0]                    \n",
      "__________________________________________________________________________________________________\n",
      "repeat_vector (RepeatVector)    (None, 128, None)    0           activation[0][0]                 \n",
      "__________________________________________________________________________________________________\n",
      "permute (Permute)               (None, None, 128)    0           repeat_vector[0][0]              \n",
      "__________________________________________________________________________________________________\n",
      "multiply (Multiply)             (None, None, 128)    0           dropout_3[0][0]                  \n",
      "                                                                 permute[0][0]                    \n",
      "__________________________________________________________________________________________________\n",
      "lambda (Lambda)                 (None, 128)          0           multiply[0][0]                   \n",
      "__________________________________________________________________________________________________\n",
      "dense_1 (Dense)                 (None, 174)          22446       lambda[0][0]                     \n",
      "==================================================================================================\n",
      "Total params: 551,975\n",
      "Trainable params: 551,975\n",
      "Non-trainable params: 0\n",
      "__________________________________________________________________________________________________\n"
     ]
    }
   ],
   "source": [
    "RNN.model.summary()"
   ]
  },
  {
   "cell_type": "code",
   "execution_count": 13,
   "metadata": {},
   "outputs": [],
   "source": [
    "X = np.array(X)\n",
    "y = np.array(y)"
   ]
  },
  {
   "cell_type": "code",
   "execution_count": null,
   "metadata": {},
   "outputs": [
    {
     "name": "stdout",
     "output_type": "stream",
     "text": [
      "Epoch 1/20\n",
      "455/455 [==============================] - 27s 52ms/step - loss: 2.9715 - val_loss: 2.6592\n",
      "Epoch 2/20\n",
      "455/455 [==============================] - 22s 49ms/step - loss: 2.6876 - val_loss: 2.6036\n",
      "Epoch 3/20\n",
      "455/455 [==============================] - 22s 49ms/step - loss: 2.5396 - val_loss: 2.5818\n",
      "Epoch 4/20\n",
      "455/455 [==============================] - 22s 49ms/step - loss: 2.4785 - val_loss: 2.5779\n",
      "Epoch 5/20\n",
      "455/455 [==============================] - 22s 49ms/step - loss: 2.4317 - val_loss: 2.6125\n",
      "Epoch 6/20\n",
      "455/455 [==============================] - 22s 49ms/step - loss: 2.3855 - val_loss: 2.5881\n",
      "Epoch 7/20\n",
      "455/455 [==============================] - 22s 49ms/step - loss: 2.3235 - val_loss: 2.5844\n",
      "Epoch 8/20\n",
      "455/455 [==============================] - 22s 49ms/step - loss: 2.2844 - val_loss: 2.6156\n",
      "Epoch 9/20\n",
      "455/455 [==============================] - 22s 49ms/step - loss: 2.2842 - val_loss: 2.6365\n",
      "Epoch 10/20\n",
      "455/455 [==============================] - 22s 49ms/step - loss: 2.2307 - val_loss: 2.6451\n",
      "Epoch 11/20\n",
      "455/455 [==============================] - 22s 48ms/step - loss: 2.1908 - val_loss: 2.6177\n",
      "Epoch 12/20\n",
      "455/455 [==============================] - 22s 49ms/step - loss: 2.1395 - val_loss: 2.6330\n",
      "Epoch 13/20\n",
      "455/455 [==============================] - 22s 49ms/step - loss: 2.0872 - val_loss: 2.6280\n",
      "Epoch 14/20\n",
      "455/455 [==============================] - 22s 48ms/step - loss: 2.0499 - val_loss: 2.6989\n",
      "Epoch 15/20\n",
      "455/455 [==============================] - 22s 48ms/step - loss: 2.0266 - val_loss: 2.7298\n",
      "Epoch 16/20\n",
      "455/455 [==============================] - 22s 48ms/step - loss: 1.9461 - val_loss: 2.7322\n",
      "Epoch 17/20\n",
      "455/455 [==============================] - 22s 48ms/step - loss: 1.9245 - val_loss: 2.7060\n",
      "Epoch 18/20\n",
      "455/455 [==============================] - 22s 48ms/step - loss: 1.8885 - val_loss: 2.7522\n",
      "Epoch 19/20\n",
      "455/455 [==============================] - 22s 48ms/step - loss: 1.8525 - val_loss: 2.7527\n",
      "Epoch 20/20\n",
      "311/455 [===================>..........] - ETA: 6s - loss: 1.8077"
     ]
    }
   ],
   "source": [
    "RNN.model.fit(\n",
    "    X, y,\n",
    "    epochs=20,\n",
    "    batch_size=32,\n",
    "    validation_split=0.2,\n",
    "    shuffle=True\n",
    ")"
   ]
  },
  {
   "cell_type": "code",
   "execution_count": null,
   "metadata": {},
   "outputs": [],
   "source": [
    "plt.figure()\n",
    "plt.plot(RNN.model.history.history['loss'], label='loss')\n",
    "plt.plot(RNN.model.history.history['val_loss'], label='val_loss')\n",
    "plt.legend()\n",
    "plt.show()"
   ]
  },
  {
   "cell_type": "code",
   "execution_count": null,
   "metadata": {},
   "outputs": [],
   "source": [
    "def sample(preds, temperature):\n",
    "    if temperature == 0:\n",
    "        return np.argmax(preds)\n",
    "    else:\n",
    "        preds = np.log(preds) / temperature\n",
    "        exp_preds = np.exp(preds)\n",
    "        preds = exp_preds / np.sum(exp_preds)\n",
    "        return np.random.choice(len(preds), p=preds)"
   ]
  },
  {
   "cell_type": "code",
   "execution_count": null,
   "metadata": {},
   "outputs": [],
   "source": [
    "temperature = 0.5\n",
    "generated = notes_to_int[:32]\n",
    "\n",
    "for i in tqdm(range(200)):\n",
    "    preds = RNN.model.predict(generated[i:])[0]\n",
    "    generated.append(sample(preds, temperature))"
   ]
  },
  {
   "cell_type": "code",
   "execution_count": null,
   "metadata": {},
   "outputs": [],
   "source": [
    "generated_to_notes = [inv_dictionary[i] for i in generated]\n",
    "generated_to_notes[32:40]"
   ]
  },
  {
   "cell_type": "code",
   "execution_count": null,
   "metadata": {},
   "outputs": [],
   "source": [
    "midi_stream = stream.Stream()\n",
    "\n",
    "for gen_notes in generated_to_notes:\n",
    "    \n",
    "    gen_notes = gen_notes.split('.')[:-1]\n",
    "    # chord\n",
    "    if len(gen_notes) > 1:\n",
    "        cur_chord = []\n",
    "        for cur_note in gen_notes:\n",
    "            new_note = note.Note(int(cur_note))\n",
    "            new_note.duration = duration.Duration(type='16th')\n",
    "            new_note.soredInstrument = instrument.Percussion()\n",
    "            cur_chord.append(new_note)\n",
    "        midi_stream.append(chord.Chord(cur_chord))\n",
    "    elif gen_notes != []:\n",
    "        new_note = note.Note(int(gen_notes[0]))\n",
    "        new_note.duration = duration.Duration(type='16th')\n",
    "        new_note.soredInstrument = instrument.Percussion()\n",
    "        midi_stream.append(new_note)\n",
    "    else:\n",
    "        new_note = note.Rest()\n",
    "        new_note.duration = duration.Duration(type='16th')\n",
    "        new_note.storedInstrument = instrument.Percussion()\n",
    "        midi_stream.append(new_note)\n",
    "        \n",
    "midi_stream = midi_stream.chordify()"
   ]
  },
  {
   "cell_type": "code",
   "execution_count": null,
   "metadata": {},
   "outputs": [],
   "source": [
    "midi_stream.write('midi', fp=os.path.join('output' + '.mid'))"
   ]
  },
  {
   "cell_type": "code",
   "execution_count": null,
   "metadata": {},
   "outputs": [],
   "source": []
  }
 ],
 "metadata": {
  "kernelspec": {
   "display_name": "Python 3",
   "language": "python",
   "name": "python3"
  },
  "language_info": {
   "codemirror_mode": {
    "name": "ipython",
    "version": 3
   },
   "file_extension": ".py",
   "mimetype": "text/x-python",
   "name": "python",
   "nbconvert_exporter": "python",
   "pygments_lexer": "ipython3",
   "version": "3.8.5"
  }
 },
 "nbformat": 4,
 "nbformat_minor": 4
}
