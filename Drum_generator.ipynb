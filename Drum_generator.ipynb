{
 "cells": [
  {
   "cell_type": "markdown",
   "metadata": {},
   "source": [
    "## TODO\n",
    "1. Проверить sound banks не на линухе, м.б. экспортнуть сразу в гитарпро на винде, т.к. на линухе все играет стандартное пианино.\n",
    "2. Если экспортировать в drum не получится - перевести все ноты в набор основных звуков: кик, снейр, хэт, крэш и т.д., то, что есть в music21\n",
    "3. Val loss всегда растет независимо от архитектуры. М.б. стоит избавиться от пауз, которые составляют 40 % партий и добавить конкатенацию с массивом длительностей\n",
    "4. Или просто добавить больше партий?"
   ]
  },
  {
   "cell_type": "code",
   "execution_count": 1,
   "metadata": {},
   "outputs": [],
   "source": [
    "import os\n",
    "import numpy as np\n",
    "from tqdm.notebook import tqdm\n",
    "import guitarpro\n",
    "\n",
    "import matplotlib.pyplot as plt\n",
    "\n",
    "from src.model import NotesRNN\n",
    "from src.parse_gp import get_drum_notes, drop_rests_from_drum_track, get_notes_and_durations\n",
    "from src.save_midi import save_notes_and_durations, save_notes"
   ]
  },
  {
   "cell_type": "code",
   "execution_count": 2,
   "metadata": {},
   "outputs": [],
   "source": [
    "folderpath = \"tabs/\"\n",
    "use_durations = True"
   ]
  },
  {
   "cell_type": "code",
   "execution_count": 10,
   "metadata": {},
   "outputs": [
    {
     "data": {
      "application/vnd.jupyter.widget-view+json": {
       "model_id": "af62a1df02b34d799def3c18a018eb47",
       "version_major": 2,
       "version_minor": 0
      },
      "text/plain": [
       "  0%|          | 0/12 [00:00<?, ?it/s]"
      ]
     },
     "metadata": {},
     "output_type": "display_data"
    }
   ],
   "source": [
    "# notes = []\n",
    "# for folder in os.listdir(folderpath):\n",
    "#     for filename in tqdm(os.listdir(folderpath + folder + '/')):\n",
    "#         tab = guitarpro.parse(folderpath + folder + '/' + filename)\n",
    "#         notes += get_drum_notes(tab, True)\n",
    "\n",
    "notes, durations = [], []\n",
    "for folder in os.listdir(folderpath):\n",
    "    for filename in tqdm(os.listdir(folderpath + folder + '/')):\n",
    "        tab = guitarpro.parse(folderpath + folder + '/' + filename)\n",
    "        tab_notes, tab_durations = get_notes_and_durations(tab, False)\n",
    "        notes += tab_notes\n",
    "        durations += tab_durations"
   ]
  },
  {
   "cell_type": "code",
   "execution_count": 11,
   "metadata": {},
   "outputs": [
    {
     "data": {
      "text/plain": [
       "True"
      ]
     },
     "execution_count": 11,
     "metadata": {},
     "output_type": "execute_result"
    }
   ],
   "source": [
    "len(notes) == len(durations)"
   ]
  },
  {
   "cell_type": "code",
   "execution_count": 12,
   "metadata": {},
   "outputs": [],
   "source": [
    "# if use_durations:\n",
    "#     notes, durations = drop_rests_from_drum_track(notes)"
   ]
  },
  {
   "cell_type": "code",
   "execution_count": 13,
   "metadata": {},
   "outputs": [
    {
     "data": {
      "text/plain": [
       "[3, 124, 25, 0, 25, 126, 0, 25, 25, 0]"
      ]
     },
     "execution_count": 13,
     "metadata": {},
     "output_type": "execute_result"
    }
   ],
   "source": [
    "note_dictionary = {note: i for i, note in enumerate(set(notes))}\n",
    "inv_note_dictionary = {i: note for note, i in note_dictionary.items()}\n",
    "notes_to_int = [note_dictionary[note] for note in notes]\n",
    "notes_to_int[:10]"
   ]
  },
  {
   "cell_type": "code",
   "execution_count": 14,
   "metadata": {},
   "outputs": [
    {
     "data": {
      "text/plain": [
       "['del', '46.36.', '42.', '', '42.', '51.40.', '', '42.', '42.', '']"
      ]
     },
     "execution_count": 14,
     "metadata": {},
     "output_type": "execute_result"
    }
   ],
   "source": [
    "notes[:10]"
   ]
  },
  {
   "cell_type": "code",
   "execution_count": 15,
   "metadata": {},
   "outputs": [
    {
     "data": {
      "text/plain": [
       "184"
      ]
     },
     "execution_count": 15,
     "metadata": {},
     "output_type": "execute_result"
    }
   ],
   "source": [
    "len(note_dictionary)"
   ]
  },
  {
   "cell_type": "code",
   "execution_count": 16,
   "metadata": {},
   "outputs": [
    {
     "name": "stdout",
     "output_type": "stream",
     "text": [
      "6\n"
     ]
    }
   ],
   "source": [
    "if use_durations:\n",
    "    duration_dictionary = {dur: i for i, dur in enumerate(set(durations))}\n",
    "    inv_dur_dictionary = {i: dur for dur, i in duration_dictionary.items()}\n",
    "    durations_to_int = [duration_dictionary[dur] for dur in durations]\n",
    "    durations_to_int[:10]\n",
    "    print(len(duration_dictionary))\n",
    "else:\n",
    "    durations_to_int = None"
   ]
  },
  {
   "cell_type": "code",
   "execution_count": 17,
   "metadata": {},
   "outputs": [],
   "source": [
    "n_notes = len(note_dictionary)\n",
    "n_durations = len(duration_dictionary) if use_durations else None\n",
    "emb_size = 64\n",
    "n_units = 64\n",
    "n_layers = 2\n",
    "use_dropout = True\n",
    "use_attention = True"
   ]
  },
  {
   "cell_type": "code",
   "execution_count": 18,
   "metadata": {},
   "outputs": [],
   "source": [
    "RNN = NotesRNN(\n",
    "    n_notes,\n",
    "    n_durations,\n",
    "    emb_size,\n",
    "    n_units,\n",
    "    n_layers,\n",
    "    use_dropout,\n",
    "    use_attention,\n",
    "    use_durations\n",
    ")"
   ]
  },
  {
   "cell_type": "code",
   "execution_count": 19,
   "metadata": {},
   "outputs": [
    {
     "name": "stdout",
     "output_type": "stream",
     "text": [
      "Model: \"model\"\n",
      "__________________________________________________________________________________________________\n",
      "Layer (type)                    Output Shape         Param #     Connected to                     \n",
      "==================================================================================================\n",
      "input_1 (InputLayer)            [(None, None)]       0                                            \n",
      "__________________________________________________________________________________________________\n",
      "input_2 (InputLayer)            [(None, None)]       0                                            \n",
      "__________________________________________________________________________________________________\n",
      "embedding (Embedding)           (None, None, 64)     11776       input_1[0][0]                    \n",
      "__________________________________________________________________________________________________\n",
      "embedding_1 (Embedding)         (None, None, 64)     384         input_2[0][0]                    \n",
      "__________________________________________________________________________________________________\n",
      "concatenate (Concatenate)       (None, None, 128)    0           embedding[0][0]                  \n",
      "                                                                 embedding_1[0][0]                \n",
      "__________________________________________________________________________________________________\n",
      "lstm (LSTM)                     (None, None, 64)     49408       concatenate[0][0]                \n",
      "__________________________________________________________________________________________________\n",
      "dropout (Dropout)               (None, None, 64)     0           lstm[0][0]                       \n",
      "__________________________________________________________________________________________________\n",
      "lstm_1 (LSTM)                   (None, None, 64)     33024       dropout[0][0]                    \n",
      "__________________________________________________________________________________________________\n",
      "dropout_1 (Dropout)             (None, None, 64)     0           lstm_1[0][0]                     \n",
      "__________________________________________________________________________________________________\n",
      "dense (Dense)                   (None, None, 1)      65          dropout_1[0][0]                  \n",
      "__________________________________________________________________________________________________\n",
      "reshape (Reshape)               (None, None)         0           dense[0][0]                      \n",
      "__________________________________________________________________________________________________\n",
      "activation (Activation)         (None, None)         0           reshape[0][0]                    \n",
      "__________________________________________________________________________________________________\n",
      "repeat_vector (RepeatVector)    (None, 64, None)     0           activation[0][0]                 \n",
      "__________________________________________________________________________________________________\n",
      "permute (Permute)               (None, None, 64)     0           repeat_vector[0][0]              \n",
      "__________________________________________________________________________________________________\n",
      "multiply (Multiply)             (None, None, 64)     0           dropout_1[0][0]                  \n",
      "                                                                 permute[0][0]                    \n",
      "__________________________________________________________________________________________________\n",
      "lambda (Lambda)                 (None, 64)           0           multiply[0][0]                   \n",
      "__________________________________________________________________________________________________\n",
      "dense_1 (Dense)                 (None, 184)          11960       lambda[0][0]                     \n",
      "__________________________________________________________________________________________________\n",
      "dense_2 (Dense)                 (None, 6)            390         lambda[0][0]                     \n",
      "==================================================================================================\n",
      "Total params: 107,007\n",
      "Trainable params: 107,007\n",
      "Non-trainable params: 0\n",
      "__________________________________________________________________________________________________\n"
     ]
    }
   ],
   "source": [
    "RNN.model.summary()"
   ]
  },
  {
   "cell_type": "code",
   "execution_count": 20,
   "metadata": {},
   "outputs": [],
   "source": [
    "seq_length = 64\n",
    "step = 1\n",
    "X, y = RNN.prepare_sequences(notes_to_int, durations_to_int, seq_length, step)"
   ]
  },
  {
   "cell_type": "code",
   "execution_count": 22,
   "metadata": {
    "tags": []
   },
   "outputs": [
    {
     "name": "stdout",
     "output_type": "stream",
     "text": [
      "Epoch 1/10\n",
      "457/457 [==============================] - 15s 33ms/step - loss: 3.0411 - dense_1_loss: 2.8991 - dense_2_loss: 0.1420 - val_loss: 2.8231 - val_dense_1_loss: 2.7133 - val_dense_2_loss: 0.1098\n",
      "Epoch 2/10\n",
      "457/457 [==============================] - 14s 31ms/step - loss: 2.7782 - dense_1_loss: 2.6702 - dense_2_loss: 0.1080 - val_loss: 2.8016 - val_dense_1_loss: 2.6907 - val_dense_2_loss: 0.1109\n",
      "Epoch 3/10\n",
      "457/457 [==============================] - 14s 31ms/step - loss: 2.6865 - dense_1_loss: 2.5921 - dense_2_loss: 0.0943 - val_loss: 2.8079 - val_dense_1_loss: 2.6952 - val_dense_2_loss: 0.1127\n",
      "Epoch 4/10\n",
      "457/457 [==============================] - 14s 30ms/step - loss: 2.6326 - dense_1_loss: 2.5472 - dense_2_loss: 0.0853 - val_loss: 2.8986 - val_dense_1_loss: 2.7703 - val_dense_2_loss: 0.1283\n",
      "Epoch 5/10\n",
      "457/457 [==============================] - 14s 31ms/step - loss: 2.5931 - dense_1_loss: 2.5149 - dense_2_loss: 0.0782 - val_loss: 2.7774 - val_dense_1_loss: 2.6754 - val_dense_2_loss: 0.1019\n",
      "Epoch 6/10\n",
      "457/457 [==============================] - 14s 31ms/step - loss: 2.5542 - dense_1_loss: 2.4811 - dense_2_loss: 0.0732 - val_loss: 2.8285 - val_dense_1_loss: 2.7223 - val_dense_2_loss: 0.1062\n",
      "Epoch 7/10\n",
      "457/457 [==============================] - 14s 31ms/step - loss: 2.5163 - dense_1_loss: 2.4482 - dense_2_loss: 0.0680 - val_loss: 2.7630 - val_dense_1_loss: 2.6585 - val_dense_2_loss: 0.1045\n",
      "Epoch 8/10\n",
      "457/457 [==============================] - 14s 30ms/step - loss: 2.4907 - dense_1_loss: 2.4254 - dense_2_loss: 0.0653 - val_loss: 2.8159 - val_dense_1_loss: 2.7114 - val_dense_2_loss: 0.1045\n",
      "Epoch 9/10\n",
      "457/457 [==============================] - 14s 31ms/step - loss: 2.4575 - dense_1_loss: 2.3951 - dense_2_loss: 0.0623 - val_loss: 2.7820 - val_dense_1_loss: 2.6751 - val_dense_2_loss: 0.1069\n",
      "Epoch 10/10\n",
      "457/457 [==============================] - 14s 30ms/step - loss: 2.4409 - dense_1_loss: 2.3815 - dense_2_loss: 0.0594 - val_loss: 2.8541 - val_dense_1_loss: 2.7470 - val_dense_2_loss: 0.1071\n"
     ]
    },
    {
     "data": {
      "text/plain": [
       "<tensorflow.python.keras.callbacks.History at 0x7fa5fc59e790>"
      ]
     },
     "execution_count": 22,
     "metadata": {},
     "output_type": "execute_result"
    }
   ],
   "source": [
    "RNN.model.fit(\n",
    "    X, y,\n",
    "    epochs=10,\n",
    "    batch_size=32,\n",
    "    validation_split=0.2,\n",
    "    shuffle=True\n",
    ")"
   ]
  },
  {
   "cell_type": "code",
   "execution_count": 23,
   "metadata": {},
   "outputs": [
    {
     "data": {
      "image/png": "[encoded data removed]",
      "text/plain": [
       "<Figure size 432x288 with 1 Axes>"
      ]
     },
     "metadata": {
      "image/png": {
       "height": 248,
       "width": 372
      },
      "needs_background": "light"
     },
     "output_type": "display_data"
    }
   ],
   "source": [
    "plt.figure()\n",
    "plt.plot(RNN.model.history.history['loss'], label='loss')\n",
    "plt.plot(RNN.model.history.history['val_loss'], label='val_loss')\n",
    "plt.legend()\n",
    "plt.show()"
   ]
  },
  {
   "cell_type": "code",
   "execution_count": 24,
   "metadata": {},
   "outputs": [],
   "source": [
    "def sample(preds, temperature):\n",
    "    if temperature == 0:\n",
    "        return np.argmax(preds)\n",
    "    else:\n",
    "        preds = np.log(preds) / temperature\n",
    "        exp_preds = np.exp(preds)\n",
    "        preds = exp_preds / np.sum(exp_preds)\n",
    "        return np.random.choice(len(preds), p=preds)"
   ]
  },
  {
   "cell_type": "code",
   "execution_count": 25,
   "metadata": {},
   "outputs": [],
   "source": [
    "if use_durations:\n",
    "    self_notes = [\n",
    "        '46.36.', '46.36.', '46.38.', '46.36.', '38.', '46.36.', '38.', '46.36.', '46.38.', '46.36.', '38.',\n",
    "        '46.36.', '46.36.', '46.38.', '46.36.', '38.', '46.36.', '38.', '46.36.', '46.38.', '46.36.', '38.',\n",
    "    ]\n",
    "    self_durations = [\n",
    "        1/8, 1/8, 1/8, 1/16, 1/16, 1/16, 1/16, 1/8, 1/8, 1/16, 1/16,\n",
    "        1/8, 1/8, 1/8, 1/16, 1/16, 1/16, 1/16, 1/8, 1/8, 1/16, 1/16\n",
    "    ]\n",
    "    generated_notes = [note_dictionary[x] for x in self_notes]\n",
    "    generated_durations = [duration_dictionary[x] for x in self_durations]\n",
    "    generated = [generated_notes, generated_durations]\n",
    "else:\n",
    "    self_notes = [\n",
    "        '46.36.', '', '46.36.', '', '46.38.', '', '46.36.', '38.', '46.36.', '38.', '46.36.', '', '46.38.', '', '46.36.', '38.',\n",
    "        '46.36.', '', '46.36.', '', '46.38.', '', '46.36.', '38.', '46.36.', '38.', '46.36.', '', '46.38.', '', '46.36.', '38.',\n",
    "    ]\n",
    "    generated = [note_dictionary[x] for x in self_notes]"
   ]
  },
  {
   "cell_type": "code",
   "execution_count": 26,
   "metadata": {},
   "outputs": [
    {
     "data": {
      "application/vnd.jupyter.widget-view+json": {
       "model_id": "04e7341adc074f1a8e15c9eb83220a93",
       "version_major": 2,
       "version_minor": 0
      },
      "text/plain": [
       "  0%|          | 0/100 [00:00<?, ?it/s]"
      ]
     },
     "metadata": {},
     "output_type": "display_data"
    }
   ],
   "source": [
    "temperature = 0.5\n",
    "n_generated = 100\n",
    "\n",
    "att_matrix = np.zeros((n_generated+seq_length, n_generated))\n",
    "\n",
    "for i in tqdm(range(n_generated)):\n",
    "    if use_durations:\n",
    "        note_pred, duration_pred = RNN.model.predict([np.array(generated[0][i:]), np.array(generated[1][i:])])\n",
    "        generated[0].append(sample(note_pred[0], temperature))\n",
    "        generated[1].append(sample(duration_pred[0], temperature))\n",
    "    else:\n",
    "        note_pred = RNN.model.predict([generated[i:]])\n",
    "        generated.append(sample(note_pred[0], temperature))\n",
    "#     if use_attention:\n",
    "#         att_preds = RNN.att_model.predict(generated[i:])[0]\n",
    "#         att_matrix[(i-len(att_preds)+seq_length):(i+seq_length), i] = att_preds"
   ]
  },
  {
   "cell_type": "code",
   "execution_count": 27,
   "metadata": {},
   "outputs": [
    {
     "data": {
      "text/plain": [
       "['42.',\n",
       " '',\n",
       " '44.',\n",
       " '43.',\n",
       " '49.',\n",
       " '52.36.',\n",
       " '55.40.',\n",
       " '40.36.',\n",
       " '43.40.36.',\n",
       " '40.',\n",
       " '49.36.',\n",
       " '55.43.36.',\n",
       " '',\n",
       " '36.']"
      ]
     },
     "execution_count": 27,
     "metadata": {},
     "output_type": "execute_result"
    }
   ],
   "source": [
    "if use_durations:\n",
    "    generated_to_notes = [inv_note_dictionary[i] for i in generated[0]]\n",
    "    generated_to_durations = [inv_dur_dictionary[i] for i in generated[1]]\n",
    "else:\n",
    "    generated_to_notes = [inv_note_dictionary[i] for i in generated]\n",
    "generated_to_notes[64:78]"
   ]
  },
  {
   "cell_type": "code",
   "execution_count": 29,
   "metadata": {},
   "outputs": [],
   "source": [
    "if use_durations:\n",
    "    generated = [generated_to_notes, generated_to_durations]\n",
    "else:\n",
    "    generated = generated_to_notes"
   ]
  },
  {
   "cell_type": "code",
   "execution_count": 30,
   "metadata": {},
   "outputs": [],
   "source": [
    "save_notes_and_durations(generated, 'output')\n",
    "#save_notes(generated, 'output')"
   ]
  },
  {
   "cell_type": "code",
   "execution_count": 20,
   "metadata": {},
   "outputs": [],
   "source": [
    "# if use_attention:\n",
    "#     fig, ax = plt.subplots(figsize=(20,20))\n",
    "#     im = ax.imshow(att_matrix[(seq_length-2):,], cmap='coolwarm', interpolation='nearest')\n",
    "#     ax.set_xticks(np.arange(-.5, len(generated_to_notes)- seq_length, 1), minor=True);\n",
    "#     ax.set_yticks(np.arange(-.5, len(generated_to_notes)- seq_length, 1), minor=True);\n",
    "#     ax.grid(which='minor', color='black', linestyle='-', linewidth=1)\n",
    "#     ax.set_xticks(np.arange(len(generated_to_notes) - seq_length))\n",
    "#     ax.set_yticks(np.arange(len(generated_to_notes)- seq_length+2))\n",
    "#     ax.set_xticklabels([n for n in generated_to_notes[(seq_length):]])\n",
    "#     ax.set_yticklabels([n for n in generated_to_notes[(seq_length - 2):]])\n",
    "#     ax.xaxis.tick_top()    \n",
    "#     plt.setp(ax.get_xticklabels(), rotation=90, ha=\"left\", va = \"center\",\n",
    "#              rotation_mode=\"anchor\")\n",
    "\n",
    "#     plt.show()"
   ]
  },
  {
   "cell_type": "code",
   "execution_count": null,
   "metadata": {},
   "outputs": [],
   "source": []
  }
 ],
 "metadata": {
  "kernelspec": {
   "display_name": "Python 3",
   "language": "python",
   "name": "python3"
  },
  "language_info": {
   "codemirror_mode": {
    "name": "ipython",
    "version": 3
   },
   "file_extension": ".py",
   "mimetype": "text/x-python",
   "name": "python",
   "nbconvert_exporter": "python",
   "pygments_lexer": "ipython3",
   "version": "3.8.5"
  }
 },
 "nbformat": 4,
 "nbformat_minor": 4
}
