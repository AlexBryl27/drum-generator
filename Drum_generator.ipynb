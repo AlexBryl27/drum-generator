{
 "cells": [
  {
   "cell_type": "code",
   "execution_count": 1,
   "metadata": {},
   "outputs": [],
   "source": [
    "import guitarpro\n",
    "import os\n",
    "import numpy as np\n",
    "from tensorflow.keras.utils import to_categorical\n",
    "from tensorflow.keras.callbacks import ModelCheckpoint, EarlyStopping\n",
    "\n",
    "from model import NotesRNN"
   ]
  },
  {
   "cell_type": "code",
   "execution_count": 65,
   "metadata": {},
   "outputs": [],
   "source": [
    "folderpath = \"tabs/necro/\"\n",
    "tab = guitarpro.parse(folderpath+'1 - Sweet trilogy part I.gp5')"
   ]
  },
  {
   "cell_type": "code",
   "execution_count": 3,
   "metadata": {},
   "outputs": [],
   "source": [
    "def get_drum_notes(tab):\n",
    "    \n",
    "    for track in tab.tracks:\n",
    "        if track.isPercussionTrack:\n",
    "            break\n",
    "    \n",
    "    notes = []\n",
    "    for measure in track.measures:\n",
    "        for beat in measure.voices[0].beats:\n",
    "            # pass empty measures\n",
    "            if len(measure.voices[0].beats) == 1 and len(beat.notes) == 0:\n",
    "                continue\n",
    "            poly_note = ''\n",
    "            for note in beat.notes:\n",
    "                # replace different snare kicks\n",
    "                if note.value == 40:\n",
    "                    note.value = 38\n",
    "                poly_note += str(note.value)\n",
    "            notes.append(poly_note)\n",
    "    \n",
    "    return notes"
   ]
  },
  {
   "cell_type": "code",
   "execution_count": 4,
   "metadata": {},
   "outputs": [],
   "source": [
    "notes = []\n",
    "for filename in os.listdir(folderpath):\n",
    "    tab = guitarpro.parse(folderpath + filename)\n",
    "    notes += get_drum_notes(tab)"
   ]
  },
  {
   "cell_type": "code",
   "execution_count": 5,
   "metadata": {},
   "outputs": [
    {
     "data": {
      "text/plain": [
       "18233"
      ]
     },
     "execution_count": 5,
     "metadata": {},
     "output_type": "execute_result"
    }
   ],
   "source": [
    "len(notes)"
   ]
  },
  {
   "cell_type": "code",
   "execution_count": 8,
   "metadata": {},
   "outputs": [
    {
     "data": {
      "text/plain": [
       "[152, 0, 26, 0, 37, 0, 49, 56, 26, 1]"
      ]
     },
     "execution_count": 8,
     "metadata": {},
     "output_type": "execute_result"
    }
   ],
   "source": [
    "dictionary = {note: i for i, note in enumerate(set(notes))}\n",
    "inv_dictionary = {i: note for note, i in dictionary.items()}\n",
    "notes_to_int = [dictionary[note] for note in notes]\n",
    "notes_to_int[:10]"
   ]
  },
  {
   "cell_type": "code",
   "execution_count": 9,
   "metadata": {},
   "outputs": [
    {
     "data": {
      "text/plain": [
       "['4636', '', '44', '', '4438', '', '4436', '46', '44', '38']"
      ]
     },
     "execution_count": 9,
     "metadata": {},
     "output_type": "execute_result"
    }
   ],
   "source": [
    "notes[:10]"
   ]
  },
  {
   "cell_type": "code",
   "execution_count": 10,
   "metadata": {},
   "outputs": [],
   "source": [
    "def prepare_sequences(notes, dict_size, length, step):\n",
    "    sequences = []\n",
    "    targets = []\n",
    "    for i in range(0, len(notes) - length, step):\n",
    "        sequences.append(notes[i: i + length])\n",
    "        targets.append(notes[i + length])\n",
    "    targets = to_categorical(targets, dict_size)\n",
    "    return sequences, targets"
   ]
  },
  {
   "cell_type": "code",
   "execution_count": 11,
   "metadata": {},
   "outputs": [],
   "source": [
    "X, y = prepare_sequences(notes_to_int, len(dictionary), 32, 1)"
   ]
  },
  {
   "cell_type": "code",
   "execution_count": 43,
   "metadata": {},
   "outputs": [],
   "source": [
    "RNN = NotesRNN(len(dictionary), 32, 128, 2, False, True)"
   ]
  },
  {
   "cell_type": "code",
   "execution_count": 44,
   "metadata": {},
   "outputs": [
    {
     "name": "stdout",
     "output_type": "stream",
     "text": [
      "Model: \"model_2\"\n",
      "__________________________________________________________________________________________________\n",
      "Layer (type)                    Output Shape         Param #     Connected to                     \n",
      "==================================================================================================\n",
      "input_3 (InputLayer)            [(None, None)]       0                                            \n",
      "__________________________________________________________________________________________________\n",
      "embedding_2 (Embedding)         (None, None, 32)     5568        input_3[0][0]                    \n",
      "__________________________________________________________________________________________________\n",
      "lstm_5 (LSTM)                   (None, None, 128)    82432       embedding_2[0][0]                \n",
      "__________________________________________________________________________________________________\n",
      "lstm_6 (LSTM)                   (None, None, 128)    131584      lstm_5[0][0]                     \n",
      "__________________________________________________________________________________________________\n",
      "dense_4 (Dense)                 (None, None, 1)      129         lstm_6[0][0]                     \n",
      "__________________________________________________________________________________________________\n",
      "reshape_2 (Reshape)             (None, None)         0           dense_4[0][0]                    \n",
      "__________________________________________________________________________________________________\n",
      "activation_2 (Activation)       (None, None)         0           reshape_2[0][0]                  \n",
      "__________________________________________________________________________________________________\n",
      "repeat_vector_2 (RepeatVector)  (None, 128, None)    0           activation_2[0][0]               \n",
      "__________________________________________________________________________________________________\n",
      "permute_2 (Permute)             (None, None, 128)    0           repeat_vector_2[0][0]            \n",
      "__________________________________________________________________________________________________\n",
      "multiply_2 (Multiply)           (None, None, 128)    0           lstm_6[0][0]                     \n",
      "                                                                 permute_2[0][0]                  \n",
      "__________________________________________________________________________________________________\n",
      "lambda_2 (Lambda)               (None, 128)          0           multiply_2[0][0]                 \n",
      "__________________________________________________________________________________________________\n",
      "dense_5 (Dense)                 (None, 174)          22446       lambda_2[0][0]                   \n",
      "==================================================================================================\n",
      "Total params: 242,159\n",
      "Trainable params: 242,159\n",
      "Non-trainable params: 0\n",
      "__________________________________________________________________________________________________\n"
     ]
    }
   ],
   "source": [
    "RNN.model.summary()"
   ]
  },
  {
   "cell_type": "code",
   "execution_count": 41,
   "metadata": {},
   "outputs": [],
   "source": [
    "X = np.array(X)\n",
    "y = np.array(y)"
   ]
  },
  {
   "cell_type": "code",
   "execution_count": 45,
   "metadata": {},
   "outputs": [
    {
     "name": "stdout",
     "output_type": "stream",
     "text": [
      "Epoch 1/20\n",
      "455/455 [==============================] - 31s 61ms/step - loss: 2.9340 - val_loss: 2.8702\n",
      "Epoch 2/20\n",
      "455/455 [==============================] - 28s 62ms/step - loss: 2.6261 - val_loss: 2.7958\n",
      "Epoch 3/20\n",
      "455/455 [==============================] - 28s 61ms/step - loss: 2.4916 - val_loss: 2.7311\n",
      "Epoch 4/20\n",
      "455/455 [==============================] - 26s 58ms/step - loss: 2.4246 - val_loss: 2.7401\n",
      "Epoch 5/20\n",
      "455/455 [==============================] - 26s 58ms/step - loss: 2.3709 - val_loss: 2.7218\n",
      "Epoch 6/20\n",
      "455/455 [==============================] - 27s 60ms/step - loss: 2.3041 - val_loss: 2.7162\n",
      "Epoch 7/20\n",
      "455/455 [==============================] - 27s 60ms/step - loss: 2.2516 - val_loss: 2.7334\n",
      "Epoch 8/20\n",
      "455/455 [==============================] - 25s 54ms/step - loss: 2.2089 - val_loss: 2.7453\n",
      "Epoch 9/20\n",
      "455/455 [==============================] - 26s 57ms/step - loss: 2.1948 - val_loss: 2.7665\n",
      "Epoch 10/20\n",
      "455/455 [==============================] - 26s 57ms/step - loss: 2.1644 - val_loss: 2.7791\n",
      "Epoch 11/20\n",
      "455/455 [==============================] - 26s 57ms/step - loss: 2.0837 - val_loss: 2.8180\n",
      "Epoch 12/20\n",
      "455/455 [==============================] - 26s 57ms/step - loss: 2.0650 - val_loss: 2.8333\n",
      "Epoch 13/20\n",
      "455/455 [==============================] - 27s 59ms/step - loss: 2.0219 - val_loss: 2.8530\n",
      "Epoch 14/20\n",
      "455/455 [==============================] - 26s 57ms/step - loss: 1.9495 - val_loss: 2.8676\n",
      "Epoch 15/20\n",
      "455/455 [==============================] - 26s 57ms/step - loss: 1.9500 - val_loss: 2.8809\n",
      "Epoch 16/20\n",
      "455/455 [==============================] - 26s 57ms/step - loss: 1.8694 - val_loss: 2.8715\n",
      "Epoch 17/20\n",
      "455/455 [==============================] - 26s 57ms/step - loss: 1.8168 - val_loss: 2.9201\n",
      "Epoch 18/20\n",
      "455/455 [==============================] - 26s 57ms/step - loss: 1.7879 - val_loss: 2.9679\n",
      "Epoch 19/20\n",
      "455/455 [==============================] - 26s 57ms/step - loss: 1.7399 - val_loss: 3.0233\n",
      "Epoch 20/20\n",
      "455/455 [==============================] - 26s 58ms/step - loss: 1.6694 - val_loss: 2.9572\n"
     ]
    },
    {
     "data": {
      "text/plain": [
       "<tensorflow.python.keras.callbacks.History at 0x7f675c6533d0>"
      ]
     },
     "execution_count": 45,
     "metadata": {},
     "output_type": "execute_result"
    }
   ],
   "source": [
    "RNN.model.fit(\n",
    "    X, y,\n",
    "    epochs=20,\n",
    "    batch_size=32,\n",
    "    validation_split=0.2,\n",
    "    shuffle=True\n",
    ")"
   ]
  },
  {
   "cell_type": "code",
   "execution_count": 46,
   "metadata": {},
   "outputs": [],
   "source": [
    "from tqdm.notebook import tqdm"
   ]
  },
  {
   "cell_type": "code",
   "execution_count": 47,
   "metadata": {},
   "outputs": [],
   "source": [
    "def sample(preds, temperature):\n",
    "    if temperature == 0:\n",
    "        return np.argmax(preds)\n",
    "    else:\n",
    "        preds = np.log(preds) / temperature\n",
    "        exp_preds = np.exp(preds)\n",
    "        preds = exp_preds / np.sum(exp_preds)\n",
    "        return np.random.choice(len(preds), p=preds)"
   ]
  },
  {
   "cell_type": "code",
   "execution_count": 48,
   "metadata": {},
   "outputs": [
    {
     "data": {
      "application/vnd.jupyter.widget-view+json": {
       "model_id": "97f7ba57453141b6b3466c69cfaa3071",
       "version_major": 2,
       "version_minor": 0
      },
      "text/plain": [
       "  0%|          | 0/100 [00:00<?, ?it/s]"
      ]
     },
     "metadata": {},
     "output_type": "display_data"
    }
   ],
   "source": [
    "temperature = 0.1\n",
    "generated = notes_to_int[:32]\n",
    "\n",
    "for i in tqdm(range(100)):\n",
    "    preds = RNN.model.predict(generated[i:])[0]\n",
    "    generated.append(sample(preds, temperature))"
   ]
  },
  {
   "cell_type": "code",
   "execution_count": 49,
   "metadata": {},
   "outputs": [],
   "source": [
    "generated_to_notes = [inv_dictionary[i] for i in generated]"
   ]
  },
  {
   "cell_type": "code",
   "execution_count": null,
   "metadata": {},
   "outputs": [],
   "source": []
  },
  {
   "cell_type": "code",
   "execution_count": 341,
   "metadata": {},
   "outputs": [],
   "source": [
    "song = guitarpro.Song()\n",
    "track = guitarpro.models.Track(song, isPercussionTrack=True)\n",
    "mes_header = guitarpro.models.MeasureHeader()"
   ]
  },
  {
   "cell_type": "code",
   "execution_count": 356,
   "metadata": {},
   "outputs": [],
   "source": [
    "song = guitarpro.Song()\n",
    "song.tracks[0].isPercussionTrack = True\n",
    "song.tracks[0].measures[0].voices[0].beats.append(guitarpro.models.Beat(song.tracks[0].measures[0].voices[0]))"
   ]
  },
  {
   "cell_type": "code",
   "execution_count": null,
   "metadata": {},
   "outputs": [],
   "source": [
    "strings = [0, 1, 2, 3, 4, 5, 6]\n",
    "for i in range(len(generated_to_notes) // 16):\n",
    "    measure = guitarpro.Measure(track, mes_header)\n",
    "    measure.timeSignature.numerator = 16\n",
    "    measure.timeSignature.denominator = 16\n",
    "    note_sequence = generated_to_notes[i*16: (i+1)*16]\n",
    "    for j in range(16):\n",
    "        beat = guitarpro.Beat(measure.voices[0])\n",
    "        if note_sequence[j] == '':\n",
    "#             beat_note = guitarpro.Note(beat)\n",
    "#             beat_note.type = guitarpro.models.NoteType(0)\n",
    "#             beat.notes.append(beat_note)\n",
    "            pass\n",
    "        elif len(note_sequence[j]) > 2:\n",
    "            for k in range(0, (len(note_sequence[j]) // 2) + 1, 2):\n",
    "                beat_note = guitarpro.Note(beat)\n",
    "                beat_note.value = int(note_sequence[j][k:k + 2])\n",
    "                beat_note.string = strings[k // 2]\n",
    "                beat_note.type = guitarpro.models.NoteType(1)\n",
    "                beat.notes.append(beat_note)\n",
    "        else:\n",
    "            beat_note = guitarpro.Note(beat)\n",
    "            beat_note.value = int(note_sequence[j])\n",
    "            beat_note.type = guitarpro.models.NoteType(1)\n",
    "            beat.notes.append(beat_note)\n",
    "        measure.voices[0].beats.append(beat)\n",
    "    song.tracks[0].measures.append(measure)\n",
    "song.tracks[0].name = 'Drums'"
   ]
  },
  {
   "cell_type": "code",
   "execution_count": 357,
   "metadata": {},
   "outputs": [],
   "source": [
    "strings = [0, 1, 2, 3, 4, 5, 6]\n",
    "for i in range(len(generated_to_notes) // 16):\n",
    "    measure = guitarpro.Measure(track, mes_header)\n",
    "    measure.timeSignature.numerator = 16\n",
    "    measure.timeSignature.denominator = 16\n",
    "    note_sequence = generated_to_notes[i*16: (i+1)*16]\n",
    "    for j in range(16):\n",
    "        beat = guitarpro.Beat(measure.voices[0])\n",
    "        if note_sequence[j] == '':\n",
    "#             beat_note = guitarpro.Note(beat)\n",
    "#             beat_note.type = guitarpro.models.NoteType(0)\n",
    "#             beat.notes.append(beat_note)\n",
    "            pass\n",
    "        elif len(note_sequence[j]) > 2:\n",
    "            for k in range(0, (len(note_sequence[j]) // 2) + 1, 2):\n",
    "                beat_note = guitarpro.Note(beat)\n",
    "                beat_note.value = int(note_sequence[j][k:k + 2])\n",
    "                beat_note.string = strings[k // 2]\n",
    "                beat_note.type = guitarpro.models.NoteType(1)\n",
    "                beat.notes.append(beat_note)\n",
    "        else:\n",
    "            beat_note = guitarpro.Note(beat)\n",
    "            beat_note.value = int(note_sequence[j])\n",
    "            beat_note.type = guitarpro.models.NoteType(1)\n",
    "            beat.notes.append(beat_note)\n",
    "        measure.voices[0].beats.append(beat)\n",
    "    song.tracks[0].measures.append(measure)\n",
    "song.tracks[0].name = 'Drums'"
   ]
  },
  {
   "cell_type": "code",
   "execution_count": 358,
   "metadata": {},
   "outputs": [
    {
     "data": {
      "text/plain": [
       "9"
      ]
     },
     "execution_count": 358,
     "metadata": {},
     "output_type": "execute_result"
    }
   ],
   "source": [
    "len(song.tracks[0].measures)"
   ]
  },
  {
   "cell_type": "code",
   "execution_count": 340,
   "metadata": {},
   "outputs": [
    {
     "data": {
      "text/plain": [
       "[]"
      ]
     },
     "execution_count": 340,
     "metadata": {},
     "output_type": "execute_result"
    }
   ],
   "source": [
    "song.tracks[0].measures[0].voices[0].beats"
   ]
  },
  {
   "cell_type": "code",
   "execution_count": 311,
   "metadata": {},
   "outputs": [],
   "source": [
    "track.measures[0].voices[0].beats = [guitarpro.Beat(track.measures[1].voices[0])]"
   ]
  },
  {
   "cell_type": "code",
   "execution_count": 312,
   "metadata": {},
   "outputs": [
    {
     "data": {
      "text/plain": [
       "[<guitarpro.models.Beat at 0x7f67683e0550>]"
      ]
     },
     "execution_count": 312,
     "metadata": {},
     "output_type": "execute_result"
    }
   ],
   "source": [
    "track.measures[0].voices[0].beats"
   ]
  },
  {
   "cell_type": "code",
   "execution_count": 319,
   "metadata": {},
   "outputs": [],
   "source": [
    "song.tracks[0] = track"
   ]
  },
  {
   "cell_type": "code",
   "execution_count": null,
   "metadata": {},
   "outputs": [],
   "source": []
  },
  {
   "cell_type": "code",
   "execution_count": 359,
   "metadata": {},
   "outputs": [
    {
     "ename": "GPException",
     "evalue": "writing measure 1, got AttributeError: 'int' object has no attribute 'value'",
     "output_type": "error",
     "traceback": [
      "\u001b[0;31m---------------------------------------------------------------------------\u001b[0m",
      "\u001b[0;31mAttributeError\u001b[0m                            Traceback (most recent call last)",
      "\u001b[0;32m~/my_env/complete/lib/python3.8/site-packages/guitarpro/iobase.py\u001b[0m in \u001b[0;36mannotateErrors\u001b[0;34m(self, action)\u001b[0m\n\u001b[1;32m    137\u001b[0m         \u001b[0;32mtry\u001b[0m\u001b[0;34m:\u001b[0m\u001b[0;34m\u001b[0m\u001b[0;34m\u001b[0m\u001b[0m\n\u001b[0;32m--> 138\u001b[0;31m             \u001b[0;32myield\u001b[0m\u001b[0;34m\u001b[0m\u001b[0;34m\u001b[0m\u001b[0m\n\u001b[0m\u001b[1;32m    139\u001b[0m         \u001b[0;32mexcept\u001b[0m \u001b[0mException\u001b[0m \u001b[0;32mas\u001b[0m \u001b[0merr\u001b[0m\u001b[0;34m:\u001b[0m\u001b[0;34m\u001b[0m\u001b[0;34m\u001b[0m\u001b[0m\n",
      "\u001b[0;32m~/my_env/complete/lib/python3.8/site-packages/guitarpro/gp5.py\u001b[0m in \u001b[0;36mwriteSong\u001b[0;34m(self, song)\u001b[0m\n\u001b[1;32m    902\u001b[0m         \u001b[0;32mwith\u001b[0m \u001b[0mself\u001b[0m\u001b[0;34m.\u001b[0m\u001b[0mannotateErrors\u001b[0m\u001b[0;34m(\u001b[0m\u001b[0;34m'writing'\u001b[0m\u001b[0;34m)\u001b[0m\u001b[0;34m:\u001b[0m\u001b[0;34m\u001b[0m\u001b[0;34m\u001b[0m\u001b[0m\n\u001b[0;32m--> 903\u001b[0;31m             \u001b[0mself\u001b[0m\u001b[0;34m.\u001b[0m\u001b[0mwriteMeasureHeaders\u001b[0m\u001b[0;34m(\u001b[0m\u001b[0msong\u001b[0m\u001b[0;34m.\u001b[0m\u001b[0mtracks\u001b[0m\u001b[0;34m[\u001b[0m\u001b[0;36m0\u001b[0m\u001b[0;34m]\u001b[0m\u001b[0;34m.\u001b[0m\u001b[0mmeasures\u001b[0m\u001b[0;34m)\u001b[0m\u001b[0;34m\u001b[0m\u001b[0;34m\u001b[0m\u001b[0m\n\u001b[0m\u001b[1;32m    904\u001b[0m             \u001b[0mself\u001b[0m\u001b[0;34m.\u001b[0m\u001b[0mwriteTracks\u001b[0m\u001b[0;34m(\u001b[0m\u001b[0msong\u001b[0m\u001b[0;34m.\u001b[0m\u001b[0mtracks\u001b[0m\u001b[0;34m)\u001b[0m\u001b[0;34m\u001b[0m\u001b[0;34m\u001b[0m\u001b[0m\n",
      "\u001b[0;32m~/my_env/complete/lib/python3.8/site-packages/guitarpro/gp3.py\u001b[0m in \u001b[0;36mwriteMeasureHeaders\u001b[0;34m(self, measures)\u001b[0m\n\u001b[1;32m   1107\u001b[0m             \u001b[0mself\u001b[0m\u001b[0;34m.\u001b[0m\u001b[0m_currentMeasureNumber\u001b[0m \u001b[0;34m=\u001b[0m \u001b[0mmeasure\u001b[0m\u001b[0;34m.\u001b[0m\u001b[0mnumber\u001b[0m\u001b[0;34m\u001b[0m\u001b[0;34m\u001b[0m\u001b[0m\n\u001b[0;32m-> 1108\u001b[0;31m             \u001b[0mself\u001b[0m\u001b[0;34m.\u001b[0m\u001b[0mwriteMeasureHeader\u001b[0m\u001b[0;34m(\u001b[0m\u001b[0mmeasure\u001b[0m\u001b[0;34m.\u001b[0m\u001b[0mheader\u001b[0m\u001b[0;34m,\u001b[0m \u001b[0mprevious\u001b[0m\u001b[0;34m)\u001b[0m\u001b[0;34m\u001b[0m\u001b[0;34m\u001b[0m\u001b[0m\n\u001b[0m\u001b[1;32m   1109\u001b[0m             \u001b[0mprevious\u001b[0m \u001b[0;34m=\u001b[0m \u001b[0mmeasure\u001b[0m\u001b[0;34m.\u001b[0m\u001b[0mheader\u001b[0m\u001b[0;34m\u001b[0m\u001b[0;34m\u001b[0m\u001b[0m\n",
      "\u001b[0;32m~/my_env/complete/lib/python3.8/site-packages/guitarpro/gp5.py\u001b[0m in \u001b[0;36mwriteMeasureHeader\u001b[0;34m(self, header, previous)\u001b[0m\n\u001b[1;32m   1013\u001b[0m     \u001b[0;32mdef\u001b[0m \u001b[0mwriteMeasureHeader\u001b[0m\u001b[0;34m(\u001b[0m\u001b[0mself\u001b[0m\u001b[0;34m,\u001b[0m \u001b[0mheader\u001b[0m\u001b[0;34m,\u001b[0m \u001b[0mprevious\u001b[0m\u001b[0;34m=\u001b[0m\u001b[0;32mNone\u001b[0m\u001b[0;34m)\u001b[0m\u001b[0;34m:\u001b[0m\u001b[0;34m\u001b[0m\u001b[0;34m\u001b[0m\u001b[0m\n\u001b[0;32m-> 1014\u001b[0;31m         \u001b[0mflags\u001b[0m \u001b[0;34m=\u001b[0m \u001b[0mself\u001b[0m\u001b[0;34m.\u001b[0m\u001b[0mpackMeasureHeaderFlags\u001b[0m\u001b[0;34m(\u001b[0m\u001b[0mheader\u001b[0m\u001b[0;34m,\u001b[0m \u001b[0mprevious\u001b[0m\u001b[0;34m)\u001b[0m\u001b[0;34m\u001b[0m\u001b[0;34m\u001b[0m\u001b[0m\n\u001b[0m\u001b[1;32m   1015\u001b[0m         \u001b[0;32mif\u001b[0m \u001b[0mprevious\u001b[0m \u001b[0;32mis\u001b[0m \u001b[0;32mnot\u001b[0m \u001b[0;32mNone\u001b[0m\u001b[0;34m:\u001b[0m\u001b[0;34m\u001b[0m\u001b[0;34m\u001b[0m\u001b[0m\n",
      "\u001b[0;32m~/my_env/complete/lib/python3.8/site-packages/guitarpro/gp5.py\u001b[0m in \u001b[0;36mpackMeasureHeaderFlags\u001b[0;34m(self, header, previous)\u001b[0m\n\u001b[1;32m   1019\u001b[0m     \u001b[0;32mdef\u001b[0m \u001b[0mpackMeasureHeaderFlags\u001b[0m\u001b[0;34m(\u001b[0m\u001b[0mself\u001b[0m\u001b[0;34m,\u001b[0m \u001b[0mheader\u001b[0m\u001b[0;34m,\u001b[0m \u001b[0mprevious\u001b[0m\u001b[0;34m=\u001b[0m\u001b[0;32mNone\u001b[0m\u001b[0;34m)\u001b[0m\u001b[0;34m:\u001b[0m\u001b[0;34m\u001b[0m\u001b[0;34m\u001b[0m\u001b[0m\n\u001b[0;32m-> 1020\u001b[0;31m         \u001b[0mflags\u001b[0m \u001b[0;34m=\u001b[0m \u001b[0msuper\u001b[0m\u001b[0;34m(\u001b[0m\u001b[0mGP5File\u001b[0m\u001b[0;34m,\u001b[0m \u001b[0mself\u001b[0m\u001b[0;34m)\u001b[0m\u001b[0;34m.\u001b[0m\u001b[0mpackMeasureHeaderFlags\u001b[0m\u001b[0;34m(\u001b[0m\u001b[0mheader\u001b[0m\u001b[0;34m,\u001b[0m \u001b[0mprevious\u001b[0m\u001b[0;34m)\u001b[0m\u001b[0;34m\u001b[0m\u001b[0;34m\u001b[0m\u001b[0m\n\u001b[0m\u001b[1;32m   1021\u001b[0m         \u001b[0;32mif\u001b[0m \u001b[0mprevious\u001b[0m \u001b[0;32mis\u001b[0m \u001b[0;32mnot\u001b[0m \u001b[0;32mNone\u001b[0m\u001b[0;34m:\u001b[0m\u001b[0;34m\u001b[0m\u001b[0;34m\u001b[0m\u001b[0m\n",
      "\u001b[0;32m~/my_env/complete/lib/python3.8/site-packages/guitarpro/gp4.py\u001b[0m in \u001b[0;36mpackMeasureHeaderFlags\u001b[0;34m(self, header, previous)\u001b[0m\n\u001b[1;32m     97\u001b[0m     \u001b[0;32mdef\u001b[0m \u001b[0mpackMeasureHeaderFlags\u001b[0m\u001b[0;34m(\u001b[0m\u001b[0mself\u001b[0m\u001b[0;34m,\u001b[0m \u001b[0mheader\u001b[0m\u001b[0;34m,\u001b[0m \u001b[0mprevious\u001b[0m\u001b[0;34m=\u001b[0m\u001b[0;32mNone\u001b[0m\u001b[0;34m)\u001b[0m\u001b[0;34m:\u001b[0m\u001b[0;34m\u001b[0m\u001b[0;34m\u001b[0m\u001b[0m\n\u001b[0;32m---> 98\u001b[0;31m         \u001b[0mflags\u001b[0m \u001b[0;34m=\u001b[0m \u001b[0msuper\u001b[0m\u001b[0;34m(\u001b[0m\u001b[0mGP4File\u001b[0m\u001b[0;34m,\u001b[0m \u001b[0mself\u001b[0m\u001b[0;34m)\u001b[0m\u001b[0;34m.\u001b[0m\u001b[0mpackMeasureHeaderFlags\u001b[0m\u001b[0;34m(\u001b[0m\u001b[0mheader\u001b[0m\u001b[0;34m,\u001b[0m \u001b[0mprevious\u001b[0m\u001b[0;34m)\u001b[0m\u001b[0;34m\u001b[0m\u001b[0;34m\u001b[0m\u001b[0m\n\u001b[0m\u001b[1;32m     99\u001b[0m         \u001b[0;32mif\u001b[0m \u001b[0mprevious\u001b[0m \u001b[0;32mis\u001b[0m \u001b[0;32mNone\u001b[0m \u001b[0;32mor\u001b[0m \u001b[0mheader\u001b[0m\u001b[0;34m.\u001b[0m\u001b[0mkeySignature\u001b[0m \u001b[0;34m!=\u001b[0m \u001b[0mprevious\u001b[0m\u001b[0;34m.\u001b[0m\u001b[0mkeySignature\u001b[0m\u001b[0;34m:\u001b[0m\u001b[0;34m\u001b[0m\u001b[0;34m\u001b[0m\u001b[0m\n",
      "\u001b[0;32m~/my_env/complete/lib/python3.8/site-packages/guitarpro/gp3.py\u001b[0m in \u001b[0;36mpackMeasureHeaderFlags\u001b[0;34m(self, header, previous)\u001b[0m\n\u001b[1;32m   1120\u001b[0m                 \u001b[0mflags\u001b[0m \u001b[0;34m|=\u001b[0m \u001b[0;36m0x01\u001b[0m\u001b[0;34m\u001b[0m\u001b[0;34m\u001b[0m\u001b[0m\n\u001b[0;32m-> 1121\u001b[0;31m             \u001b[0;32mif\u001b[0m \u001b[0mheader\u001b[0m\u001b[0;34m.\u001b[0m\u001b[0mtimeSignature\u001b[0m\u001b[0;34m.\u001b[0m\u001b[0mdenominator\u001b[0m\u001b[0;34m.\u001b[0m\u001b[0mvalue\u001b[0m \u001b[0;34m!=\u001b[0m \u001b[0mprevious\u001b[0m\u001b[0;34m.\u001b[0m\u001b[0mtimeSignature\u001b[0m\u001b[0;34m.\u001b[0m\u001b[0mdenominator\u001b[0m\u001b[0;34m.\u001b[0m\u001b[0mvalue\u001b[0m\u001b[0;34m:\u001b[0m\u001b[0;34m\u001b[0m\u001b[0;34m\u001b[0m\u001b[0m\n\u001b[0m\u001b[1;32m   1122\u001b[0m                 \u001b[0mflags\u001b[0m \u001b[0;34m|=\u001b[0m \u001b[0;36m0x02\u001b[0m\u001b[0;34m\u001b[0m\u001b[0;34m\u001b[0m\u001b[0m\n",
      "\u001b[0;31mAttributeError\u001b[0m: 'int' object has no attribute 'value'",
      "\nThe above exception was the direct cause of the following exception:\n",
      "\u001b[0;31mGPException\u001b[0m                               Traceback (most recent call last)",
      "\u001b[0;32m<ipython-input-359-da68b47d9ae0>\u001b[0m in \u001b[0;36m<module>\u001b[0;34m\u001b[0m\n\u001b[0;32m----> 1\u001b[0;31m \u001b[0mguitarpro\u001b[0m\u001b[0;34m.\u001b[0m\u001b[0mwrite\u001b[0m\u001b[0;34m(\u001b[0m\u001b[0msong\u001b[0m\u001b[0;34m,\u001b[0m \u001b[0;34m'generated.gp5'\u001b[0m\u001b[0;34m)\u001b[0m\u001b[0;34m\u001b[0m\u001b[0;34m\u001b[0m\u001b[0m\n\u001b[0m",
      "\u001b[0;32m~/my_env/complete/lib/python3.8/site-packages/guitarpro/io.py\u001b[0m in \u001b[0;36mwrite\u001b[0;34m(song, stream, version, encoding)\u001b[0m\n\u001b[1;32m     76\u001b[0m     \u001b[0mgpfile\u001b[0m\u001b[0;34m,\u001b[0m \u001b[0mshouldClose\u001b[0m \u001b[0;34m=\u001b[0m \u001b[0m_open\u001b[0m\u001b[0;34m(\u001b[0m\u001b[0msong\u001b[0m\u001b[0;34m,\u001b[0m \u001b[0mstream\u001b[0m\u001b[0;34m,\u001b[0m \u001b[0;34m'wb'\u001b[0m\u001b[0;34m,\u001b[0m \u001b[0mversion\u001b[0m\u001b[0;34m=\u001b[0m\u001b[0mversion\u001b[0m\u001b[0;34m,\u001b[0m \u001b[0mencoding\u001b[0m\u001b[0;34m=\u001b[0m\u001b[0mencoding\u001b[0m\u001b[0;34m)\u001b[0m\u001b[0;34m\u001b[0m\u001b[0;34m\u001b[0m\u001b[0m\n\u001b[1;32m     77\u001b[0m     \u001b[0;32mtry\u001b[0m\u001b[0;34m:\u001b[0m\u001b[0;34m\u001b[0m\u001b[0;34m\u001b[0m\u001b[0m\n\u001b[0;32m---> 78\u001b[0;31m         \u001b[0mgpfile\u001b[0m\u001b[0;34m.\u001b[0m\u001b[0mwriteSong\u001b[0m\u001b[0;34m(\u001b[0m\u001b[0msong\u001b[0m\u001b[0;34m)\u001b[0m\u001b[0;34m\u001b[0m\u001b[0;34m\u001b[0m\u001b[0m\n\u001b[0m\u001b[1;32m     79\u001b[0m     \u001b[0;32mfinally\u001b[0m\u001b[0;34m:\u001b[0m\u001b[0;34m\u001b[0m\u001b[0;34m\u001b[0m\u001b[0m\n\u001b[1;32m     80\u001b[0m         \u001b[0;32mif\u001b[0m \u001b[0mshouldClose\u001b[0m\u001b[0;34m:\u001b[0m\u001b[0;34m\u001b[0m\u001b[0;34m\u001b[0m\u001b[0m\n",
      "\u001b[0;32m~/my_env/complete/lib/python3.8/site-packages/guitarpro/gp5.py\u001b[0m in \u001b[0;36mwriteSong\u001b[0;34m(self, song)\u001b[0m\n\u001b[1;32m    903\u001b[0m             \u001b[0mself\u001b[0m\u001b[0;34m.\u001b[0m\u001b[0mwriteMeasureHeaders\u001b[0m\u001b[0;34m(\u001b[0m\u001b[0msong\u001b[0m\u001b[0;34m.\u001b[0m\u001b[0mtracks\u001b[0m\u001b[0;34m[\u001b[0m\u001b[0;36m0\u001b[0m\u001b[0;34m]\u001b[0m\u001b[0;34m.\u001b[0m\u001b[0mmeasures\u001b[0m\u001b[0;34m)\u001b[0m\u001b[0;34m\u001b[0m\u001b[0;34m\u001b[0m\u001b[0m\n\u001b[1;32m    904\u001b[0m             \u001b[0mself\u001b[0m\u001b[0;34m.\u001b[0m\u001b[0mwriteTracks\u001b[0m\u001b[0;34m(\u001b[0m\u001b[0msong\u001b[0m\u001b[0;34m.\u001b[0m\u001b[0mtracks\u001b[0m\u001b[0;34m)\u001b[0m\u001b[0;34m\u001b[0m\u001b[0;34m\u001b[0m\u001b[0m\n\u001b[0;32m--> 905\u001b[0;31m             \u001b[0mself\u001b[0m\u001b[0;34m.\u001b[0m\u001b[0mwriteMeasures\u001b[0m\u001b[0;34m(\u001b[0m\u001b[0msong\u001b[0m\u001b[0;34m.\u001b[0m\u001b[0mtracks\u001b[0m\u001b[0;34m)\u001b[0m\u001b[0;34m\u001b[0m\u001b[0;34m\u001b[0m\u001b[0m\n\u001b[0m\u001b[1;32m    906\u001b[0m \u001b[0;34m\u001b[0m\u001b[0m\n\u001b[1;32m    907\u001b[0m     \u001b[0;32mdef\u001b[0m \u001b[0mwriteClipboard\u001b[0m\u001b[0;34m(\u001b[0m\u001b[0mself\u001b[0m\u001b[0;34m,\u001b[0m \u001b[0mclipboard\u001b[0m\u001b[0;34m)\u001b[0m\u001b[0;34m:\u001b[0m\u001b[0;34m\u001b[0m\u001b[0;34m\u001b[0m\u001b[0m\n",
      "\u001b[0;32m/usr/lib/python3.8/contextlib.py\u001b[0m in \u001b[0;36m__exit__\u001b[0;34m(self, type, value, traceback)\u001b[0m\n\u001b[1;32m    129\u001b[0m                 \u001b[0mvalue\u001b[0m \u001b[0;34m=\u001b[0m \u001b[0mtype\u001b[0m\u001b[0;34m(\u001b[0m\u001b[0;34m)\u001b[0m\u001b[0;34m\u001b[0m\u001b[0;34m\u001b[0m\u001b[0m\n\u001b[1;32m    130\u001b[0m             \u001b[0;32mtry\u001b[0m\u001b[0;34m:\u001b[0m\u001b[0;34m\u001b[0m\u001b[0;34m\u001b[0m\u001b[0m\n\u001b[0;32m--> 131\u001b[0;31m                 \u001b[0mself\u001b[0m\u001b[0;34m.\u001b[0m\u001b[0mgen\u001b[0m\u001b[0;34m.\u001b[0m\u001b[0mthrow\u001b[0m\u001b[0;34m(\u001b[0m\u001b[0mtype\u001b[0m\u001b[0;34m,\u001b[0m \u001b[0mvalue\u001b[0m\u001b[0;34m,\u001b[0m \u001b[0mtraceback\u001b[0m\u001b[0;34m)\u001b[0m\u001b[0;34m\u001b[0m\u001b[0;34m\u001b[0m\u001b[0m\n\u001b[0m\u001b[1;32m    132\u001b[0m             \u001b[0;32mexcept\u001b[0m \u001b[0mStopIteration\u001b[0m \u001b[0;32mas\u001b[0m \u001b[0mexc\u001b[0m\u001b[0;34m:\u001b[0m\u001b[0;34m\u001b[0m\u001b[0;34m\u001b[0m\u001b[0m\n\u001b[1;32m    133\u001b[0m                 \u001b[0;31m# Suppress StopIteration *unless* it's the same exception that\u001b[0m\u001b[0;34m\u001b[0m\u001b[0;34m\u001b[0m\u001b[0;34m\u001b[0m\u001b[0m\n",
      "\u001b[0;32m~/my_env/complete/lib/python3.8/site-packages/guitarpro/iobase.py\u001b[0m in \u001b[0;36mannotateErrors\u001b[0;34m(self, action)\u001b[0m\n\u001b[1;32m    141\u001b[0m             \u001b[0;32mif\u001b[0m \u001b[0;32mnot\u001b[0m \u001b[0mlocation\u001b[0m\u001b[0;34m:\u001b[0m\u001b[0;34m\u001b[0m\u001b[0;34m\u001b[0m\u001b[0m\n\u001b[1;32m    142\u001b[0m                 \u001b[0;32mraise\u001b[0m\u001b[0;34m\u001b[0m\u001b[0;34m\u001b[0m\u001b[0m\n\u001b[0;32m--> 143\u001b[0;31m             raise gp.GPException(f\"{action} {', '.join(location)}, \"\n\u001b[0m\u001b[1;32m    144\u001b[0m                                  f\"got {err.__class__.__name__}: {err}\") from err\n\u001b[1;32m    145\u001b[0m         \u001b[0;32mfinally\u001b[0m\u001b[0;34m:\u001b[0m\u001b[0;34m\u001b[0m\u001b[0;34m\u001b[0m\u001b[0m\n",
      "\u001b[0;31mGPException\u001b[0m: writing measure 1, got AttributeError: 'int' object has no attribute 'value'"
     ]
    }
   ],
   "source": [
    "guitarpro.write(song, 'generated.gp5')"
   ]
  },
  {
   "cell_type": "code",
   "execution_count": 165,
   "metadata": {},
   "outputs": [
    {
     "data": {
      "text/plain": [
       "['4936',\n",
       " '',\n",
       " '4438',\n",
       " '',\n",
       " '3654',\n",
       " '',\n",
       " '5147',\n",
       " '3536',\n",
       " '4438',\n",
       " '',\n",
       " '5147',\n",
       " '',\n",
       " '414336',\n",
       " '',\n",
       " '445136',\n",
       " '']"
      ]
     },
     "execution_count": 165,
     "metadata": {},
     "output_type": "execute_result"
    }
   ],
   "source": [
    "generated_to_notes[32:48]"
   ]
  }
 ],
 "metadata": {
  "kernelspec": {
   "display_name": "Python 3",
   "language": "python",
   "name": "python3"
  },
  "language_info": {
   "codemirror_mode": {
    "name": "ipython",
    "version": 3
   },
   "file_extension": ".py",
   "mimetype": "text/x-python",
   "name": "python",
   "nbconvert_exporter": "python",
   "pygments_lexer": "ipython3",
   "version": "3.8.5"
  }
 },
 "nbformat": 4,
 "nbformat_minor": 4
}
