{
 "cells": [
  {
   "cell_type": "code",
   "execution_count": 1,
   "id": "indie-scope",
   "metadata": {},
   "outputs": [],
   "source": [
    "import os\n",
    "from tqdm.notebook import tqdm\n",
    "import guitarpro\n",
    "import matplotlib.pyplot as plt\n",
    "from tensorflow.keras.utils import to_categorical\n",
    "import numpy as np\n",
    "\n",
    "import pandas as pd\n",
    "from collections import Counter\n",
    "\n",
    "from src.models.vae import MusicVAE\n",
    "from src.parse_gp import drop_rests_from_drum_track, get_notes_and_durations\n",
    "from src.save_midi import save_notes_and_durations"
   ]
  },
  {
   "cell_type": "code",
   "execution_count": 2,
   "id": "chemical-order",
   "metadata": {},
   "outputs": [],
   "source": [
    "folderpath = \"tabs/\"\n",
    "track_name = 'guitar'"
   ]
  },
  {
   "cell_type": "code",
   "execution_count": 3,
   "id": "diagnostic-farming",
   "metadata": {},
   "outputs": [
    {
     "data": {
      "application/vnd.jupyter.widget-view+json": {
       "model_id": "a557f78c0e754a1db18d18f74409ff29",
       "version_major": 2,
       "version_minor": 0
      },
      "text/plain": [
       "  0%|          | 0/14 [00:00<?, ?it/s]"
      ]
     },
     "metadata": {},
     "output_type": "display_data"
    },
    {
     "data": {
      "application/vnd.jupyter.widget-view+json": {
       "model_id": "2499e588a48a421387502c9c522697a1",
       "version_major": 2,
       "version_minor": 0
      },
      "text/plain": [
       "  0%|          | 0/12 [00:00<?, ?it/s]"
      ]
     },
     "metadata": {},
     "output_type": "display_data"
    }
   ],
   "source": [
    "notes, durations = [], []\n",
    "for folder in os.listdir(folderpath):\n",
    "    for filename in tqdm(os.listdir(folderpath + folder + '/')):\n",
    "        tab = guitarpro.parse(folderpath + folder + '/' + filename)\n",
    "        tab_notes, tab_durations = get_notes_and_durations(tab, track_name, True)\n",
    "        notes += tab_notes\n",
    "        durations += tab_durations"
   ]
  },
  {
   "cell_type": "code",
   "execution_count": 4,
   "id": "aboriginal-death",
   "metadata": {},
   "outputs": [
    {
     "data": {
      "text/plain": [
       "<BarContainer object of 526 artists>"
      ]
     },
     "execution_count": 4,
     "metadata": {},
     "output_type": "execute_result"
    },
    {
     "data": {
      "image/png": "[encoded data removed]",
      "text/plain": [
       "<Figure size 432x288 with 1 Axes>"
      ]
     },
     "metadata": {
      "image/png": {
       "height": 248,
       "width": 381
      },
      "needs_background": "light"
     },
     "output_type": "display_data"
    }
   ],
   "source": [
    "note_counts = Counter(notes)\n",
    "df = pd.DataFrame(note_counts.items(), columns=['note', 'cnt']).sort_values('cnt', ascending=False)\n",
    "plt.bar(range(df.shape[0]), df.cnt)"
   ]
  },
  {
   "cell_type": "code",
   "execution_count": 5,
   "id": "higher-ferry",
   "metadata": {},
   "outputs": [],
   "source": [
    "limit = 150\n",
    "note_to_use = df.iloc[:limit].note.values"
   ]
  },
  {
   "cell_type": "code",
   "execution_count": 6,
   "id": "protected-python",
   "metadata": {},
   "outputs": [],
   "source": [
    "notes_corr, durations_corr = [], []\n",
    "for note, dur in zip(notes, durations):\n",
    "    if note in note_to_use:\n",
    "        notes_corr.append(note)\n",
    "        durations_corr.append(dur)"
   ]
  },
  {
   "cell_type": "code",
   "execution_count": 7,
   "id": "special-argument",
   "metadata": {},
   "outputs": [
    {
     "data": {
      "text/plain": [
       "[22, 3, 3, 0, 3, 3, 3, 5, 3, 0]"
      ]
     },
     "execution_count": 7,
     "metadata": {},
     "output_type": "execute_result"
    }
   ],
   "source": [
    "note_dictionary = {note: i for i, note in enumerate(note_to_use)}\n",
    "inv_note_dictionary = {i: note for note, i in note_dictionary.items()}\n",
    "notes_to_int = [note_dictionary[note] for note in notes_corr]\n",
    "notes_to_int[:10]"
   ]
  },
  {
   "cell_type": "code",
   "execution_count": 8,
   "id": "level-thong",
   "metadata": {},
   "outputs": [
    {
     "data": {
      "text/plain": [
       "[1, 0, 0, 0, 0, 0, 0, 0, 0, 0]"
      ]
     },
     "execution_count": 8,
     "metadata": {},
     "output_type": "execute_result"
    }
   ],
   "source": [
    "duration_dictionary = {dur: i for i, dur in enumerate(set(durations_corr))}\n",
    "inv_dur_dictionary = {i: dur for dur, i in duration_dictionary.items()}\n",
    "durations_to_int = [duration_dictionary[dur] for dur in durations_corr]\n",
    "durations_to_int[:10]"
   ]
  },
  {
   "cell_type": "code",
   "execution_count": 9,
   "id": "theoretical-richardson",
   "metadata": {},
   "outputs": [],
   "source": [
    "def prepare_sequences(notes, durations, length, step, n_notes, n_durations):\n",
    "    batch_size = 32\n",
    "    note_sequences = []\n",
    "    dur_sequences = []\n",
    "    for i in range(0, len(notes) - length, step):\n",
    "        note_sequences.append(notes[i: i + length])\n",
    "        dur_sequences.append(durations[i: i + length])\n",
    "    \n",
    "    note_sequences = np.array(note_sequences)\n",
    "    dur_sequences = np.array(dur_sequences)\n",
    "    \n",
    "    length = (len(note_sequences) // batch_size) * batch_size\n",
    "    indicies = np.arange(length)\n",
    "    np.random.shuffle(indicies)\n",
    "    \n",
    "    note_targets = to_categorical(note_sequences[indicies], n_notes)    \n",
    "    dur_targets = to_categorical(dur_sequences[indicies], n_durations)\n",
    "    sequences = [note_sequences[indicies], dur_sequences[indicies]]\n",
    "    targets = [note_targets, dur_targets]\n",
    "    return sequences, targets"
   ]
  },
  {
   "cell_type": "code",
   "execution_count": 10,
   "id": "forward-dancing",
   "metadata": {},
   "outputs": [
    {
     "data": {
      "text/plain": [
       "(18432, 128)"
      ]
     },
     "execution_count": 10,
     "metadata": {},
     "output_type": "execute_result"
    }
   ],
   "source": [
    "X, y = prepare_sequences(notes_to_int, durations_to_int, 128, 1, len(note_dictionary), len(duration_dictionary))\n",
    "X[0].shape"
   ]
  },
  {
   "cell_type": "code",
   "execution_count": 11,
   "id": "turkish-statistics",
   "metadata": {},
   "outputs": [
    {
     "data": {
      "text/plain": [
       "(18432, 128, 150)"
      ]
     },
     "execution_count": 11,
     "metadata": {},
     "output_type": "execute_result"
    }
   ],
   "source": [
    "y[0].shape"
   ]
  },
  {
   "cell_type": "code",
   "execution_count": 12,
   "id": "interstate-wrong",
   "metadata": {
    "tags": []
   },
   "outputs": [],
   "source": [
    "model = MusicVAE(\n",
    "    kernel_size = 32,\n",
    "    encoder_filters = [64, 32, 16, 8],\n",
    "    encoder_strides = [1, 2, 2, 1],\n",
    "    decoder_filters = [8, 16, 32, 64],\n",
    "    decoder_strides = [1, 2, 2, 1],\n",
    "    n_notes = len(note_dictionary),\n",
    "    n_durations = len(duration_dictionary),\n",
    "    emb_size = 32,\n",
    "    input_dim = X[0].shape[1],\n",
    "    latent_dim = 2,\n",
    "    loss_factor = 500\n",
    ")"
   ]
  },
  {
   "cell_type": "code",
   "execution_count": 13,
   "id": "official-stylus",
   "metadata": {},
   "outputs": [],
   "source": [
    "model.compile(0.0005)"
   ]
  },
  {
   "cell_type": "code",
   "execution_count": 14,
   "id": "excessive-munich",
   "metadata": {},
   "outputs": [
    {
     "name": "stdout",
     "output_type": "stream",
     "text": [
      "Epoch 1/20\n",
      "576/576 [==============================] - 24s 40ms/step - cce_notes: 2039.0278 - cce_durations: 672.9116 - kl: 7.8678 - loss: 2719.8071\n",
      "Epoch 2/20\n",
      "576/576 [==============================] - 23s 40ms/step - cce_notes: 1861.3621 - cce_durations: 599.0611 - kl: 7.3102 - loss: 2467.7332\n",
      "Epoch 3/20\n",
      "576/576 [==============================] - 21s 37ms/step - cce_notes: 1789.5075 - cce_durations: 602.5409 - kl: 7.7311 - loss: 2399.7798\n",
      "Epoch 4/20\n",
      "576/576 [==============================] - 23s 40ms/step - cce_notes: 1732.1118 - cce_durations: 599.1232 - kl: 8.1498 - loss: 2339.3850\n",
      "Epoch 5/20\n",
      "576/576 [==============================] - 22s 39ms/step - cce_notes: 1694.6351 - cce_durations: 594.0834 - kl: 8.3886 - loss: 2297.1072\n",
      "Epoch 6/20\n",
      "576/576 [==============================] - 22s 39ms/step - cce_notes: 1664.0073 - cce_durations: 591.1787 - kl: 8.4774 - loss: 2263.6631\n",
      "Epoch 7/20\n",
      "576/576 [==============================] - 22s 39ms/step - cce_notes: 1639.3178 - cce_durations: 589.9895 - kl: 8.6093 - loss: 2237.9165\n",
      "Epoch 8/20\n",
      "576/576 [==============================] - 22s 38ms/step - cce_notes: 1616.2372 - cce_durations: 588.1926 - kl: 8.8964 - loss: 2213.3262\n",
      "Epoch 9/20\n",
      "576/576 [==============================] - 22s 39ms/step - cce_notes: 1594.7582 - cce_durations: 586.0068 - kl: 9.0020 - loss: 2189.7671\n",
      "Epoch 10/20\n",
      "576/576 [==============================] - 23s 39ms/step - cce_notes: 1577.9847 - cce_durations: 584.8103 - kl: 9.2140 - loss: 2172.0093\n",
      "Epoch 11/20\n",
      "576/576 [==============================] - 22s 39ms/step - cce_notes: 1560.0666 - cce_durations: 581.7915 - kl: 9.3884 - loss: 2151.2466\n",
      "Epoch 12/20\n",
      "576/576 [==============================] - 22s 39ms/step - cce_notes: 1547.5004 - cce_durations: 579.9374 - kl: 9.4107 - loss: 2136.8486\n",
      "Epoch 13/20\n",
      "576/576 [==============================] - 22s 38ms/step - cce_notes: 1537.7362 - cce_durations: 578.6659 - kl: 9.5020 - loss: 2125.9043\n",
      "Epoch 14/20\n",
      "576/576 [==============================] - 21s 37ms/step - cce_notes: 1526.6023 - cce_durations: 576.1818 - kl: 9.6718 - loss: 2112.4561\n",
      "Epoch 15/20\n",
      "576/576 [==============================] - 21s 36ms/step - cce_notes: 1519.9608 - cce_durations: 575.4653 - kl: 9.9166 - loss: 2105.3428\n",
      "Epoch 16/20\n",
      "576/576 [==============================] - 21s 37ms/step - cce_notes: 1508.9451 - cce_durations: 572.7138 - kl: 9.7781 - loss: 2091.4370\n",
      "Epoch 17/20\n",
      "576/576 [==============================] - 22s 37ms/step - cce_notes: 1504.7108 - cce_durations: 571.9352 - kl: 9.7698 - loss: 2086.4160\n",
      "Epoch 18/20\n",
      "576/576 [==============================] - 21s 36ms/step - cce_notes: 1494.4662 - cce_durations: 569.5282 - kl: 9.8921 - loss: 2073.8862\n",
      "Epoch 19/20\n",
      "576/576 [==============================] - 21s 36ms/step - cce_notes: 1489.5212 - cce_durations: 568.8751 - kl: 9.9176 - loss: 2068.3140\n",
      "Epoch 20/20\n",
      "576/576 [==============================] - 22s 37ms/step - cce_notes: 1484.2557 - cce_durations: 567.4373 - kl: 9.9091 - loss: 2061.6021\n"
     ]
    },
    {
     "data": {
      "text/plain": [
       "<tensorflow.python.keras.callbacks.History at 0x7f9f7335ea30>"
      ]
     },
     "execution_count": 14,
     "metadata": {},
     "output_type": "execute_result"
    }
   ],
   "source": [
    "model.model.fit(\n",
    "    X, y,\n",
    "    shuffle=True,\n",
    "    batch_size=32,\n",
    "    epochs=20\n",
    ")"
   ]
  },
  {
   "cell_type": "code",
   "execution_count": 15,
   "id": "hollow-protocol",
   "metadata": {},
   "outputs": [
    {
     "data": {
      "image/png": "[encoded data removed]",
      "text/plain": [
       "<Figure size 720x720 with 1 Axes>"
      ]
     },
     "metadata": {
      "image/png": {
       "height": 574,
       "width": 603
      },
      "needs_background": "light"
     },
     "output_type": "display_data"
    }
   ],
   "source": [
    "example_idx = np.random.choice(range(len(X)), 1000)\n",
    "example_states = [X[0][example_idx], X[1][example_idx]]\n",
    "\n",
    "_, _, z_points = model.encoder.predict(example_states)\n",
    "\n",
    "plt.figure(figsize=(10, 10))\n",
    "plt.scatter(z_points[:, 0] , z_points[:, 1] , cmap='rainbow' , alpha=0.5, s=2)\n",
    "plt.show()"
   ]
  },
  {
   "cell_type": "code",
   "execution_count": 16,
   "id": "blond-stanford",
   "metadata": {},
   "outputs": [],
   "source": [
    "def sample(preds, temperature):\n",
    "    if temperature == 0:\n",
    "        return np.argmax(preds)\n",
    "    else:\n",
    "        preds = np.log(preds) / temperature\n",
    "        exp_preds = np.exp(preds)\n",
    "        preds = exp_preds / np.sum(exp_preds)\n",
    "        return np.random.choice(len(preds), p=preds)"
   ]
  },
  {
   "cell_type": "code",
   "execution_count": 18,
   "id": "administrative-broadway",
   "metadata": {},
   "outputs": [],
   "source": [
    "temperatures = [0.0, 0.5, 0.9]\n",
    "\n",
    "for temperature in temperatures:\n",
    "    generated_notes = []\n",
    "    generated_durations = []\n",
    "    predicted_notes, predicted_durations = model.decoder.predict(np.array([[-0.15, -1.45]]))\n",
    "    for i in range(predicted_notes.shape[1]):\n",
    "        generated_notes.append(sample(predicted_notes[0][i], temperature))\n",
    "        generated_durations.append(sample(predicted_durations[0][i], temperature))\n",
    "        \n",
    "    generated = [[inv_note_dictionary[x] for x in generated_notes], [inv_dur_dictionary[x] for x in generated_durations]]\n",
    "    save_notes_and_durations(generated, f'output/vae_upsample/output_{temperature}_down')"
   ]
  },
  {
   "cell_type": "code",
   "execution_count": null,
   "id": "useful-radar",
   "metadata": {},
   "outputs": [],
   "source": []
  }
 ],
 "metadata": {
  "kernelspec": {
   "display_name": "Python 3",
   "language": "python",
   "name": "python3"
  },
  "language_info": {
   "codemirror_mode": {
    "name": "ipython",
    "version": 3
   },
   "file_extension": ".py",
   "mimetype": "text/x-python",
   "name": "python",
   "nbconvert_exporter": "python",
   "pygments_lexer": "ipython3",
   "version": "3.8.5"
  }
 },
 "nbformat": 4,
 "nbformat_minor": 5
}
