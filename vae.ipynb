{
 "cells": [
  {
   "cell_type": "code",
   "execution_count": 8,
   "id": "julian-alexandria",
   "metadata": {},
   "outputs": [],
   "source": [
    "import os\n",
    "from tqdm.notebook import tqdm\n",
    "import guitarpro\n",
    "import matplotlib.pyplot as plt\n",
    "from tensorflow.keras.utils import to_categorical\n",
    "import numpy as np\n",
    "\n",
    "from src.models.vae import MusicVAE\n",
    "from src.parse_gp import drop_rests_from_drum_track, get_notes_and_durations\n",
    "from src.save_midi import save_notes_and_durations, save_notes"
   ]
  },
  {
   "cell_type": "code",
   "execution_count": 2,
   "id": "elect-vitamin",
   "metadata": {},
   "outputs": [],
   "source": [
    "folderpath = \"tabs/\"\n",
    "track_name = 'guitar'"
   ]
  },
  {
   "cell_type": "code",
   "execution_count": 3,
   "id": "dried-saskatchewan",
   "metadata": {},
   "outputs": [
    {
     "data": {
      "application/vnd.jupyter.widget-view+json": {
       "model_id": "3bda1a93b89d447dbf84b712ab397a9d",
       "version_major": 2,
       "version_minor": 0
      },
      "text/plain": [
       "  0%|          | 0/12 [00:00<?, ?it/s]"
      ]
     },
     "metadata": {},
     "output_type": "display_data"
    }
   ],
   "source": [
    "notes, durations = [], []\n",
    "for folder in os.listdir(folderpath):\n",
    "    for filename in tqdm(os.listdir(folderpath + folder + '/')):\n",
    "        tab = guitarpro.parse(folderpath + folder + '/' + filename)\n",
    "        tab_notes, tab_durations = get_notes_and_durations(tab, track_name, False)\n",
    "        notes += tab_notes\n",
    "        durations += tab_durations"
   ]
  },
  {
   "cell_type": "code",
   "execution_count": 4,
   "id": "roman-lucas",
   "metadata": {},
   "outputs": [
    {
     "data": {
      "text/plain": [
       "[20, 71, 78, 156, 8, 168, 71, 78, 156, 8]"
      ]
     },
     "execution_count": 4,
     "metadata": {},
     "output_type": "execute_result"
    }
   ],
   "source": [
    "note_dictionary = {note: i for i, note in enumerate(set(notes))}\n",
    "inv_note_dictionary = {i: note for note, i in note_dictionary.items()}\n",
    "notes_to_int = [note_dictionary[note] for note in notes]\n",
    "notes_to_int[:10]"
   ]
  },
  {
   "cell_type": "code",
   "execution_count": 5,
   "id": "sexual-likelihood",
   "metadata": {},
   "outputs": [
    {
     "data": {
      "text/plain": [
       "[1, 0, 0, 0, 0, 1, 0, 0, 0, 0]"
      ]
     },
     "execution_count": 5,
     "metadata": {},
     "output_type": "execute_result"
    }
   ],
   "source": [
    "duration_dictionary = {dur: i for i, dur in enumerate(set(durations))}\n",
    "inv_dur_dictionary = {i: dur for dur, i in duration_dictionary.items()}\n",
    "durations_to_int = [duration_dictionary[dur] for dur in durations]\n",
    "durations_to_int[:10]"
   ]
  },
  {
   "cell_type": "code",
   "execution_count": 6,
   "id": "diverse-asbestos",
   "metadata": {},
   "outputs": [],
   "source": [
    "def prepare_sequences(notes, durations, length, step, n_notes, n_durations):\n",
    "    batch_size = 32\n",
    "    note_sequences = []\n",
    "    dur_sequences = []\n",
    "    for i in range(0, len(notes) - length, step):\n",
    "        note_sequences.append(notes[i: i + length])\n",
    "        dur_sequences.append(durations[i: i + length])\n",
    "    \n",
    "    note_sequences = np.array(note_sequences)\n",
    "    dur_sequences = np.array(dur_sequences)\n",
    "    \n",
    "    length = (len(note_sequences) // batch_size) * batch_size\n",
    "    indicies = np.arange(length)\n",
    "    np.random.shuffle(indicies)\n",
    "    \n",
    "    note_targets = to_categorical(note_sequences[indicies], n_notes)    \n",
    "    dur_targets = to_categorical(dur_sequences[indicies], n_durations)\n",
    "    sequences = [note_sequences[indicies], dur_sequences[indicies]]\n",
    "    targets = [note_targets, dur_targets]\n",
    "    return sequences, targets"
   ]
  },
  {
   "cell_type": "code",
   "execution_count": 9,
   "id": "round-stream",
   "metadata": {},
   "outputs": [
    {
     "data": {
      "text/plain": [
       "(6208, 128)"
      ]
     },
     "execution_count": 9,
     "metadata": {},
     "output_type": "execute_result"
    }
   ],
   "source": [
    "X, y = prepare_sequences(notes_to_int, durations_to_int, 128, 1, len(note_dictionary), len(duration_dictionary))\n",
    "X[0].shape"
   ]
  },
  {
   "cell_type": "code",
   "execution_count": 10,
   "id": "sorted-ideal",
   "metadata": {},
   "outputs": [
    {
     "data": {
      "text/plain": [
       "(6208, 128, 226)"
      ]
     },
     "execution_count": 10,
     "metadata": {},
     "output_type": "execute_result"
    }
   ],
   "source": [
    "y[0].shape"
   ]
  },
  {
   "cell_type": "code",
   "execution_count": 12,
   "id": "fewer-solid",
   "metadata": {
    "tags": []
   },
   "outputs": [],
   "source": [
    "model = MusicVAE(\n",
    "    kernel_size = 32,\n",
    "    encoder_filters = [128, 128, 64, 32],\n",
    "    encoder_strides = [1, 2, 2, 1],\n",
    "    decoder_filters = [16, 32, 64, 128],\n",
    "    decoder_strides = [1, 2, 2, 1],\n",
    "    n_notes = len(note_dictionary),\n",
    "    n_durations = len(duration_dictionary),\n",
    "    emb_size = 64,\n",
    "    input_dim = X[0].shape[1],\n",
    "    latent_dim = 2,\n",
    "    loss_factor = 1e6\n",
    ")"
   ]
  },
  {
   "cell_type": "code",
   "execution_count": 13,
   "id": "sacred-newton",
   "metadata": {},
   "outputs": [],
   "source": [
    "model.compile(0.001)"
   ]
  },
  {
   "cell_type": "code",
   "execution_count": 14,
   "id": "rural-antigua",
   "metadata": {},
   "outputs": [
    {
     "name": "stdout",
     "output_type": "stream",
     "text": [
      "Epoch 1/30\n",
      "WARNING:tensorflow:Gradients do not exist for variables ['dense_4/kernel:0', 'dense_4/bias:0'] when minimizing the loss.\n",
      "WARNING:tensorflow:Gradients do not exist for variables ['dense_4/kernel:0', 'dense_4/bias:0'] when minimizing the loss.\n",
      "194/194 [==============================] - 25s 126ms/step - cce: 4.1858 - kl: 790.7512 - loss: 794.9368\n",
      "Epoch 2/30\n",
      "194/194 [==============================] - 25s 129ms/step - cce: 4.0883 - kl: 2.9683 - loss: 7.0566\n",
      "Epoch 3/30\n",
      "194/194 [==============================] - 24s 124ms/step - cce: 4.0849 - kl: 1.7656 - loss: 5.8506\n",
      "Epoch 4/30\n",
      "194/194 [==============================] - 24s 126ms/step - cce: 4.0845 - kl: 1.2624 - loss: 5.3469\n",
      "Epoch 5/30\n",
      "194/194 [==============================] - 24s 126ms/step - cce: 4.0837 - kl: 0.9612 - loss: 5.0449\n",
      "Epoch 6/30\n",
      "194/194 [==============================] - 25s 127ms/step - cce: 4.0819 - kl: 0.7422 - loss: 4.8240\n",
      "Epoch 7/30\n",
      "194/194 [==============================] - 25s 129ms/step - cce: 4.0815 - kl: 0.5806 - loss: 4.6621\n",
      "Epoch 8/30\n",
      "194/194 [==============================] - 25s 128ms/step - cce: 4.0813 - kl: 0.4897 - loss: 4.5709\n",
      "Epoch 9/30\n",
      "194/194 [==============================] - 24s 126ms/step - cce: 4.0810 - kl: 0.4207 - loss: 4.5017\n",
      "Epoch 10/30\n",
      "194/194 [==============================] - 24s 126ms/step - cce: 4.0803 - kl: 0.3648 - loss: 4.4451\n",
      "Epoch 11/30\n",
      "194/194 [==============================] - 24s 126ms/step - cce: 4.0817 - kl: 0.3032 - loss: 4.3849\n",
      "Epoch 12/30\n",
      "194/194 [==============================] - 24s 126ms/step - cce: 4.0807 - kl: 0.2593 - loss: 4.3401\n",
      "Epoch 13/30\n",
      "194/194 [==============================] - 25s 127ms/step - cce: 4.0809 - kl: 0.2225 - loss: 4.3035\n",
      "Epoch 14/30\n",
      "194/194 [==============================] - 26s 131ms/step - cce: 4.0801 - kl: 0.2080 - loss: 4.2881\n",
      "Epoch 15/30\n",
      "194/194 [==============================] - 24s 126ms/step - cce: 4.0789 - kl: 0.2047 - loss: 4.2836\n",
      "Epoch 16/30\n",
      "194/194 [==============================] - 25s 128ms/step - cce: 4.0796 - kl: 0.1656 - loss: 4.2452\n",
      "Epoch 17/30\n",
      "194/194 [==============================] - 25s 126ms/step - cce: 4.0798 - kl: 0.1497 - loss: 4.2295\n",
      "Epoch 18/30\n",
      "194/194 [==============================] - 24s 125ms/step - cce: 4.0795 - kl: 0.1267 - loss: 4.2062\n",
      "Epoch 19/30\n",
      "194/194 [==============================] - 25s 127ms/step - cce: 4.0799 - kl: 0.1128 - loss: 4.1927\n",
      "Epoch 20/30\n",
      "194/194 [==============================] - 24s 125ms/step - cce: 4.0789 - kl: 0.1086 - loss: 4.1875\n",
      "Epoch 21/30\n",
      "194/194 [==============================] - 24s 126ms/step - cce: 4.0799 - kl: 0.0900 - loss: 4.1699\n",
      "Epoch 22/30\n",
      "194/194 [==============================] - 24s 125ms/step - cce: 4.0789 - kl: 0.0839 - loss: 4.1628\n",
      "Epoch 23/30\n",
      "194/194 [==============================] - 24s 125ms/step - cce: 4.0786 - kl: 0.0789 - loss: 4.1575\n",
      "Epoch 24/30\n",
      "194/194 [==============================] - 24s 125ms/step - cce: 4.0789 - kl: 0.0752 - loss: 4.1541\n",
      "Epoch 25/30\n",
      "194/194 [==============================] - 24s 125ms/step - cce: 4.0785 - kl: 0.0643 - loss: 4.1429\n",
      "Epoch 26/30\n",
      "194/194 [==============================] - 24s 126ms/step - cce: 4.0790 - kl: 0.0557 - loss: 4.1347\n",
      "Epoch 27/30\n",
      "194/194 [==============================] - 24s 126ms/step - cce: 4.0794 - kl: 0.0530 - loss: 4.1324\n",
      "Epoch 28/30\n",
      "194/194 [==============================] - 24s 125ms/step - cce: 4.0796 - kl: 0.0428 - loss: 4.1223\n",
      "Epoch 29/30\n",
      "194/194 [==============================] - 24s 125ms/step - cce: 4.0800 - kl: 0.0404 - loss: 4.1204\n",
      "Epoch 30/30\n",
      "194/194 [==============================] - 24s 125ms/step - cce: 4.0795 - kl: 0.0382 - loss: 4.1176\n"
     ]
    },
    {
     "data": {
      "text/plain": [
       "<tensorflow.python.keras.callbacks.History at 0x7fcadd519bb0>"
      ]
     },
     "execution_count": 14,
     "metadata": {},
     "output_type": "execute_result"
    }
   ],
   "source": [
    "model.model.fit(\n",
    "    X, y,\n",
    "    shuffle=True,\n",
    "    batch_size=32,\n",
    "    epochs=30\n",
    ")"
   ]
  },
  {
   "cell_type": "code",
   "execution_count": 15,
   "id": "auburn-split",
   "metadata": {},
   "outputs": [
    {
     "data": {
      "image/png": "[encoded data removed]",
      "text/plain": [
       "<Figure size 720x720 with 2 Axes>"
      ]
     },
     "metadata": {
      "image/png": {
       "height": 578,
       "width": 560
      },
      "needs_background": "light"
     },
     "output_type": "display_data"
    }
   ],
   "source": [
    "example_idx = np.random.choice(range(len(X)), 1000)\n",
    "example_images = [X[0][example_idx], X[1][example_idx]]\n",
    "\n",
    "_, _, z_points = model.encoder.predict(example_images)\n",
    "\n",
    "plt.figure(figsize=(10, 10))\n",
    "plt.scatter(z_points[:, 0] , z_points[:, 1] , cmap='rainbow' , alpha=0.5, s=2)\n",
    "plt.colorbar()\n",
    "plt.show()"
   ]
  },
  {
   "cell_type": "code",
   "execution_count": 16,
   "id": "undefined-wisconsin",
   "metadata": {},
   "outputs": [],
   "source": [
    "def sample(preds, temperature):\n",
    "    if temperature == 0:\n",
    "        return np.argmax(preds)\n",
    "    else:\n",
    "        preds = np.log(preds) / temperature\n",
    "        exp_preds = np.exp(preds)\n",
    "        preds = exp_preds / np.sum(exp_preds)\n",
    "        return np.random.choice(len(preds), p=preds)"
   ]
  },
  {
   "cell_type": "code",
   "execution_count": 36,
   "id": "primary-richards",
   "metadata": {},
   "outputs": [],
   "source": [
    "temperature = 0.9\n",
    "generated_notes = []\n",
    "generated_durations = []\n",
    "predicted_notes, predicted_durations = model.decoder.predict(np.array([[-2., -2.]]))\n",
    "for i in range(predicted_notes.shape[1]):\n",
    "    generated_notes.append(sample(predicted_notes[0][i], temperature))\n",
    "    generated_durations.append(sample(predicted_durations[0][i], temperature))"
   ]
  },
  {
   "cell_type": "code",
   "execution_count": 37,
   "id": "signed-benchmark",
   "metadata": {},
   "outputs": [],
   "source": [
    "generated = [[inv_note_dictionary[x] for x in generated_notes], [inv_dur_dictionary[x] for x in generated_durations]]"
   ]
  },
  {
   "cell_type": "code",
   "execution_count": 38,
   "id": "judicial-lease",
   "metadata": {},
   "outputs": [],
   "source": [
    "save_notes_and_durations(generated, 'vae_output')"
   ]
  },
  {
   "cell_type": "code",
   "execution_count": null,
   "id": "another-cabinet",
   "metadata": {},
   "outputs": [],
   "source": []
  }
 ],
 "metadata": {
  "kernelspec": {
   "display_name": "Python 3",
   "language": "python",
   "name": "python3"
  },
  "language_info": {
   "codemirror_mode": {
    "name": "ipython",
    "version": 3
   },
   "file_extension": ".py",
   "mimetype": "text/x-python",
   "name": "python",
   "nbconvert_exporter": "python",
   "pygments_lexer": "ipython3",
   "version": "3.8.5"
  }
 },
 "nbformat": 4,
 "nbformat_minor": 5
}
