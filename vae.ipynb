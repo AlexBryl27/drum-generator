{
 "cells": [
  {
   "cell_type": "markdown",
   "id": "supported-transsexual",
   "metadata": {},
   "source": [
    "## Variational autoencoder\n",
    "\n",
    "От классических механизмов генерации последовательностей автоэнкодерами этот отличается использованием сверток вместо рекуррентных слоев. В скрытом пространстве отчетливо наблюдается 2 распределения. Музыкально фрагменты из этих распределений всегда отличались."
   ]
  },
  {
   "cell_type": "code",
   "execution_count": 1,
   "id": "specific-cradle",
   "metadata": {},
   "outputs": [],
   "source": [
    "import matplotlib.pyplot as plt\n",
    "from tensorflow.keras.utils import to_categorical\n",
    "import numpy as np\n",
    "import sys\n",
    "sys.path.append('src/')\n",
    "from models.vae import MusicVAE\n",
    "from save_midi import save_notes_and_durations\n",
    "from preprocess import parse_files_to_sequences, limit_uniq_notes, get_dictionaries"
   ]
  },
  {
   "cell_type": "code",
   "execution_count": 2,
   "id": "impressive-premises",
   "metadata": {},
   "outputs": [],
   "source": [
    "folderpath = \"tabs/\"\n",
    "track_name = 'guitar'"
   ]
  },
  {
   "cell_type": "code",
   "execution_count": 3,
   "id": "shaped-sailing",
   "metadata": {},
   "outputs": [
    {
     "data": {
      "application/vnd.jupyter.widget-view+json": {
       "model_id": "b0358c59636a4b4fb6bb3ab289200f92",
       "version_major": 2,
       "version_minor": 0
      },
      "text/plain": [
       "  0%|          | 0/14 [00:00<?, ?it/s]"
      ]
     },
     "metadata": {},
     "output_type": "display_data"
    },
    {
     "data": {
      "application/vnd.jupyter.widget-view+json": {
       "model_id": "b90e8099fac5400992a0f3a0cbe0a16c",
       "version_major": 2,
       "version_minor": 0
      },
      "text/plain": [
       "  0%|          | 0/12 [00:00<?, ?it/s]"
      ]
     },
     "metadata": {},
     "output_type": "display_data"
    }
   ],
   "source": [
    "notes, durations = parse_files_to_sequences(folderpath, track_name)"
   ]
  },
  {
   "cell_type": "code",
   "execution_count": 4,
   "id": "interstate-breath",
   "metadata": {},
   "outputs": [
    {
     "data": {
      "text/plain": [
       "(16050, 310)"
      ]
     },
     "execution_count": 4,
     "metadata": {},
     "output_type": "execute_result"
    }
   ],
   "source": [
    "len(notes), len(set(notes))"
   ]
  },
  {
   "cell_type": "code",
   "execution_count": 5,
   "id": "sexual-concert",
   "metadata": {},
   "outputs": [],
   "source": [
    "notes, durations = limit_uniq_notes(notes, durations, 150)"
   ]
  },
  {
   "cell_type": "code",
   "execution_count": 6,
   "id": "insured-ideal",
   "metadata": {},
   "outputs": [],
   "source": [
    "note_dictionary, inv_note_dictionary, notes_to_int, \\\n",
    "duration_dictionary, inv_dur_dictionary, durations_to_int = get_dictionaries(notes, durations)"
   ]
  },
  {
   "cell_type": "code",
   "execution_count": 7,
   "id": "knowing-racing",
   "metadata": {},
   "outputs": [],
   "source": [
    "def prepare_sequences(notes, durations, length, step, n_notes, n_durations):\n",
    "    batch_size = 32\n",
    "    note_sequences = []\n",
    "    dur_sequences = []\n",
    "    for i in range(0, len(notes) - length, step):\n",
    "        note_sequences.append(notes[i: i + length])\n",
    "        dur_sequences.append(durations[i: i + length])\n",
    "    \n",
    "    note_sequences = np.array(note_sequences)\n",
    "    dur_sequences = np.array(dur_sequences)\n",
    "    \n",
    "    length = (len(note_sequences) // batch_size) * batch_size\n",
    "    indicies = np.arange(length)\n",
    "    np.random.shuffle(indicies)\n",
    "    \n",
    "    note_targets = to_categorical(note_sequences[indicies], n_notes)    \n",
    "    dur_targets = to_categorical(dur_sequences[indicies], n_durations)\n",
    "    sequences = [note_sequences[indicies], dur_sequences[indicies]]\n",
    "    targets = [note_targets, dur_targets]\n",
    "    return sequences, targets"
   ]
  },
  {
   "cell_type": "code",
   "execution_count": 8,
   "id": "driving-coalition",
   "metadata": {},
   "outputs": [
    {
     "data": {
      "text/plain": [
       "(15456, 128)"
      ]
     },
     "execution_count": 8,
     "metadata": {},
     "output_type": "execute_result"
    }
   ],
   "source": [
    "X, y = prepare_sequences(notes_to_int, durations_to_int, 128, 1, len(note_dictionary), len(duration_dictionary))\n",
    "X[0].shape"
   ]
  },
  {
   "cell_type": "code",
   "execution_count": 9,
   "id": "sexual-attitude",
   "metadata": {},
   "outputs": [
    {
     "data": {
      "text/plain": [
       "(15456, 128, 150)"
      ]
     },
     "execution_count": 9,
     "metadata": {},
     "output_type": "execute_result"
    }
   ],
   "source": [
    "y[0].shape"
   ]
  },
  {
   "cell_type": "code",
   "execution_count": 10,
   "id": "sitting-applicant",
   "metadata": {
    "tags": []
   },
   "outputs": [],
   "source": [
    "model = MusicVAE(\n",
    "    kernel_size = 32,\n",
    "    encoder_filters = [128, 128, 64, 32],\n",
    "    encoder_strides = [1, 2, 2, 1],\n",
    "    decoder_filters = [128, 128, 128, 128],\n",
    "    decoder_strides = [1, 2, 2, 1],\n",
    "    n_notes = len(note_dictionary),\n",
    "    n_durations = len(duration_dictionary),\n",
    "    emb_size = 64,\n",
    "    input_dim = X[0].shape[1],\n",
    "    latent_dim = 2,\n",
    "    loss_factor = 500\n",
    ")"
   ]
  },
  {
   "cell_type": "code",
   "execution_count": 11,
   "id": "limiting-portal",
   "metadata": {},
   "outputs": [],
   "source": [
    "model.compile(0.0003)"
   ]
  },
  {
   "cell_type": "code",
   "execution_count": 17,
   "id": "automotive-question",
   "metadata": {},
   "outputs": [
    {
     "name": "stdout",
     "output_type": "stream",
     "text": [
      "Epoch 1/15\n",
      "483/483 [==============================] - 82s 170ms/step - cce_notes: 1361.3249 - cce_durations: 535.9255 - kl: 10.7132 - loss: 1907.9636\n",
      "Epoch 2/15\n",
      "483/483 [==============================] - 85s 176ms/step - cce_notes: 1346.7200 - cce_durations: 532.9710 - kl: 10.4927 - loss: 1890.1838\n",
      "Epoch 3/15\n",
      "483/483 [==============================] - 83s 173ms/step - cce_notes: 1342.0895 - cce_durations: 530.5035 - kl: 10.5548 - loss: 1883.1478\n",
      "Epoch 4/15\n",
      "483/483 [==============================] - 83s 173ms/step - cce_notes: 1331.9421 - cce_durations: 527.5489 - kl: 10.6452 - loss: 1870.1361\n",
      "Epoch 5/15\n",
      "483/483 [==============================] - 81s 168ms/step - cce_notes: 1326.9190 - cce_durations: 526.5687 - kl: 10.8003 - loss: 1864.2880\n",
      "Epoch 6/15\n",
      "483/483 [==============================] - 82s 170ms/step - cce_notes: 1315.5848 - cce_durations: 523.1203 - kl: 10.8463 - loss: 1849.5515\n",
      "Epoch 7/15\n",
      "483/483 [==============================] - 81s 168ms/step - cce_notes: 1315.2182 - cce_durations: 523.3852 - kl: 10.8822 - loss: 1849.4854\n",
      "Epoch 8/15\n",
      "483/483 [==============================] - 81s 168ms/step - cce_notes: 1300.4600 - cce_durations: 518.6504 - kl: 11.0198 - loss: 1830.1302\n",
      "Epoch 9/15\n",
      "483/483 [==============================] - 81s 168ms/step - cce_notes: 1295.6985 - cce_durations: 517.1202 - kl: 11.0396 - loss: 1823.8584\n",
      "Epoch 10/15\n",
      "483/483 [==============================] - 81s 168ms/step - cce_notes: 1295.4894 - cce_durations: 516.6694 - kl: 11.1583 - loss: 1823.3171\n",
      "Epoch 11/15\n",
      "483/483 [==============================] - 81s 168ms/step - cce_notes: 1285.1194 - cce_durations: 513.2228 - kl: 11.1317 - loss: 1809.4739\n",
      "Epoch 12/15\n",
      "483/483 [==============================] - 82s 169ms/step - cce_notes: 1281.3582 - cce_durations: 512.3986 - kl: 11.1580 - loss: 1804.9148\n",
      "Epoch 13/15\n",
      "483/483 [==============================] - 81s 168ms/step - cce_notes: 1272.2480 - cce_durations: 510.1720 - kl: 11.0938 - loss: 1793.5139\n",
      "Epoch 14/15\n",
      "483/483 [==============================] - 83s 171ms/step - cce_notes: 1274.6645 - cce_durations: 511.0332 - kl: 11.2183 - loss: 1796.9160\n",
      "Epoch 15/15\n",
      "483/483 [==============================] - 82s 170ms/step - cce_notes: 1268.4064 - cce_durations: 508.5322 - kl: 11.2616 - loss: 1788.2004\n"
     ]
    },
    {
     "data": {
      "text/plain": [
       "<tensorflow.python.keras.callbacks.History at 0x7f7fe91edeb0>"
      ]
     },
     "execution_count": 17,
     "metadata": {},
     "output_type": "execute_result"
    }
   ],
   "source": [
    "model.model.fit(\n",
    "    X, y,\n",
    "    shuffle=True,\n",
    "    batch_size=32,\n",
    "    epochs=15\n",
    ")"
   ]
  },
  {
   "cell_type": "code",
   "execution_count": 18,
   "id": "funded-designation",
   "metadata": {},
   "outputs": [
    {
     "data": {
      "image/png": "[encoded data removed]",
      "text/plain": [
       "<Figure size 720x720 with 1 Axes>"
      ]
     },
     "metadata": {
      "image/png": {
       "height": 574,
       "width": 608
      },
      "needs_background": "light"
     },
     "output_type": "display_data"
    }
   ],
   "source": [
    "example_idx = np.random.choice(range(len(X)), 1000)\n",
    "example_states = [X[0][example_idx], X[1][example_idx]]\n",
    "\n",
    "_, _, z_points = model.encoder.predict(example_states)\n",
    "\n",
    "plt.figure(figsize=(10, 10))\n",
    "plt.scatter(z_points[:, 0] , z_points[:, 1] , cmap='rainbow' , alpha=0.5, s=2)\n",
    "plt.show()"
   ]
  },
  {
   "cell_type": "code",
   "execution_count": 19,
   "id": "incredible-roulette",
   "metadata": {},
   "outputs": [],
   "source": [
    "def sample(preds, temperature):\n",
    "    if temperature == 0:\n",
    "        return np.argmax(preds)\n",
    "    else:\n",
    "        preds = np.log(preds) / temperature\n",
    "        exp_preds = np.exp(preds)\n",
    "        preds = exp_preds / np.sum(exp_preds)\n",
    "        return np.random.choice(len(preds), p=preds)"
   ]
  },
  {
   "cell_type": "code",
   "execution_count": 21,
   "id": "weekly-checklist",
   "metadata": {},
   "outputs": [],
   "source": [
    "temperatures = [0.0, 0.5, 0.9]\n",
    "\n",
    "for temperature in temperatures:\n",
    "    generated_notes = []\n",
    "    generated_durations = []\n",
    "    predicted_notes, predicted_durations = model.decoder.predict(np.array([[-0.2, 0.95]]))\n",
    "    for i in range(predicted_notes.shape[1]):\n",
    "        generated_notes.append(sample(predicted_notes[0][i], temperature))\n",
    "        generated_durations.append(sample(predicted_durations[0][i], temperature))\n",
    "        \n",
    "    generated = [[inv_note_dictionary[x] for x in generated_notes], [inv_dur_dictionary[x] for x in generated_durations]]\n",
    "    save_notes_and_durations(generated, f'output/vae/output_{temperature}_top')"
   ]
  },
  {
   "cell_type": "code",
   "execution_count": null,
   "id": "smoking-saudi",
   "metadata": {},
   "outputs": [],
   "source": []
  }
 ],
 "metadata": {
  "kernelspec": {
   "display_name": "Python 3",
   "language": "python",
   "name": "python3"
  },
  "language_info": {
   "codemirror_mode": {
    "name": "ipython",
    "version": 3
   },
   "file_extension": ".py",
   "mimetype": "text/x-python",
   "name": "python",
   "nbconvert_exporter": "python",
   "pygments_lexer": "ipython3",
   "version": "3.8.5"
  }
 },
 "nbformat": 4,
 "nbformat_minor": 5
}
