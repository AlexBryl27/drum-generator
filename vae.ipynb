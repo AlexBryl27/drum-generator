{
 "cells": [
  {
   "cell_type": "code",
   "execution_count": 1,
   "id": "czech-doctor",
   "metadata": {},
   "outputs": [],
   "source": [
    "import os\n",
    "from tqdm.notebook import tqdm\n",
    "import guitarpro\n",
    "import matplotlib.pyplot as plt\n",
    "from tensorflow.keras.utils import to_categorical\n",
    "import numpy as np\n",
    "\n",
    "from src.models.vae import MusicVAE\n",
    "from src.parse_gp import drop_rests_from_drum_track, get_notes_and_durations\n",
    "from src.save_midi import save_notes_and_durations, save_notes"
   ]
  },
  {
   "cell_type": "code",
   "execution_count": 2,
   "id": "unique-electricity",
   "metadata": {},
   "outputs": [],
   "source": [
    "folderpath = \"tabs/\"\n",
    "track_name = None"
   ]
  },
  {
   "cell_type": "code",
   "execution_count": 3,
   "id": "logical-money",
   "metadata": {},
   "outputs": [
    {
     "data": {
      "application/vnd.jupyter.widget-view+json": {
       "model_id": "334ab57fa4954b7c8311e6da00c5ee39",
       "version_major": 2,
       "version_minor": 0
      },
      "text/plain": [
       "  0%|          | 0/12 [00:00<?, ?it/s]"
      ]
     },
     "metadata": {},
     "output_type": "display_data"
    }
   ],
   "source": [
    "notes, durations = [], []\n",
    "for folder in os.listdir(folderpath):\n",
    "    for filename in tqdm(os.listdir(folderpath + folder + '/')):\n",
    "        tab = guitarpro.parse(folderpath + folder + '/' + filename)\n",
    "        tab_notes, tab_durations = get_notes_and_durations(tab, track_name, True)\n",
    "        notes += tab_notes\n",
    "        durations += tab_durations"
   ]
  },
  {
   "cell_type": "code",
   "execution_count": 4,
   "id": "retained-toddler",
   "metadata": {},
   "outputs": [
    {
     "data": {
      "text/plain": [
       "[21, 24, 0, 0, 0, 15, 0, 0, 0, 10]"
      ]
     },
     "execution_count": 4,
     "metadata": {},
     "output_type": "execute_result"
    }
   ],
   "source": [
    "note_dictionary = {note: i for i, note in enumerate(set(notes))}\n",
    "inv_note_dictionary = {i: note for note, i in note_dictionary.items()}\n",
    "notes_to_int = [note_dictionary[note] for note in notes]\n",
    "notes_to_int[:10]"
   ]
  },
  {
   "cell_type": "code",
   "execution_count": 5,
   "id": "married-convertible",
   "metadata": {},
   "outputs": [
    {
     "data": {
      "text/plain": [
       "[1, 0, 0, 0, 0, 0, 0, 0, 0, 0]"
      ]
     },
     "execution_count": 5,
     "metadata": {},
     "output_type": "execute_result"
    }
   ],
   "source": [
    "duration_dictionary = {dur: i for i, dur in enumerate(set(durations))}\n",
    "inv_dur_dictionary = {i: dur for dur, i in duration_dictionary.items()}\n",
    "durations_to_int = [duration_dictionary[dur] for dur in durations]\n",
    "durations_to_int[:10]"
   ]
  },
  {
   "cell_type": "code",
   "execution_count": 6,
   "id": "magnetic-signature",
   "metadata": {},
   "outputs": [],
   "source": [
    "def prepare_sequences(notes, durations, length, step, n_notes, n_durations):\n",
    "    batch_size = 32\n",
    "    note_sequences = []\n",
    "    dur_sequences = []\n",
    "    for i in range(0, len(notes) - length, step):\n",
    "        note_sequences.append(notes[i: i + length])\n",
    "        dur_sequences.append(durations[i: i + length])\n",
    "    \n",
    "    note_sequences = np.array(note_sequences)\n",
    "    dur_sequences = np.array(dur_sequences)\n",
    "    \n",
    "    length = (len(note_sequences) // batch_size) * batch_size\n",
    "    indicies = np.arange(length)\n",
    "    np.random.shuffle(indicies)\n",
    "    \n",
    "    note_targets = to_categorical(note_sequences[indicies], n_notes)    \n",
    "    dur_targets = to_categorical(dur_sequences[indicies], n_durations)\n",
    "    sequences = [note_sequences[indicies], dur_sequences[indicies]]\n",
    "    targets = [note_targets, dur_targets]\n",
    "    return sequences, targets"
   ]
  },
  {
   "cell_type": "code",
   "execution_count": 7,
   "id": "common-vacation",
   "metadata": {},
   "outputs": [
    {
     "data": {
      "text/plain": [
       "(18176, 128)"
      ]
     },
     "execution_count": 7,
     "metadata": {},
     "output_type": "execute_result"
    }
   ],
   "source": [
    "X, y = prepare_sequences(notes_to_int, durations_to_int, 128, 1, len(note_dictionary), len(duration_dictionary))\n",
    "X[0].shape"
   ]
  },
  {
   "cell_type": "code",
   "execution_count": 8,
   "id": "median-cattle",
   "metadata": {},
   "outputs": [
    {
     "data": {
      "text/plain": [
       "(18176, 128, 28)"
      ]
     },
     "execution_count": 8,
     "metadata": {},
     "output_type": "execute_result"
    }
   ],
   "source": [
    "y[0].shape"
   ]
  },
  {
   "cell_type": "code",
   "execution_count": 9,
   "id": "inner-alabama",
   "metadata": {
    "tags": []
   },
   "outputs": [],
   "source": [
    "model = MusicVAE(\n",
    "    kernel_size = 32,\n",
    "    encoder_filters = [128, 128, 64, 32],\n",
    "    encoder_strides = [1, 2, 2, 1],\n",
    "    decoder_filters = [16, 32, 64, 128],\n",
    "    decoder_strides = [1, 2, 2, 1],\n",
    "    n_notes = len(note_dictionary),\n",
    "    n_durations = len(duration_dictionary),\n",
    "    emb_size = 64,\n",
    "    input_dim = X[0].shape[1],\n",
    "    latent_dim = 2,\n",
    "    loss_factor = 1e6\n",
    ")"
   ]
  },
  {
   "cell_type": "code",
   "execution_count": 10,
   "id": "affected-renaissance",
   "metadata": {},
   "outputs": [],
   "source": [
    "model.compile(0.001)"
   ]
  },
  {
   "cell_type": "code",
   "execution_count": 11,
   "id": "double-litigation",
   "metadata": {},
   "outputs": [
    {
     "name": "stdout",
     "output_type": "stream",
     "text": [
      "Epoch 1/10\n",
      "568/568 [==============================] - 74s 128ms/step - cce_notes: 1.9549 - cce_durations: 0.2000 - kl: 2110.1101 - loss: 2112.2654\n",
      "Epoch 2/10\n",
      "568/568 [==============================] - 71s 124ms/step - cce_notes: 1.9198 - cce_durations: 0.1760 - kl: 3.9311 - loss: 6.0268\n",
      "Epoch 3/10\n",
      "568/568 [==============================] - 71s 125ms/step - cce_notes: 1.9185 - cce_durations: 0.1758 - kl: 1.8383 - loss: 3.9326\n",
      "Epoch 4/10\n",
      "568/568 [==============================] - 71s 124ms/step - cce_notes: 1.9186 - cce_durations: 0.1763 - kl: 1.2303 - loss: 3.3252\n",
      "Epoch 5/10\n",
      "568/568 [==============================] - 71s 125ms/step - cce_notes: 1.9182 - cce_durations: 0.1761 - kl: 0.7931 - loss: 2.8874\n",
      "Epoch 6/10\n",
      "568/568 [==============================] - 71s 125ms/step - cce_notes: 1.9180 - cce_durations: 0.1757 - kl: 0.5874 - loss: 2.6811\n",
      "Epoch 7/10\n",
      "568/568 [==============================] - 71s 124ms/step - cce_notes: 1.9179 - cce_durations: 0.1755 - kl: 0.4399 - loss: 2.5333\n",
      "Epoch 8/10\n",
      "568/568 [==============================] - 71s 125ms/step - cce_notes: 1.9182 - cce_durations: 0.1758 - kl: 0.3451 - loss: 2.4391\n",
      "Epoch 9/10\n",
      "568/568 [==============================] - 71s 124ms/step - cce_notes: 1.9179 - cce_durations: 0.1758 - kl: 0.2620 - loss: 2.3557\n",
      "Epoch 10/10\n",
      "568/568 [==============================] - 71s 125ms/step - cce_notes: 1.9175 - cce_durations: 0.1754 - kl: 0.2163 - loss: 2.3092\n"
     ]
    },
    {
     "data": {
      "text/plain": [
       "<tensorflow.python.keras.callbacks.History at 0x7fb7240f1bb0>"
      ]
     },
     "execution_count": 11,
     "metadata": {},
     "output_type": "execute_result"
    }
   ],
   "source": [
    "model.model.fit(\n",
    "    X, y,\n",
    "    shuffle=True,\n",
    "    batch_size=32,\n",
    "    epochs=10\n",
    ")"
   ]
  },
  {
   "cell_type": "code",
   "execution_count": 12,
   "id": "declared-india",
   "metadata": {},
   "outputs": [
    {
     "data": {
      "image/png": "[encoded data removed]",
      "text/plain": [
       "<Figure size 720x720 with 2 Axes>"
      ]
     },
     "metadata": {
      "image/png": {
       "height": 578,
       "width": 560
      },
      "needs_background": "light"
     },
     "output_type": "display_data"
    }
   ],
   "source": [
    "example_idx = np.random.choice(range(len(X)), 1000)\n",
    "example_images = [X[0][example_idx], X[1][example_idx]]\n",
    "\n",
    "_, _, z_points = model.encoder.predict(example_images)\n",
    "\n",
    "plt.figure(figsize=(10, 10))\n",
    "plt.scatter(z_points[:, 0] , z_points[:, 1] , cmap='rainbow' , alpha=0.5, s=2)\n",
    "plt.colorbar()\n",
    "plt.show()"
   ]
  },
  {
   "cell_type": "code",
   "execution_count": 13,
   "id": "featured-incentive",
   "metadata": {},
   "outputs": [],
   "source": [
    "def sample(preds, temperature):\n",
    "    if temperature == 0:\n",
    "        return np.argmax(preds)\n",
    "    else:\n",
    "        preds = np.log(preds) / temperature\n",
    "        exp_preds = np.exp(preds)\n",
    "        preds = exp_preds / np.sum(exp_preds)\n",
    "        return np.random.choice(len(preds), p=preds)"
   ]
  },
  {
   "cell_type": "code",
   "execution_count": 29,
   "id": "confused-knitting",
   "metadata": {},
   "outputs": [],
   "source": [
    "temperature = 0.5\n",
    "generated_notes = []\n",
    "generated_durations = []\n",
    "predicted_notes, predicted_durations = model.decoder.predict(np.array([[-0., -0.]]))\n",
    "for i in range(predicted_notes.shape[1]):\n",
    "    generated_notes.append(sample(predicted_notes[0][i], temperature))\n",
    "    generated_durations.append(sample(predicted_durations[0][i], temperature))"
   ]
  },
  {
   "cell_type": "code",
   "execution_count": 30,
   "id": "reserved-course",
   "metadata": {},
   "outputs": [],
   "source": [
    "generated = [[inv_note_dictionary[x] for x in generated_notes], [inv_dur_dictionary[x] for x in generated_durations]]"
   ]
  },
  {
   "cell_type": "code",
   "execution_count": 31,
   "id": "political-purchase",
   "metadata": {},
   "outputs": [],
   "source": [
    "save_notes_and_durations(generated, 'vae_output')"
   ]
  },
  {
   "cell_type": "code",
   "execution_count": null,
   "id": "affiliated-recorder",
   "metadata": {},
   "outputs": [],
   "source": []
  }
 ],
 "metadata": {
  "kernelspec": {
   "display_name": "Python 3",
   "language": "python",
   "name": "python3"
  },
  "language_info": {
   "codemirror_mode": {
    "name": "ipython",
    "version": 3
   },
   "file_extension": ".py",
   "mimetype": "text/x-python",
   "name": "python",
   "nbconvert_exporter": "python",
   "pygments_lexer": "ipython3",
   "version": "3.8.5"
  }
 },
 "nbformat": 4,
 "nbformat_minor": 5
}
