{
 "cells": [
  {
   "cell_type": "code",
   "execution_count": 1,
   "id": "smaller-attendance",
   "metadata": {},
   "outputs": [],
   "source": [
    "import os\n",
    "from tqdm.notebook import tqdm\n",
    "import guitarpro\n",
    "import matplotlib.pyplot as plt\n",
    "from tensorflow.keras.utils import to_categorical\n",
    "import numpy as np\n",
    "\n",
    "from src.models.vae import MusicVAE\n",
    "from src.parse_gp import drop_rests_from_drum_track, get_notes_and_durations\n",
    "from src.save_midi import save_notes_and_durations, save_notes"
   ]
  },
  {
   "cell_type": "code",
   "execution_count": 31,
   "id": "partial-startup",
   "metadata": {},
   "outputs": [],
   "source": [
    "folderpath = \"tabs/\"\n",
    "track_name = 'guitar'"
   ]
  },
  {
   "cell_type": "code",
   "execution_count": 32,
   "id": "hungarian-cowboy",
   "metadata": {},
   "outputs": [
    {
     "data": {
      "application/vnd.jupyter.widget-view+json": {
       "model_id": "5445f314c0d4446995f58cb23301d4bf",
       "version_major": 2,
       "version_minor": 0
      },
      "text/plain": [
       "  0%|          | 0/12 [00:00<?, ?it/s]"
      ]
     },
     "metadata": {},
     "output_type": "display_data"
    }
   ],
   "source": [
    "notes, durations = [], []\n",
    "for folder in os.listdir(folderpath):\n",
    "    for filename in tqdm(os.listdir(folderpath + folder + '/')):\n",
    "        tab = guitarpro.parse(folderpath + folder + '/' + filename)\n",
    "        try:\n",
    "            tab_notes, tab_durations = get_notes_and_durations(tab, track_name, False)\n",
    "            notes += tab_notes\n",
    "            durations += tab_durations\n",
    "        except:\n",
    "            continue"
   ]
  },
  {
   "cell_type": "code",
   "execution_count": 33,
   "id": "ceramic-navigation",
   "metadata": {},
   "outputs": [
    {
     "data": {
      "text/plain": [
       "[90, 88, 125, 75, 61, 220, 88, 125, 75, 61]"
      ]
     },
     "execution_count": 33,
     "metadata": {},
     "output_type": "execute_result"
    }
   ],
   "source": [
    "note_dictionary = {note: i for i, note in enumerate(set(notes))}\n",
    "inv_note_dictionary = {i: note for note, i in note_dictionary.items()}\n",
    "notes_to_int = [note_dictionary[note] for note in notes]\n",
    "notes_to_int[:10]"
   ]
  },
  {
   "cell_type": "code",
   "execution_count": 34,
   "id": "falling-fundamentals",
   "metadata": {},
   "outputs": [
    {
     "data": {
      "text/plain": [
       "[1, 0, 0, 0, 0, 1, 0, 0, 0, 0]"
      ]
     },
     "execution_count": 34,
     "metadata": {},
     "output_type": "execute_result"
    }
   ],
   "source": [
    "duration_dictionary = {dur: i for i, dur in enumerate(set(durations))}\n",
    "inv_dur_dictionary = {i: dur for dur, i in duration_dictionary.items()}\n",
    "durations_to_int = [duration_dictionary[dur] for dur in durations]\n",
    "durations_to_int[:10]"
   ]
  },
  {
   "cell_type": "code",
   "execution_count": 35,
   "id": "loving-tablet",
   "metadata": {},
   "outputs": [],
   "source": [
    "def prepare_sequences(notes, durations, length, step, n_notes, n_durations):\n",
    "    batch_size = 32\n",
    "    note_sequences = []\n",
    "    dur_sequences = []\n",
    "    for i in range(0, len(notes) - length, step):\n",
    "        note_sequences.append(notes[i: i + length])\n",
    "        dur_sequences.append(durations[i: i + length])\n",
    "    \n",
    "    note_sequences = np.array(note_sequences)\n",
    "    dur_sequences = np.array(dur_sequences)\n",
    "    \n",
    "    length = (len(note_sequences) // batch_size) * batch_size\n",
    "    indicies = np.arange(length)\n",
    "    np.random.shuffle(indicies)\n",
    "    \n",
    "    note_targets = to_categorical(note_sequences[indicies], n_notes)    \n",
    "    dur_targets = to_categorical(dur_sequences[indicies], n_durations)\n",
    "    sequences = [note_sequences[indicies], dur_sequences[indicies]]\n",
    "    targets = [note_targets, dur_targets]\n",
    "    return sequences, targets"
   ]
  },
  {
   "cell_type": "code",
   "execution_count": 36,
   "id": "industrial-reputation",
   "metadata": {},
   "outputs": [
    {
     "data": {
      "text/plain": [
       "(6208, 128)"
      ]
     },
     "execution_count": 36,
     "metadata": {},
     "output_type": "execute_result"
    }
   ],
   "source": [
    "X, y = prepare_sequences(notes_to_int, durations_to_int, 128, 1, len(note_dictionary), len(duration_dictionary))\n",
    "X[0].shape"
   ]
  },
  {
   "cell_type": "code",
   "execution_count": 37,
   "id": "seeing-amplifier",
   "metadata": {},
   "outputs": [
    {
     "data": {
      "text/plain": [
       "(6208, 128, 226)"
      ]
     },
     "execution_count": 37,
     "metadata": {},
     "output_type": "execute_result"
    }
   ],
   "source": [
    "y[0].shape"
   ]
  },
  {
   "cell_type": "code",
   "execution_count": 38,
   "id": "developing-motorcycle",
   "metadata": {
    "tags": []
   },
   "outputs": [],
   "source": [
    "model = MusicVAE(\n",
    "    kernel_size = 32,\n",
    "    encoder_filters = [32, 32, 16, 8],\n",
    "    encoder_strides = [1, 2, 2, 1],\n",
    "    decoder_filters = [4, 8, 16, 32],\n",
    "    decoder_strides = [1, 2, 2, 1],\n",
    "    n_notes = len(note_dictionary),\n",
    "    n_durations = len(duration_dictionary),\n",
    "    emb_size = 16,\n",
    "    input_dim = X[0].shape[1],\n",
    "    latent_dim = 2,\n",
    "    loss_factor = 1000\n",
    ")"
   ]
  },
  {
   "cell_type": "code",
   "execution_count": 39,
   "id": "treated-translator",
   "metadata": {},
   "outputs": [],
   "source": [
    "model.compile(0.0001)"
   ]
  },
  {
   "cell_type": "code",
   "execution_count": 40,
   "id": "statutory-threat",
   "metadata": {},
   "outputs": [
    {
     "name": "stdout",
     "output_type": "stream",
     "text": [
      "Epoch 1/20\n",
      "194/194 [==============================] - 5s 24ms/step - cce_notes: 5183.6061 - cce_durations: 1303.7925 - kl: 18.9861 - loss: 6506.3853\n",
      "Epoch 2/20\n",
      "194/194 [==============================] - 5s 24ms/step - cce_notes: 4314.1424 - cce_durations: 1184.5638 - kl: 20.1275 - loss: 5518.8345\n",
      "Epoch 3/20\n",
      "194/194 [==============================] - 5s 24ms/step - cce_notes: 4055.6839 - cce_durations: 1173.5941 - kl: 14.2519 - loss: 5243.5303\n",
      "Epoch 4/20\n",
      "194/194 [==============================] - 5s 25ms/step - cce_notes: 4027.6321 - cce_durations: 1156.3548 - kl: 11.4154 - loss: 5195.4023\n",
      "Epoch 5/20\n",
      "194/194 [==============================] - 5s 25ms/step - cce_notes: 4012.7302 - cce_durations: 1125.4329 - kl: 10.7605 - loss: 5148.9238\n",
      "Epoch 6/20\n",
      "194/194 [==============================] - 5s 25ms/step - cce_notes: 3998.5989 - cce_durations: 1091.2886 - kl: 10.0434 - loss: 5099.9307\n",
      "Epoch 7/20\n",
      "194/194 [==============================] - 5s 26ms/step - cce_notes: 3998.8140 - cce_durations: 1057.7210 - kl: 9.2571 - loss: 5065.7920\n",
      "Epoch 8/20\n",
      "194/194 [==============================] - 5s 25ms/step - cce_notes: 3998.0991 - cce_durations: 1033.5291 - kl: 8.7904 - loss: 5040.4185\n",
      "Epoch 9/20\n",
      "194/194 [==============================] - 5s 24ms/step - cce_notes: 3995.8791 - cce_durations: 1020.0534 - kl: 8.5754 - loss: 5024.5083\n",
      "Epoch 10/20\n",
      "194/194 [==============================] - 5s 24ms/step - cce_notes: 3992.3722 - cce_durations: 1013.2628 - kl: 8.5560 - loss: 5014.1914\n",
      "Epoch 11/20\n",
      "194/194 [==============================] - 5s 24ms/step - cce_notes: 3988.7475 - cce_durations: 1009.3310 - kl: 8.4738 - loss: 5006.5522\n",
      "Epoch 12/20\n",
      "194/194 [==============================] - 5s 24ms/step - cce_notes: 3984.2345 - cce_durations: 1006.6654 - kl: 8.4345 - loss: 4999.3340\n",
      "Epoch 13/20\n",
      "194/194 [==============================] - 5s 24ms/step - cce_notes: 3977.8381 - cce_durations: 1005.3831 - kl: 8.4192 - loss: 4991.6406\n",
      "Epoch 14/20\n",
      "194/194 [==============================] - 5s 24ms/step - cce_notes: 3970.1819 - cce_durations: 1004.5630 - kl: 8.4444 - loss: 4983.1895\n",
      "Epoch 15/20\n",
      "194/194 [==============================] - 5s 24ms/step - cce_notes: 3960.7492 - cce_durations: 1003.8409 - kl: 8.3820 - loss: 4972.9722\n",
      "Epoch 16/20\n",
      "194/194 [==============================] - 5s 24ms/step - cce_notes: 3947.5489 - cce_durations: 1004.4892 - kl: 8.3948 - loss: 4960.4331\n",
      "Epoch 17/20\n",
      "194/194 [==============================] - 5s 24ms/step - cce_notes: 3935.2108 - cce_durations: 1004.0326 - kl: 8.3796 - loss: 4947.6230\n",
      "Epoch 18/20\n",
      "194/194 [==============================] - 5s 24ms/step - cce_notes: 3918.8222 - cce_durations: 1005.1642 - kl: 8.3706 - loss: 4932.3564\n",
      "Epoch 19/20\n",
      "194/194 [==============================] - 5s 24ms/step - cce_notes: 3903.1164 - cce_durations: 1006.6234 - kl: 8.3581 - loss: 4918.0977\n",
      "Epoch 20/20\n",
      "194/194 [==============================] - 5s 24ms/step - cce_notes: 3885.3619 - cce_durations: 1007.4830 - kl: 8.3878 - loss: 4901.2324\n"
     ]
    },
    {
     "data": {
      "text/plain": [
       "<tensorflow.python.keras.callbacks.History at 0x7f2ea8eec9a0>"
      ]
     },
     "execution_count": 40,
     "metadata": {},
     "output_type": "execute_result"
    }
   ],
   "source": [
    "model.model.fit(\n",
    "    X, y,\n",
    "    shuffle=True,\n",
    "    batch_size=32,\n",
    "    epochs=20\n",
    ")"
   ]
  },
  {
   "cell_type": "code",
   "execution_count": 41,
   "id": "casual-biotechnology",
   "metadata": {},
   "outputs": [
    {
     "data": {
      "image/png": "[encoded data removed]",
      "text/plain": [
       "<Figure size 720x720 with 1 Axes>"
      ]
     },
     "metadata": {
      "image/png": {
       "height": 574,
       "width": 603
      },
      "needs_background": "light"
     },
     "output_type": "display_data"
    }
   ],
   "source": [
    "example_idx = np.random.choice(range(len(X)), 1000)\n",
    "example_images = [X[0][example_idx], X[1][example_idx]]\n",
    "\n",
    "_, _, z_points = model.encoder.predict(example_images)\n",
    "\n",
    "plt.figure(figsize=(10, 10))\n",
    "plt.scatter(z_points[:, 0] , z_points[:, 1] , cmap='rainbow' , alpha=0.5, s=2)\n",
    "plt.show()"
   ]
  },
  {
   "cell_type": "code",
   "execution_count": 21,
   "id": "moral-growing",
   "metadata": {},
   "outputs": [],
   "source": [
    "def sample(preds, temperature):\n",
    "    if temperature == 0:\n",
    "        return np.argmax(preds)\n",
    "    else:\n",
    "        preds = np.log(preds) / temperature\n",
    "        exp_preds = np.exp(preds)\n",
    "        preds = exp_preds / np.sum(exp_preds)\n",
    "        return np.random.choice(len(preds), p=preds)"
   ]
  },
  {
   "cell_type": "code",
   "execution_count": 45,
   "id": "copyrighted-panama",
   "metadata": {},
   "outputs": [],
   "source": [
    "temperature = 0.5\n",
    "generated_notes = []\n",
    "generated_durations = []\n",
    "predicted_notes, predicted_durations = model.decoder.predict(np.array([[-1.1, 0.85]]))\n",
    "for i in range(predicted_notes.shape[1]):\n",
    "    generated_notes.append(sample(predicted_notes[0][i], temperature))\n",
    "    generated_durations.append(sample(predicted_durations[0][i], temperature))"
   ]
  },
  {
   "cell_type": "code",
   "execution_count": 46,
   "id": "dressed-photography",
   "metadata": {},
   "outputs": [],
   "source": [
    "generated = [[inv_note_dictionary[x] for x in generated_notes], [inv_dur_dictionary[x] for x in generated_durations]]"
   ]
  },
  {
   "cell_type": "code",
   "execution_count": 47,
   "id": "eight-designer",
   "metadata": {},
   "outputs": [],
   "source": [
    "save_notes_and_durations(generated, 'vae_output')"
   ]
  },
  {
   "cell_type": "code",
   "execution_count": null,
   "id": "streaming-korean",
   "metadata": {},
   "outputs": [],
   "source": []
  }
 ],
 "metadata": {
  "kernelspec": {
   "display_name": "Python 3",
   "language": "python",
   "name": "python3"
  },
  "language_info": {
   "codemirror_mode": {
    "name": "ipython",
    "version": 3
   },
   "file_extension": ".py",
   "mimetype": "text/x-python",
   "name": "python",
   "nbconvert_exporter": "python",
   "pygments_lexer": "ipython3",
   "version": "3.8.5"
  }
 },
 "nbformat": 4,
 "nbformat_minor": 5
}
