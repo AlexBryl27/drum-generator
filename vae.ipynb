{
 "cells": [
  {
   "cell_type": "code",
   "execution_count": 1,
   "metadata": {},
   "outputs": [],
   "source": [
    "import os\n",
    "from tqdm.notebook import tqdm\n",
    "import guitarpro\n",
    "import matplotlib.pyplot as plt\n",
    "from tensorflow.keras.utils import to_categorical\n",
    "import numpy as np\n",
    "\n",
    "from src.models.vae import MusicVAE\n",
    "from src.parse_gp import drop_rests_from_drum_track, get_notes_and_durations\n",
    "from src.save_midi import save_notes_and_durations, save_notes"
   ]
  },
  {
   "cell_type": "code",
   "execution_count": 2,
   "metadata": {},
   "outputs": [],
   "source": [
    "folderpath = \"tabs/\"\n",
    "track_name = 'guitar'"
   ]
  },
  {
   "cell_type": "code",
   "execution_count": 3,
   "metadata": {},
   "outputs": [
    {
     "data": {
      "application/vnd.jupyter.widget-view+json": {
       "model_id": "fb7d6b7baace480bb449d80ec97f4be0",
       "version_major": 2,
       "version_minor": 0
      },
      "text/plain": [
       "HBox(children=(FloatProgress(value=0.0, max=14.0), HTML(value='')))"
      ]
     },
     "metadata": {},
     "output_type": "display_data"
    },
    {
     "name": "stdout",
     "output_type": "stream",
     "text": [
      "\n"
     ]
    },
    {
     "data": {
      "application/vnd.jupyter.widget-view+json": {
       "model_id": "6a80eee336854ca48099e1c186611978",
       "version_major": 2,
       "version_minor": 0
      },
      "text/plain": [
       "HBox(children=(FloatProgress(value=0.0, max=12.0), HTML(value='')))"
      ]
     },
     "metadata": {},
     "output_type": "display_data"
    },
    {
     "name": "stdout",
     "output_type": "stream",
     "text": [
      "\n"
     ]
    }
   ],
   "source": [
    "notes, durations = [], []\n",
    "for folder in os.listdir(folderpath):\n",
    "    for filename in tqdm(os.listdir(folderpath + folder + '/')):\n",
    "        tab = guitarpro.parse(folderpath + folder + '/' + filename)\n",
    "        tab_notes, tab_durations = get_notes_and_durations(tab, track_name, False)\n",
    "        notes += tab_notes\n",
    "        durations += tab_durations"
   ]
  },
  {
   "cell_type": "code",
   "execution_count": 4,
   "metadata": {},
   "outputs": [
    {
     "data": {
      "text/plain": [
       "[255, 156, 0, 0, 0, 0, 0, 0, 0, 7]"
      ]
     },
     "execution_count": 4,
     "metadata": {},
     "output_type": "execute_result"
    }
   ],
   "source": [
    "note_dictionary = {note: i for i, note in enumerate(set(notes))}\n",
    "inv_note_dictionary = {i: note for note, i in note_dictionary.items()}\n",
    "notes_to_int = [note_dictionary[note] for note in notes]\n",
    "notes_to_int[:10]"
   ]
  },
  {
   "cell_type": "code",
   "execution_count": 5,
   "metadata": {},
   "outputs": [
    {
     "data": {
      "text/plain": [
       "[1, 0, 0, 0, 0, 0, 0, 0, 0, 0]"
      ]
     },
     "execution_count": 5,
     "metadata": {},
     "output_type": "execute_result"
    }
   ],
   "source": [
    "duration_dictionary = {dur: i for i, dur in enumerate(set(durations))}\n",
    "inv_dur_dictionary = {i: dur for dur, i in duration_dictionary.items()}\n",
    "durations_to_int = [duration_dictionary[dur] for dur in durations]\n",
    "durations_to_int[:10]"
   ]
  },
  {
   "cell_type": "code",
   "execution_count": 6,
   "metadata": {},
   "outputs": [],
   "source": [
    "def prepare_sequences(notes, durations, length, step, n_notes, n_durations):\n",
    "    batch_size = 32\n",
    "    note_sequences = []\n",
    "    dur_sequences = []\n",
    "    for i in range(0, len(notes) - length, step):\n",
    "        note_sequences.append(notes[i: i + length])\n",
    "        dur_sequences.append(durations[i: i + length])\n",
    "    \n",
    "    note_sequences = np.array(note_sequences)\n",
    "    dur_sequences = np.array(dur_sequences)\n",
    "    \n",
    "    length = (len(note_sequences) // batch_size) * batch_size\n",
    "    indicies = np.arange(length)\n",
    "    np.random.shuffle(indicies)\n",
    "    \n",
    "    note_targets = to_categorical(note_sequences[indicies], n_notes)    \n",
    "    dur_targets = to_categorical(dur_sequences[indicies], n_durations)\n",
    "    sequences = [note_sequences[indicies], dur_sequences[indicies]]\n",
    "    targets = [note_targets, dur_targets]\n",
    "    return sequences, targets"
   ]
  },
  {
   "cell_type": "code",
   "execution_count": 7,
   "metadata": {},
   "outputs": [
    {
     "data": {
      "text/plain": [
       "(21056, 128)"
      ]
     },
     "execution_count": 7,
     "metadata": {},
     "output_type": "execute_result"
    }
   ],
   "source": [
    "X, y = prepare_sequences(notes_to_int, durations_to_int, 128, 1, len(note_dictionary), len(duration_dictionary))\n",
    "X[0].shape"
   ]
  },
  {
   "cell_type": "code",
   "execution_count": 8,
   "metadata": {},
   "outputs": [
    {
     "data": {
      "text/plain": [
       "(21056, 128, 557)"
      ]
     },
     "execution_count": 8,
     "metadata": {},
     "output_type": "execute_result"
    }
   ],
   "source": [
    "y[0].shape"
   ]
  },
  {
   "cell_type": "code",
   "execution_count": 9,
   "metadata": {
    "tags": []
   },
   "outputs": [],
   "source": [
    "model = MusicVAE(\n",
    "    kernel_size = 32,\n",
    "    encoder_filters = [32, 16, 16, 8],\n",
    "    encoder_strides = [1, 2, 2, 1],\n",
    "    decoder_filters = [8, 16, 32, 32],\n",
    "    decoder_strides = [1, 2, 2, 1],\n",
    "    n_notes = len(note_dictionary),\n",
    "    n_durations = len(duration_dictionary),\n",
    "    emb_size = 16,\n",
    "    input_dim = X[0].shape[1],\n",
    "    latent_dim = 2,\n",
    "    loss_factor = 1000\n",
    ")"
   ]
  },
  {
   "cell_type": "code",
   "execution_count": 10,
   "metadata": {},
   "outputs": [],
   "source": [
    "model.compile(0.0001)"
   ]
  },
  {
   "cell_type": "code",
   "execution_count": 11,
   "metadata": {},
   "outputs": [
    {
     "name": "stdout",
     "output_type": "stream",
     "text": [
      "Epoch 1/10\n",
      "658/658 [==============================] - 59s 86ms/step - cce_notes: 4939.1310 - cce_durations: 1313.5893 - kl: 16.5623 - loss: 6269.2832\n",
      "Epoch 2/10\n",
      "658/658 [==============================] - 65s 98ms/step - cce_notes: 4422.1881 - cce_durations: 1132.6228 - kl: 11.9602 - loss: 5566.7705\n",
      "Epoch 3/10\n",
      "658/658 [==============================] - 55s 84ms/step - cce_notes: 4413.8502 - cce_durations: 1023.3187 - kl: 9.1411 - loss: 5446.3105\n",
      "Epoch 4/10\n",
      "658/658 [==============================] - 52s 79ms/step - cce_notes: 4326.4670 - cce_durations: 1023.9509 - kl: 8.7974 - loss: 5359.2158\n",
      "Epoch 5/10\n",
      "658/658 [==============================] - 48s 72ms/step - cce_notes: 4128.2832 - cce_durations: 1045.9537 - kl: 9.7430 - loss: 5183.9795\n",
      "Epoch 6/10\n",
      "658/658 [==============================] - 48s 72ms/step - cce_notes: 4037.2573 - cce_durations: 1044.4061 - kl: 10.1030 - loss: 5091.7666\n",
      "Epoch 7/10\n",
      "658/658 [==============================] - 54s 82ms/step - cce_notes: 4001.6754 - cce_durations: 1042.9015 - kl: 10.0147 - loss: 5054.5918\n",
      "Epoch 8/10\n",
      "658/658 [==============================] - 55s 84ms/step - cce_notes: 3971.1674 - cce_durations: 1042.2171 - kl: 9.9576 - loss: 5023.3428\n",
      "Epoch 9/10\n",
      "658/658 [==============================] - 54s 82ms/step - cce_notes: 3935.3558 - cce_durations: 1045.2074 - kl: 10.0556 - loss: 4990.6187\n",
      "Epoch 10/10\n",
      "658/658 [==============================] - 55s 83ms/step - cce_notes: 3899.4633 - cce_durations: 1046.1697 - kl: 10.0807 - loss: 4955.7139\n"
     ]
    },
    {
     "data": {
      "text/plain": [
       "<tensorflow.python.keras.callbacks.History at 0x7f7a64375130>"
      ]
     },
     "execution_count": 11,
     "metadata": {},
     "output_type": "execute_result"
    }
   ],
   "source": [
    "model.model.fit(\n",
    "    X, y,\n",
    "    shuffle=True,\n",
    "    batch_size=32,\n",
    "    epochs=10\n",
    ")"
   ]
  },
  {
   "cell_type": "code",
   "execution_count": 12,
   "metadata": {},
   "outputs": [
    {
     "data": {
      "image/png": "[encoded data removed]",
      "text/plain": [
       "<Figure size 720x720 with 1 Axes>"
      ]
     },
     "metadata": {
      "image/png": {
       "height": 574,
       "width": 603
      },
      "needs_background": "light"
     },
     "output_type": "display_data"
    }
   ],
   "source": [
    "example_idx = np.random.choice(range(len(X)), 1000)\n",
    "example_images = [X[0][example_idx], X[1][example_idx]]\n",
    "\n",
    "_, _, z_points = model.encoder.predict(example_images)\n",
    "\n",
    "plt.figure(figsize=(10, 10))\n",
    "plt.scatter(z_points[:, 0] , z_points[:, 1] , cmap='rainbow' , alpha=0.5, s=2)\n",
    "plt.show()"
   ]
  },
  {
   "cell_type": "code",
   "execution_count": 14,
   "metadata": {},
   "outputs": [],
   "source": [
    "def sample(preds, temperature):\n",
    "    if temperature == 0:\n",
    "        return np.argmax(preds)\n",
    "    else:\n",
    "        preds = np.log(preds) / temperature\n",
    "        exp_preds = np.exp(preds)\n",
    "        preds = exp_preds / np.sum(exp_preds)\n",
    "        return np.random.choice(len(preds), p=preds)"
   ]
  },
  {
   "cell_type": "code",
   "execution_count": 16,
   "metadata": {},
   "outputs": [],
   "source": [
    "temperatures = [0.0, 0.5, 0.9]\n",
    "\n",
    "for temperature in temperatures:\n",
    "    generated_notes = []\n",
    "    generated_durations = []\n",
    "    predicted_notes, predicted_durations = model.decoder.predict(np.array([[-2.5, 3.43]]))\n",
    "    for i in range(predicted_notes.shape[1]):\n",
    "        generated_notes.append(sample(predicted_notes[0][i], temperature))\n",
    "        generated_durations.append(sample(predicted_durations[0][i], temperature))\n",
    "        \n",
    "    generated = [[inv_note_dictionary[x] for x in generated_notes], [inv_dur_dictionary[x] for x in generated_durations]]\n",
    "    save_notes_and_durations(generated, f'output/vae/output_{temperature}_down')"
   ]
  },
  {
   "cell_type": "code",
   "execution_count": null,
   "metadata": {},
   "outputs": [],
   "source": []
  }
 ],
 "metadata": {
  "kernelspec": {
   "display_name": "Python 3",
   "language": "python",
   "name": "python3"
  },
  "language_info": {
   "codemirror_mode": {
    "name": "ipython",
    "version": 3
   },
   "file_extension": ".py",
   "mimetype": "text/x-python",
   "name": "python",
   "nbconvert_exporter": "python",
   "pygments_lexer": "ipython3",
   "version": "3.8.5"
  }
 },
 "nbformat": 4,
 "nbformat_minor": 5
}
