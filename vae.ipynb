{
 "cells": [
  {
   "cell_type": "code",
   "execution_count": 1,
   "id": "polished-seeking",
   "metadata": {},
   "outputs": [],
   "source": [
    "import os\n",
    "from tqdm.notebook import tqdm\n",
    "import guitarpro\n",
    "import matplotlib.pyplot as plt\n",
    "from tensorflow.keras.utils import to_categorical\n",
    "import numpy as np\n",
    "\n",
    "import pandas as pd\n",
    "from collections import Counter\n",
    "\n",
    "from src.models.vae import MusicVAE\n",
    "from src.parse_gp import drop_rests_from_drum_track, get_notes_and_durations\n",
    "from src.save_midi import save_notes_and_durations, save_notes"
   ]
  },
  {
   "cell_type": "code",
   "execution_count": 2,
   "id": "broadband-scenario",
   "metadata": {},
   "outputs": [],
   "source": [
    "folderpath = \"tabs/\"\n",
    "track_name = 'guitar'"
   ]
  },
  {
   "cell_type": "code",
   "execution_count": 3,
   "id": "alternative-newark",
   "metadata": {},
   "outputs": [
    {
     "data": {
      "application/vnd.jupyter.widget-view+json": {
       "model_id": "129f32160ded4ba0ab831a657cf3108f",
       "version_major": 2,
       "version_minor": 0
      },
      "text/plain": [
       "  0%|          | 0/14 [00:00<?, ?it/s]"
      ]
     },
     "metadata": {},
     "output_type": "display_data"
    },
    {
     "data": {
      "application/vnd.jupyter.widget-view+json": {
       "model_id": "e665169072804698ad1ea6416df3397f",
       "version_major": 2,
       "version_minor": 0
      },
      "text/plain": [
       "  0%|          | 0/12 [00:00<?, ?it/s]"
      ]
     },
     "metadata": {},
     "output_type": "display_data"
    }
   ],
   "source": [
    "notes, durations = [], []\n",
    "for folder in os.listdir(folderpath):\n",
    "    for filename in tqdm(os.listdir(folderpath + folder + '/')):\n",
    "        tab = guitarpro.parse(folderpath + folder + '/' + filename)\n",
    "        tab_notes, tab_durations = get_notes_and_durations(tab, track_name, True)\n",
    "        notes += tab_notes\n",
    "        durations += tab_durations"
   ]
  },
  {
   "cell_type": "code",
   "execution_count": 4,
   "id": "raised-friday",
   "metadata": {},
   "outputs": [
    {
     "data": {
      "text/plain": [
       "<BarContainer object of 526 artists>"
      ]
     },
     "execution_count": 4,
     "metadata": {},
     "output_type": "execute_result"
    },
    {
     "data": {
      "image/png": "[encoded data removed]",
      "text/plain": [
       "<Figure size 432x288 with 1 Axes>"
      ]
     },
     "metadata": {
      "image/png": {
       "height": 248,
       "width": 381
      },
      "needs_background": "light"
     },
     "output_type": "display_data"
    }
   ],
   "source": [
    "note_counts = Counter(notes)\n",
    "df = pd.DataFrame(note_counts.items(), columns=['note', 'cnt']).sort_values('cnt', ascending=False)\n",
    "plt.bar(range(df.shape[0]), df.cnt)"
   ]
  },
  {
   "cell_type": "code",
   "execution_count": 5,
   "id": "attended-render",
   "metadata": {},
   "outputs": [],
   "source": [
    "limit = 150\n",
    "note_to_use = df.iloc[:limit].note.values"
   ]
  },
  {
   "cell_type": "code",
   "execution_count": 6,
   "id": "capital-tiger",
   "metadata": {},
   "outputs": [],
   "source": [
    "notes_corr, durations_corr = [], []\n",
    "for note, dur in zip(notes, durations):\n",
    "    if note in note_to_use:\n",
    "        notes_corr.append(note)\n",
    "        durations_corr.append(dur)"
   ]
  },
  {
   "cell_type": "code",
   "execution_count": 7,
   "id": "healthy-preference",
   "metadata": {},
   "outputs": [
    {
     "data": {
      "text/plain": [
       "[22, 3, 3, 0, 3, 3, 3, 5, 3, 0]"
      ]
     },
     "execution_count": 7,
     "metadata": {},
     "output_type": "execute_result"
    }
   ],
   "source": [
    "note_dictionary = {note: i for i, note in enumerate(note_to_use)}\n",
    "inv_note_dictionary = {i: note for note, i in note_dictionary.items()}\n",
    "notes_to_int = [note_dictionary[note] for note in notes_corr]\n",
    "notes_to_int[:10]"
   ]
  },
  {
   "cell_type": "code",
   "execution_count": 8,
   "id": "suspended-arthritis",
   "metadata": {},
   "outputs": [
    {
     "data": {
      "text/plain": [
       "[1, 0, 0, 0, 0, 0, 0, 0, 0, 0]"
      ]
     },
     "execution_count": 8,
     "metadata": {},
     "output_type": "execute_result"
    }
   ],
   "source": [
    "duration_dictionary = {dur: i for i, dur in enumerate(set(durations_corr))}\n",
    "inv_dur_dictionary = {i: dur for dur, i in duration_dictionary.items()}\n",
    "durations_to_int = [duration_dictionary[dur] for dur in durations_corr]\n",
    "durations_to_int[:10]"
   ]
  },
  {
   "cell_type": "code",
   "execution_count": 9,
   "id": "statutory-history",
   "metadata": {},
   "outputs": [],
   "source": [
    "def prepare_sequences(notes, durations, length, step, n_notes, n_durations):\n",
    "    batch_size = 32\n",
    "    note_sequences = []\n",
    "    dur_sequences = []\n",
    "    for i in range(0, len(notes) - length, step):\n",
    "        note_sequences.append(notes[i: i + length])\n",
    "        dur_sequences.append(durations[i: i + length])\n",
    "    \n",
    "    note_sequences = np.array(note_sequences)\n",
    "    dur_sequences = np.array(dur_sequences)\n",
    "    \n",
    "    length = (len(note_sequences) // batch_size) * batch_size\n",
    "    indicies = np.arange(length)\n",
    "    np.random.shuffle(indicies)\n",
    "    \n",
    "    note_targets = to_categorical(note_sequences[indicies], n_notes)    \n",
    "    dur_targets = to_categorical(dur_sequences[indicies], n_durations)\n",
    "    sequences = [note_sequences[indicies], dur_sequences[indicies]]\n",
    "    targets = [note_targets, dur_targets]\n",
    "    return sequences, targets"
   ]
  },
  {
   "cell_type": "code",
   "execution_count": 10,
   "id": "upset-evanescence",
   "metadata": {},
   "outputs": [
    {
     "data": {
      "text/plain": [
       "(18432, 128)"
      ]
     },
     "execution_count": 10,
     "metadata": {},
     "output_type": "execute_result"
    }
   ],
   "source": [
    "X, y = prepare_sequences(notes_to_int, durations_to_int, 128, 1, len(note_dictionary), len(duration_dictionary))\n",
    "X[0].shape"
   ]
  },
  {
   "cell_type": "code",
   "execution_count": 11,
   "id": "endangered-season",
   "metadata": {},
   "outputs": [
    {
     "data": {
      "text/plain": [
       "(18432, 128, 150)"
      ]
     },
     "execution_count": 11,
     "metadata": {},
     "output_type": "execute_result"
    }
   ],
   "source": [
    "y[0].shape"
   ]
  },
  {
   "cell_type": "code",
   "execution_count": 12,
   "id": "moderate-idaho",
   "metadata": {
    "tags": []
   },
   "outputs": [],
   "source": [
    "model = MusicVAE(\n",
    "    kernel_size = 32,\n",
    "    encoder_filters = [64, 32, 16, 8],\n",
    "    encoder_strides = [1, 2, 2, 1],\n",
    "    decoder_filters = [8, 16, 32, 64],\n",
    "    decoder_strides = [1, 2, 2, 1],\n",
    "    n_notes = len(note_dictionary),\n",
    "    n_durations = len(duration_dictionary),\n",
    "    emb_size = 32,\n",
    "    input_dim = X[0].shape[1],\n",
    "    latent_dim = 2,\n",
    "    loss_factor = 500\n",
    ")"
   ]
  },
  {
   "cell_type": "code",
   "execution_count": 13,
   "id": "developed-cable",
   "metadata": {},
   "outputs": [],
   "source": [
    "model.compile(0.0005)"
   ]
  },
  {
   "cell_type": "code",
   "execution_count": 14,
   "id": "mediterranean-bachelor",
   "metadata": {},
   "outputs": [
    {
     "name": "stdout",
     "output_type": "stream",
     "text": [
      "Epoch 1/30\n",
      "576/576 [==============================] - 25s 42ms/step - cce_notes: 2049.9824 - cce_durations: 692.6778 - kl: 8.2342 - loss: 2750.8940\n",
      "Epoch 2/30\n",
      "576/576 [==============================] - 24s 42ms/step - cce_notes: 1889.8013 - cce_durations: 599.9399 - kl: 7.4784 - loss: 2497.2197\n",
      "Epoch 3/30\n",
      "576/576 [==============================] - 25s 43ms/step - cce_notes: 1826.7897 - cce_durations: 593.3273 - kl: 7.8799 - loss: 2427.9966\n",
      "Epoch 4/30\n",
      "576/576 [==============================] - 25s 43ms/step - cce_notes: 1717.1250 - cce_durations: 601.7351 - kl: 8.6902 - loss: 2327.5503\n",
      "Epoch 5/30\n",
      "576/576 [==============================] - 25s 43ms/step - cce_notes: 1659.8008 - cce_durations: 600.9595 - kl: 9.0954 - loss: 2269.8555\n",
      "Epoch 6/30\n",
      "576/576 [==============================] - 25s 43ms/step - cce_notes: 1629.6980 - cce_durations: 598.5737 - kl: 9.2550 - loss: 2237.5269\n",
      "Epoch 7/30\n",
      "576/576 [==============================] - 27s 46ms/step - cce_notes: 1608.3557 - cce_durations: 596.3698 - kl: 9.3937 - loss: 2214.1191\n",
      "Epoch 8/30\n",
      "576/576 [==============================] - 24s 42ms/step - cce_notes: 1589.6829 - cce_durations: 593.0966 - kl: 9.4719 - loss: 2192.2517\n",
      "Epoch 9/30\n",
      "576/576 [==============================] - 23s 41ms/step - cce_notes: 1573.3582 - cce_durations: 590.2398 - kl: 9.5272 - loss: 2173.1252\n",
      "Epoch 10/30\n",
      "576/576 [==============================] - 23s 41ms/step - cce_notes: 1563.5793 - cce_durations: 588.0280 - kl: 9.7603 - loss: 2161.3674\n",
      "Epoch 11/30\n",
      "576/576 [==============================] - 23s 41ms/step - cce_notes: 1551.3399 - cce_durations: 584.7686 - kl: 9.7263 - loss: 2145.8350\n",
      "Epoch 12/30\n",
      "576/576 [==============================] - 23s 41ms/step - cce_notes: 1545.2163 - cce_durations: 583.1710 - kl: 9.7193 - loss: 2138.1069\n",
      "Epoch 13/30\n",
      "576/576 [==============================] - 24s 41ms/step - cce_notes: 1534.6181 - cce_durations: 581.1453 - kl: 9.7573 - loss: 2125.5205\n",
      "Epoch 14/30\n",
      "576/576 [==============================] - 23s 41ms/step - cce_notes: 1528.9186 - cce_durations: 579.6275 - kl: 10.1908 - loss: 2118.7371\n",
      "Epoch 15/30\n",
      "576/576 [==============================] - 23s 41ms/step - cce_notes: 1520.3033 - cce_durations: 577.9169 - kl: 9.9406 - loss: 2108.1606\n",
      "Epoch 16/30\n",
      "576/576 [==============================] - 23s 41ms/step - cce_notes: 1513.3790 - cce_durations: 577.4182 - kl: 9.9065 - loss: 2100.7036\n",
      "Epoch 17/30\n",
      "576/576 [==============================] - 25s 44ms/step - cce_notes: 1507.3334 - cce_durations: 576.1300 - kl: 10.0742 - loss: 2093.5376\n",
      "Epoch 18/30\n",
      "576/576 [==============================] - 25s 43ms/step - cce_notes: 1500.8255 - cce_durations: 574.9388 - kl: 10.0290 - loss: 2085.7935\n",
      "Epoch 19/30\n",
      "576/576 [==============================] - 24s 42ms/step - cce_notes: 1497.8942 - cce_durations: 574.4950 - kl: 10.1379 - loss: 2082.5271\n",
      "Epoch 20/30\n",
      "576/576 [==============================] - 24s 42ms/step - cce_notes: 1490.8742 - cce_durations: 573.8884 - kl: 10.1617 - loss: 2074.9243\n",
      "Epoch 21/30\n",
      "576/576 [==============================] - 24s 42ms/step - cce_notes: 1487.7386 - cce_durations: 572.8069 - kl: 10.0912 - loss: 2070.6367\n",
      "Epoch 22/30\n",
      "576/576 [==============================] - 24s 42ms/step - cce_notes: 1481.0188 - cce_durations: 571.4174 - kl: 10.2370 - loss: 2062.6733\n",
      "Epoch 23/30\n",
      "576/576 [==============================] - 24s 42ms/step - cce_notes: 1475.4286 - cce_durations: 570.4418 - kl: 10.3315 - loss: 2056.2019\n",
      "Epoch 24/30\n",
      "576/576 [==============================] - 24s 42ms/step - cce_notes: 1474.5435 - cce_durations: 570.5929 - kl: 10.3053 - loss: 2055.4419\n",
      "Epoch 25/30\n",
      "576/576 [==============================] - 25s 43ms/step - cce_notes: 1468.8027 - cce_durations: 569.9762 - kl: 10.3757 - loss: 2049.1545\n",
      "Epoch 26/30\n",
      "576/576 [==============================] - 25s 43ms/step - cce_notes: 1466.1355 - cce_durations: 569.1963 - kl: 10.3676 - loss: 2045.6992\n",
      "Epoch 27/30\n",
      "576/576 [==============================] - 25s 43ms/step - cce_notes: 1461.1539 - cce_durations: 568.6984 - kl: 10.3777 - loss: 2040.2301\n",
      "Epoch 28/30\n",
      "576/576 [==============================] - 25s 43ms/step - cce_notes: 1459.1126 - cce_durations: 568.4379 - kl: 10.4294 - loss: 2037.9800\n",
      "Epoch 29/30\n",
      "576/576 [==============================] - 25s 43ms/step - cce_notes: 1455.3326 - cce_durations: 567.6969 - kl: 10.5078 - loss: 2033.5374\n",
      "Epoch 30/30\n",
      "576/576 [==============================] - 25s 43ms/step - cce_notes: 1449.6667 - cce_durations: 566.3838 - kl: 10.5193 - loss: 2026.5697\n"
     ]
    },
    {
     "data": {
      "text/plain": [
       "<tensorflow.python.keras.callbacks.History at 0x7fd6c7ea86d0>"
      ]
     },
     "execution_count": 14,
     "metadata": {},
     "output_type": "execute_result"
    }
   ],
   "source": [
    "model.model.fit(\n",
    "    X, y,\n",
    "    shuffle=True,\n",
    "    batch_size=32,\n",
    "    epochs=30\n",
    ")"
   ]
  },
  {
   "cell_type": "code",
   "execution_count": 15,
   "id": "champion-incidence",
   "metadata": {},
   "outputs": [
    {
     "data": {
      "image/png": "[encoded data removed]",
      "text/plain": [
       "<Figure size 720x720 with 1 Axes>"
      ]
     },
     "metadata": {
      "image/png": {
       "height": 574,
       "width": 610
      },
      "needs_background": "light"
     },
     "output_type": "display_data"
    }
   ],
   "source": [
    "example_idx = np.random.choice(range(len(X)), 1000)\n",
    "example_states = [X[0][example_idx], X[1][example_idx]]\n",
    "\n",
    "_, _, z_points = model.encoder.predict(example_states)\n",
    "\n",
    "plt.figure(figsize=(10, 10))\n",
    "plt.scatter(z_points[:, 0] , z_points[:, 1] , cmap='rainbow' , alpha=0.5, s=2)\n",
    "plt.show()"
   ]
  },
  {
   "cell_type": "code",
   "execution_count": 16,
   "id": "instant-jones",
   "metadata": {},
   "outputs": [],
   "source": [
    "def sample(preds, temperature):\n",
    "    if temperature == 0:\n",
    "        return np.argmax(preds)\n",
    "    else:\n",
    "        preds = np.log(preds) / temperature\n",
    "        exp_preds = np.exp(preds)\n",
    "        preds = exp_preds / np.sum(exp_preds)\n",
    "        return np.random.choice(len(preds), p=preds)"
   ]
  },
  {
   "cell_type": "code",
   "execution_count": 19,
   "id": "respected-edwards",
   "metadata": {},
   "outputs": [],
   "source": [
    "temperatures = [0.0, 0.5, 0.9]\n",
    "\n",
    "for temperature in temperatures:\n",
    "    generated_notes = []\n",
    "    generated_durations = []\n",
    "    predicted_notes, predicted_durations = model.decoder.predict(np.array([[1.5, -2.8]]))\n",
    "    for i in range(predicted_notes.shape[1]):\n",
    "        generated_notes.append(sample(predicted_notes[0][i], temperature))\n",
    "        generated_durations.append(sample(predicted_durations[0][i], temperature))\n",
    "        \n",
    "    generated = [[inv_note_dictionary[x] for x in generated_notes], [inv_dur_dictionary[x] for x in generated_durations]]\n",
    "    save_notes_and_durations(generated, f'output/vae/output_{temperature}_down')"
   ]
  },
  {
   "cell_type": "code",
   "execution_count": null,
   "id": "behind-acrobat",
   "metadata": {},
   "outputs": [],
   "source": []
  }
 ],
 "metadata": {
  "kernelspec": {
   "display_name": "Python 3",
   "language": "python",
   "name": "python3"
  },
  "language_info": {
   "codemirror_mode": {
    "name": "ipython",
    "version": 3
   },
   "file_extension": ".py",
   "mimetype": "text/x-python",
   "name": "python",
   "nbconvert_exporter": "python",
   "pygments_lexer": "ipython3",
   "version": "3.8.5"
  }
 },
 "nbformat": 4,
 "nbformat_minor": 5
}
