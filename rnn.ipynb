{
 "cells": [
  {
   "cell_type": "markdown",
   "metadata": {},
   "source": [
    "## RNN with attention\n",
    "\n",
    "Классический алгоритм генерации последовательность с помощью рекуррентных слоев и механизмом внимания."
   ]
  },
  {
   "cell_type": "code",
   "execution_count": 1,
   "metadata": {},
   "outputs": [],
   "source": [
    "import sys\n",
    "sys.path.append('src/')\n",
    "import numpy as np\n",
    "import matplotlib.pyplot as plt\n",
    "\n",
    "from models.rnn import MusicRNN\n",
    "from preprocess import parse_files_to_sequences, limit_uniq_notes, get_dictionaries\n",
    "from save_midi import save_notes_and_durations"
   ]
  },
  {
   "cell_type": "code",
   "execution_count": 2,
   "metadata": {},
   "outputs": [],
   "source": [
    "folderpath = \"tabs/\"\n",
    "track_name = 'guitar'"
   ]
  },
  {
   "cell_type": "code",
   "execution_count": 3,
   "metadata": {},
   "outputs": [
    {
     "data": {
      "application/vnd.jupyter.widget-view+json": {
       "model_id": "ab1c2789b72442bc92eed58872ba5fa7",
       "version_major": 2,
       "version_minor": 0
      },
      "text/plain": [
       "  0%|          | 0/14 [00:00<?, ?it/s]"
      ]
     },
     "metadata": {},
     "output_type": "display_data"
    },
    {
     "data": {
      "application/vnd.jupyter.widget-view+json": {
       "model_id": "034327c72b654894ab3260a32b72be37",
       "version_major": 2,
       "version_minor": 0
      },
      "text/plain": [
       "  0%|          | 0/12 [00:00<?, ?it/s]"
      ]
     },
     "metadata": {},
     "output_type": "display_data"
    }
   ],
   "source": [
    "notes, durations = parse_files_to_sequences(folderpath, track_name)"
   ]
  },
  {
   "cell_type": "code",
   "execution_count": 4,
   "metadata": {},
   "outputs": [],
   "source": [
    "notes, durations = limit_uniq_notes(notes, durations, 150)"
   ]
  },
  {
   "cell_type": "code",
   "execution_count": 5,
   "metadata": {},
   "outputs": [],
   "source": [
    "note_dictionary, inv_note_dictionary, notes_to_int, \\\n",
    "duration_dictionary, inv_dur_dictionary, durations_to_int = get_dictionaries(notes, durations)"
   ]
  },
  {
   "cell_type": "code",
   "execution_count": 6,
   "metadata": {},
   "outputs": [],
   "source": [
    "RNN = MusicRNN(\n",
    "    n_notes=len(note_dictionary),\n",
    "    n_durations=len(duration_dictionary),\n",
    "    emb_size=64,\n",
    "    n_units=128,\n",
    "    n_layers=2,\n",
    "    use_dropout=True,\n",
    "    use_attention=True,\n",
    ")"
   ]
  },
  {
   "cell_type": "code",
   "execution_count": 7,
   "metadata": {},
   "outputs": [
    {
     "name": "stdout",
     "output_type": "stream",
     "text": [
      "Model: \"model\"\n",
      "__________________________________________________________________________________________________\n",
      "Layer (type)                    Output Shape         Param #     Connected to                     \n",
      "==================================================================================================\n",
      "input_1 (InputLayer)            [(None, None)]       0                                            \n",
      "__________________________________________________________________________________________________\n",
      "input_2 (InputLayer)            [(None, None)]       0                                            \n",
      "__________________________________________________________________________________________________\n",
      "embedding (Embedding)           (None, None, 64)     9600        input_1[0][0]                    \n",
      "__________________________________________________________________________________________________\n",
      "embedding_1 (Embedding)         (None, None, 64)     2048        input_2[0][0]                    \n",
      "__________________________________________________________________________________________________\n",
      "concatenate (Concatenate)       (None, None, 128)    0           embedding[0][0]                  \n",
      "                                                                 embedding_1[0][0]                \n",
      "__________________________________________________________________________________________________\n",
      "lstm (LSTM)                     (None, None, 128)    131584      concatenate[0][0]                \n",
      "__________________________________________________________________________________________________\n",
      "dropout (Dropout)               (None, None, 128)    0           lstm[0][0]                       \n",
      "__________________________________________________________________________________________________\n",
      "lstm_1 (LSTM)                   (None, None, 128)    131584      dropout[0][0]                    \n",
      "__________________________________________________________________________________________________\n",
      "dropout_1 (Dropout)             (None, None, 128)    0           lstm_1[0][0]                     \n",
      "__________________________________________________________________________________________________\n",
      "dense (Dense)                   (None, None, 1)      129         dropout_1[0][0]                  \n",
      "__________________________________________________________________________________________________\n",
      "reshape (Reshape)               (None, None)         0           dense[0][0]                      \n",
      "__________________________________________________________________________________________________\n",
      "activation (Activation)         (None, None)         0           reshape[0][0]                    \n",
      "__________________________________________________________________________________________________\n",
      "repeat_vector (RepeatVector)    (None, 128, None)    0           activation[0][0]                 \n",
      "__________________________________________________________________________________________________\n",
      "permute (Permute)               (None, None, 128)    0           repeat_vector[0][0]              \n",
      "__________________________________________________________________________________________________\n",
      "multiply (Multiply)             (None, None, 128)    0           dropout_1[0][0]                  \n",
      "                                                                 permute[0][0]                    \n",
      "__________________________________________________________________________________________________\n",
      "lambda (Lambda)                 (None, 128)          0           multiply[0][0]                   \n",
      "__________________________________________________________________________________________________\n",
      "dense_1 (Dense)                 (None, 150)          19350       lambda[0][0]                     \n",
      "__________________________________________________________________________________________________\n",
      "dense_2 (Dense)                 (None, 32)           4128        lambda[0][0]                     \n",
      "==================================================================================================\n",
      "Total params: 298,423\n",
      "Trainable params: 298,423\n",
      "Non-trainable params: 0\n",
      "__________________________________________________________________________________________________\n"
     ]
    }
   ],
   "source": [
    "RNN.model.summary()"
   ]
  },
  {
   "cell_type": "code",
   "execution_count": 8,
   "metadata": {},
   "outputs": [],
   "source": [
    "seq_length = 128\n",
    "step = 1\n",
    "X, y = RNN.prepare_sequences(notes_to_int, durations_to_int, seq_length, step)"
   ]
  },
  {
   "cell_type": "code",
   "execution_count": 9,
   "metadata": {
    "tags": []
   },
   "outputs": [
    {
     "name": "stdout",
     "output_type": "stream",
     "text": [
      "Epoch 1/30\n",
      "387/387 [==============================] - 43s 105ms/step - loss: 5.4564 - dense_1_loss: 4.0240 - dense_2_loss: 1.4324 - val_loss: 5.7846 - val_dense_1_loss: 4.3572 - val_dense_2_loss: 1.4274\n",
      "Epoch 2/30\n",
      "387/387 [==============================] - 39s 101ms/step - loss: 4.6658 - dense_1_loss: 3.4954 - dense_2_loss: 1.1704 - val_loss: 5.8502 - val_dense_1_loss: 4.4283 - val_dense_2_loss: 1.4219\n",
      "Epoch 3/30\n",
      "387/387 [==============================] - 40s 102ms/step - loss: 4.2725 - dense_1_loss: 3.1939 - dense_2_loss: 1.0786 - val_loss: 6.0714 - val_dense_1_loss: 4.5683 - val_dense_2_loss: 1.5031\n",
      "Epoch 4/30\n",
      "387/387 [==============================] - 39s 101ms/step - loss: 4.0154 - dense_1_loss: 2.9730 - dense_2_loss: 1.0424 - val_loss: 6.1326 - val_dense_1_loss: 4.5618 - val_dense_2_loss: 1.5708\n",
      "Epoch 5/30\n",
      "387/387 [==============================] - 39s 100ms/step - loss: 3.8100 - dense_1_loss: 2.8122 - dense_2_loss: 0.9979 - val_loss: 6.1735 - val_dense_1_loss: 4.6390 - val_dense_2_loss: 1.5346\n",
      "Epoch 6/30\n",
      "387/387 [==============================] - 39s 100ms/step - loss: 3.7184 - dense_1_loss: 2.7412 - dense_2_loss: 0.9772 - val_loss: 6.2608 - val_dense_1_loss: 4.7050 - val_dense_2_loss: 1.5558\n",
      "Epoch 7/30\n",
      "387/387 [==============================] - 39s 101ms/step - loss: 3.6376 - dense_1_loss: 2.6726 - dense_2_loss: 0.9651 - val_loss: 6.3559 - val_dense_1_loss: 4.7719 - val_dense_2_loss: 1.5840\n",
      "Epoch 8/30\n",
      "387/387 [==============================] - 39s 100ms/step - loss: 3.5942 - dense_1_loss: 2.6451 - dense_2_loss: 0.9491 - val_loss: 6.3148 - val_dense_1_loss: 4.6982 - val_dense_2_loss: 1.6166\n",
      "Epoch 9/30\n",
      "387/387 [==============================] - 39s 100ms/step - loss: 3.4724 - dense_1_loss: 2.5505 - dense_2_loss: 0.9219 - val_loss: 6.3166 - val_dense_1_loss: 4.7358 - val_dense_2_loss: 1.5808\n",
      "Epoch 10/30\n",
      "387/387 [==============================] - 39s 101ms/step - loss: 3.4090 - dense_1_loss: 2.4934 - dense_2_loss: 0.9156 - val_loss: 6.5461 - val_dense_1_loss: 4.8815 - val_dense_2_loss: 1.6646\n",
      "Epoch 11/30\n",
      "387/387 [==============================] - 39s 100ms/step - loss: 3.3945 - dense_1_loss: 2.4834 - dense_2_loss: 0.9111 - val_loss: 6.6484 - val_dense_1_loss: 4.9568 - val_dense_2_loss: 1.6915\n",
      "Epoch 12/30\n",
      "387/387 [==============================] - 39s 100ms/step - loss: 3.3327 - dense_1_loss: 2.4302 - dense_2_loss: 0.9025 - val_loss: 6.5787 - val_dense_1_loss: 4.9004 - val_dense_2_loss: 1.6783\n",
      "Epoch 13/30\n",
      "387/387 [==============================] - 39s 101ms/step - loss: 3.3101 - dense_1_loss: 2.4138 - dense_2_loss: 0.8964 - val_loss: 6.4819 - val_dense_1_loss: 4.8169 - val_dense_2_loss: 1.6650\n",
      "Epoch 14/30\n",
      "387/387 [==============================] - 39s 100ms/step - loss: 3.3183 - dense_1_loss: 2.4076 - dense_2_loss: 0.9108 - val_loss: 6.7876 - val_dense_1_loss: 5.0261 - val_dense_2_loss: 1.7616\n",
      "Epoch 15/30\n",
      "387/387 [==============================] - 39s 100ms/step - loss: 3.2324 - dense_1_loss: 2.3584 - dense_2_loss: 0.8740 - val_loss: 6.5968 - val_dense_1_loss: 4.9250 - val_dense_2_loss: 1.6718\n",
      "Epoch 16/30\n",
      "387/387 [==============================] - 39s 100ms/step - loss: 3.1915 - dense_1_loss: 2.3300 - dense_2_loss: 0.8615 - val_loss: 6.6264 - val_dense_1_loss: 4.9733 - val_dense_2_loss: 1.6531\n",
      "Epoch 17/30\n",
      "387/387 [==============================] - 39s 100ms/step - loss: 3.1930 - dense_1_loss: 2.3204 - dense_2_loss: 0.8726 - val_loss: 6.7156 - val_dense_1_loss: 5.0927 - val_dense_2_loss: 1.6230\n",
      "Epoch 18/30\n",
      "387/387 [==============================] - 38s 99ms/step - loss: 3.1693 - dense_1_loss: 2.2942 - dense_2_loss: 0.8752 - val_loss: 6.4824 - val_dense_1_loss: 4.7943 - val_dense_2_loss: 1.6881\n",
      "Epoch 19/30\n",
      "387/387 [==============================] - 39s 100ms/step - loss: 3.1693 - dense_1_loss: 2.2982 - dense_2_loss: 0.8711 - val_loss: 6.7545 - val_dense_1_loss: 5.0346 - val_dense_2_loss: 1.7199\n",
      "Epoch 20/30\n",
      "387/387 [==============================] - 39s 100ms/step - loss: 3.1259 - dense_1_loss: 2.2802 - dense_2_loss: 0.8458 - val_loss: 6.6935 - val_dense_1_loss: 5.0402 - val_dense_2_loss: 1.6533\n",
      "Epoch 21/30\n",
      "387/387 [==============================] - 39s 100ms/step - loss: 3.1139 - dense_1_loss: 2.2519 - dense_2_loss: 0.8620 - val_loss: 6.5863 - val_dense_1_loss: 4.9415 - val_dense_2_loss: 1.6449\n",
      "Epoch 22/30\n",
      "387/387 [==============================] - 39s 100ms/step - loss: 3.0735 - dense_1_loss: 2.2323 - dense_2_loss: 0.8412 - val_loss: 6.6023 - val_dense_1_loss: 4.8962 - val_dense_2_loss: 1.7061\n",
      "Epoch 23/30\n",
      "387/387 [==============================] - 39s 100ms/step - loss: 3.0666 - dense_1_loss: 2.2188 - dense_2_loss: 0.8478 - val_loss: 6.8052 - val_dense_1_loss: 5.0617 - val_dense_2_loss: 1.7435\n",
      "Epoch 24/30\n",
      "387/387 [==============================] - 39s 100ms/step - loss: 3.0332 - dense_1_loss: 2.1906 - dense_2_loss: 0.8426 - val_loss: 6.8301 - val_dense_1_loss: 5.0992 - val_dense_2_loss: 1.7309\n",
      "Epoch 25/30\n",
      "387/387 [==============================] - 39s 100ms/step - loss: 3.0416 - dense_1_loss: 2.1990 - dense_2_loss: 0.8426 - val_loss: 6.5837 - val_dense_1_loss: 4.8457 - val_dense_2_loss: 1.7379\n",
      "Epoch 26/30\n",
      "387/387 [==============================] - 39s 100ms/step - loss: 2.9983 - dense_1_loss: 2.1710 - dense_2_loss: 0.8273 - val_loss: 6.6106 - val_dense_1_loss: 4.9233 - val_dense_2_loss: 1.6873\n",
      "Epoch 27/30\n",
      "387/387 [==============================] - 39s 100ms/step - loss: 3.0140 - dense_1_loss: 2.1870 - dense_2_loss: 0.8269 - val_loss: 6.8007 - val_dense_1_loss: 5.0602 - val_dense_2_loss: 1.7406\n",
      "Epoch 28/30\n",
      "387/387 [==============================] - 39s 101ms/step - loss: 2.9856 - dense_1_loss: 2.1682 - dense_2_loss: 0.8174 - val_loss: 6.7179 - val_dense_1_loss: 4.9752 - val_dense_2_loss: 1.7427\n",
      "Epoch 29/30\n",
      "387/387 [==============================] - 39s 100ms/step - loss: 2.9763 - dense_1_loss: 2.1507 - dense_2_loss: 0.8256 - val_loss: 6.9352 - val_dense_1_loss: 5.2172 - val_dense_2_loss: 1.7180\n",
      "Epoch 30/30\n",
      "387/387 [==============================] - 39s 100ms/step - loss: 2.9467 - dense_1_loss: 2.1227 - dense_2_loss: 0.8240 - val_loss: 6.7785 - val_dense_1_loss: 5.0598 - val_dense_2_loss: 1.7186\n"
     ]
    },
    {
     "data": {
      "text/plain": [
       "<tensorflow.python.keras.callbacks.History at 0x7fc9647527c0>"
      ]
     },
     "execution_count": 9,
     "metadata": {},
     "output_type": "execute_result"
    }
   ],
   "source": [
    "RNN.model.fit(\n",
    "    X, y,\n",
    "    epochs=30,\n",
    "    batch_size=32,\n",
    "    validation_split=0.2,\n",
    "    shuffle=True\n",
    ")"
   ]
  },
  {
   "cell_type": "code",
   "execution_count": 10,
   "metadata": {},
   "outputs": [
    {
     "data": {
      "image/png": "[encoded data removed]",
      "text/plain": [
       "<Figure size 432x288 with 1 Axes>"
      ]
     },
     "metadata": {
      "image/png": {
       "height": 248,
       "width": 373
      },
      "needs_background": "light"
     },
     "output_type": "display_data"
    }
   ],
   "source": [
    "plt.figure()\n",
    "plt.plot(RNN.model.history.history['loss'], label='loss')\n",
    "plt.plot(RNN.model.history.history['val_loss'], label='val_loss')\n",
    "plt.legend()\n",
    "plt.show()"
   ]
  },
  {
   "cell_type": "code",
   "execution_count": 11,
   "metadata": {},
   "outputs": [],
   "source": [
    "def sample(preds, temperature):\n",
    "    if temperature == 0:\n",
    "        return np.argmax(preds)\n",
    "    else:\n",
    "        preds = np.log(preds) / temperature\n",
    "        exp_preds = np.exp(preds)\n",
    "        preds = exp_preds / np.sum(exp_preds)\n",
    "        return np.random.choice(len(preds), p=preds)"
   ]
  },
  {
   "cell_type": "code",
   "execution_count": 16,
   "metadata": {},
   "outputs": [
    {
     "data": {
      "text/plain": [
       "15599"
      ]
     },
     "execution_count": 16,
     "metadata": {},
     "output_type": "execute_result"
    }
   ],
   "source": [
    "len(notes_to_int)"
   ]
  },
  {
   "cell_type": "code",
   "execution_count": 17,
   "metadata": {},
   "outputs": [],
   "source": [
    "temperatures = [0.0, 0.5, 0.9]\n",
    "n_generated = 128\n",
    "\n",
    "# att_matrix = np.zeros((n_generated+seq_length, n_generated))\n",
    "\n",
    "for temperature in temperatures:\n",
    "    generated = [notes_to_int[15000:15128], durations_to_int[15000:15128]]\n",
    "    for i in range(n_generated):\n",
    "        note_pred, duration_pred = RNN.model.predict([np.array(generated[0][i:]), np.array(generated[1][i:])])\n",
    "        generated[0].append(sample(note_pred[0], temperature))\n",
    "        generated[1].append(sample(duration_pred[0], temperature))\n",
    "    #     if use_attention:\n",
    "    #         att_preds = RNN.att_model.predict(generated[i:])[0]\n",
    "    #         att_matrix[(i-len(att_preds)+seq_length):(i+seq_length), i] = att_preds\n",
    "    \n",
    "    generated = [[inv_note_dictionary[x] for x in generated[0]], [inv_dur_dictionary[x] for x in generated[1]]]\n",
    "    save_notes_and_durations(generated, f'output/rnn/output_{temperature}')"
   ]
  },
  {
   "cell_type": "code",
   "execution_count": 16,
   "metadata": {},
   "outputs": [],
   "source": [
    "# if use_attention:\n",
    "#     fig, ax = plt.subplots(figsize=(20,20))\n",
    "#     im = ax.imshow(att_matrix[(seq_length-2):,], cmap='coolwarm', interpolation='nearest')\n",
    "#     ax.set_xticks(np.arange(-.5, len(generated_to_notes)- seq_length, 1), minor=True);\n",
    "#     ax.set_yticks(np.arange(-.5, len(generated_to_notes)- seq_length, 1), minor=True);\n",
    "#     ax.grid(which='minor', color='black', linestyle='-', linewidth=1)\n",
    "#     ax.set_xticks(np.arange(len(generated_to_notes) - seq_length))\n",
    "#     ax.set_yticks(np.arange(len(generated_to_notes)- seq_length+2))\n",
    "#     ax.set_xticklabels([n for n in generated_to_notes[(seq_length):]])\n",
    "#     ax.set_yticklabels([n for n in generated_to_notes[(seq_length - 2):]])\n",
    "#     ax.xaxis.tick_top()    \n",
    "#     plt.setp(ax.get_xticklabels(), rotation=90, ha=\"left\", va = \"center\",\n",
    "#              rotation_mode=\"anchor\")\n",
    "\n",
    "#     plt.show()"
   ]
  },
  {
   "cell_type": "code",
   "execution_count": null,
   "metadata": {},
   "outputs": [],
   "source": []
  }
 ],
 "metadata": {
  "kernelspec": {
   "display_name": "Python 3",
   "language": "python",
   "name": "python3"
  },
  "language_info": {
   "codemirror_mode": {
    "name": "ipython",
    "version": 3
   },
   "file_extension": ".py",
   "mimetype": "text/x-python",
   "name": "python",
   "nbconvert_exporter": "python",
   "pygments_lexer": "ipython3",
   "version": "3.8.10"
  }
 },
 "nbformat": 4,
 "nbformat_minor": 4
}
