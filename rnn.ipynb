{
 "cells": [
  {
   "cell_type": "code",
   "execution_count": 7,
   "metadata": {},
   "outputs": [],
   "source": [
    "import os\n",
    "import numpy as np\n",
    "from tqdm.notebook import tqdm\n",
    "import guitarpro\n",
    "from collections import Counter\n",
    "import pandas as pd\n",
    "import matplotlib.pyplot as plt\n",
    "\n",
    "from src.models.rnn import MusicRNN\n",
    "from src.parse_gp import get_notes_and_durations\n",
    "from src.save_midi import save_notes_and_durations"
   ]
  },
  {
   "cell_type": "markdown",
   "metadata": {},
   "source": [
    "Изначально было интересно проверить возможность генерации барабанных дорожек в своем стиле. Поэтому в коде отражены особенности написания барабанных партий именно мной.\n",
    "\n",
    "А именно: простой бит в 4/4 |36 38 36 38| (36 - бочка, 38 - рабочий) можно описать 4-я нотами и 4-я длительностями в 1/4. \n",
    "\n",
    "Я же написал бы тот же такт таким образом: |36 R R R 38 R R R 36 R R R 38 R R R|, где R - просто пауза и все длительности 1/16. Поэтому после парсинга ударных в списке нот до 40% пауз, которые могли усложнить модель (по факту нет).\n",
    "\n",
    "Поэтому по мере роста гипотез добавились функции дропа этих пауз и парсинга оригинальных длительностей, так что теперь можно применять код для парсинга любой дорожки и использовать модель с конкатенацией как нот, так и длительностей."
   ]
  },
  {
   "cell_type": "code",
   "execution_count": 2,
   "metadata": {},
   "outputs": [],
   "source": [
    "folderpath = \"tabs/\"\n",
    "track_name = 'guitar'"
   ]
  },
  {
   "cell_type": "code",
   "execution_count": 3,
   "metadata": {},
   "outputs": [
    {
     "data": {
      "application/vnd.jupyter.widget-view+json": {
       "model_id": "9b36c6e4175240d0948e3bef76698d8f",
       "version_major": 2,
       "version_minor": 0
      },
      "text/plain": [
       "  0%|          | 0/14 [00:00<?, ?it/s]"
      ]
     },
     "metadata": {},
     "output_type": "display_data"
    },
    {
     "data": {
      "application/vnd.jupyter.widget-view+json": {
       "model_id": "14bcf4a434de4f03afba94113712ba71",
       "version_major": 2,
       "version_minor": 0
      },
      "text/plain": [
       "  0%|          | 0/12 [00:00<?, ?it/s]"
      ]
     },
     "metadata": {},
     "output_type": "display_data"
    }
   ],
   "source": [
    "notes, durations = [], []\n",
    "for folder in os.listdir(folderpath):\n",
    "    for filename in tqdm(os.listdir(folderpath + folder + '/')):\n",
    "        tab = guitarpro.parse(folderpath + folder + '/' + filename)\n",
    "        tab_notes, tab_durations = get_notes_and_durations(tab, track_name, False)\n",
    "        notes += tab_notes\n",
    "        durations += tab_durations"
   ]
  },
  {
   "cell_type": "code",
   "execution_count": 8,
   "metadata": {},
   "outputs": [
    {
     "data": {
      "text/plain": [
       "<BarContainer object of 526 artists>"
      ]
     },
     "execution_count": 8,
     "metadata": {},
     "output_type": "execute_result"
    },
    {
     "data": {
      "image/png": "[encoded data removed]",
      "text/plain": [
       "<Figure size 432x288 with 1 Axes>"
      ]
     },
     "metadata": {
      "image/png": {
       "height": 248,
       "width": 381
      },
      "needs_background": "light"
     },
     "output_type": "display_data"
    }
   ],
   "source": [
    "note_counts = Counter(notes)\n",
    "df = pd.DataFrame(note_counts.items(), columns=['note', 'cnt']).sort_values('cnt', ascending=False)\n",
    "plt.bar(range(df.shape[0]), df.cnt)"
   ]
  },
  {
   "cell_type": "code",
   "execution_count": 9,
   "metadata": {},
   "outputs": [],
   "source": [
    "limit = 150\n",
    "note_to_use = df.iloc[:limit].note.values"
   ]
  },
  {
   "cell_type": "code",
   "execution_count": 10,
   "metadata": {},
   "outputs": [],
   "source": [
    "notes_corr, durations_corr = [], []\n",
    "for note, dur in zip(notes, durations):\n",
    "    if note in note_to_use:\n",
    "        notes_corr.append(note)\n",
    "        durations_corr.append(dur)"
   ]
  },
  {
   "cell_type": "code",
   "execution_count": 11,
   "metadata": {},
   "outputs": [
    {
     "data": {
      "text/plain": [
       "[22, 3, 3, 0, 3, 3, 3, 5, 3, 0]"
      ]
     },
     "execution_count": 11,
     "metadata": {},
     "output_type": "execute_result"
    }
   ],
   "source": [
    "note_dictionary = {note: i for i, note in enumerate(note_to_use)}\n",
    "inv_note_dictionary = {i: note for note, i in note_dictionary.items()}\n",
    "notes_to_int = [note_dictionary[note] for note in notes_corr]\n",
    "notes_to_int[:10]"
   ]
  },
  {
   "cell_type": "code",
   "execution_count": 12,
   "metadata": {},
   "outputs": [
    {
     "data": {
      "text/plain": [
       "[1, 0, 0, 0, 0, 0, 0, 0, 0, 0]"
      ]
     },
     "execution_count": 12,
     "metadata": {},
     "output_type": "execute_result"
    }
   ],
   "source": [
    "duration_dictionary = {dur: i for i, dur in enumerate(set(durations_corr))}\n",
    "inv_dur_dictionary = {i: dur for dur, i in duration_dictionary.items()}\n",
    "durations_to_int = [duration_dictionary[dur] for dur in durations_corr]\n",
    "durations_to_int[:10]"
   ]
  },
  {
   "cell_type": "code",
   "execution_count": 13,
   "metadata": {},
   "outputs": [],
   "source": [
    "n_notes = len(note_dictionary)\n",
    "n_durations = len(duration_dictionary)\n",
    "emb_size = 100\n",
    "n_units = 128\n",
    "n_layers = 2\n",
    "use_dropout = True\n",
    "use_attention = True"
   ]
  },
  {
   "cell_type": "code",
   "execution_count": 14,
   "metadata": {},
   "outputs": [],
   "source": [
    "RNN = MusicRNN(\n",
    "    n_notes,\n",
    "    n_durations,\n",
    "    emb_size,\n",
    "    n_units,\n",
    "    n_layers,\n",
    "    use_dropout,\n",
    "    use_attention,\n",
    ")"
   ]
  },
  {
   "cell_type": "code",
   "execution_count": 15,
   "metadata": {},
   "outputs": [
    {
     "name": "stdout",
     "output_type": "stream",
     "text": [
      "Model: \"model\"\n",
      "__________________________________________________________________________________________________\n",
      "Layer (type)                    Output Shape         Param #     Connected to                     \n",
      "==================================================================================================\n",
      "input_1 (InputLayer)            [(None, None)]       0                                            \n",
      "__________________________________________________________________________________________________\n",
      "input_2 (InputLayer)            [(None, None)]       0                                            \n",
      "__________________________________________________________________________________________________\n",
      "embedding (Embedding)           (None, None, 100)    15000       input_1[0][0]                    \n",
      "__________________________________________________________________________________________________\n",
      "embedding_1 (Embedding)         (None, None, 100)    3400        input_2[0][0]                    \n",
      "__________________________________________________________________________________________________\n",
      "concatenate (Concatenate)       (None, None, 200)    0           embedding[0][0]                  \n",
      "                                                                 embedding_1[0][0]                \n",
      "__________________________________________________________________________________________________\n",
      "lstm (LSTM)                     (None, None, 128)    168448      concatenate[0][0]                \n",
      "__________________________________________________________________________________________________\n",
      "dropout (Dropout)               (None, None, 128)    0           lstm[0][0]                       \n",
      "__________________________________________________________________________________________________\n",
      "lstm_1 (LSTM)                   (None, None, 128)    131584      dropout[0][0]                    \n",
      "__________________________________________________________________________________________________\n",
      "dropout_1 (Dropout)             (None, None, 128)    0           lstm_1[0][0]                     \n",
      "__________________________________________________________________________________________________\n",
      "dense (Dense)                   (None, None, 1)      129         dropout_1[0][0]                  \n",
      "__________________________________________________________________________________________________\n",
      "reshape (Reshape)               (None, None)         0           dense[0][0]                      \n",
      "__________________________________________________________________________________________________\n",
      "activation (Activation)         (None, None)         0           reshape[0][0]                    \n",
      "__________________________________________________________________________________________________\n",
      "repeat_vector (RepeatVector)    (None, 128, None)    0           activation[0][0]                 \n",
      "__________________________________________________________________________________________________\n",
      "permute (Permute)               (None, None, 128)    0           repeat_vector[0][0]              \n",
      "__________________________________________________________________________________________________\n",
      "multiply (Multiply)             (None, None, 128)    0           dropout_1[0][0]                  \n",
      "                                                                 permute[0][0]                    \n",
      "__________________________________________________________________________________________________\n",
      "lambda (Lambda)                 (None, 128)          0           multiply[0][0]                   \n",
      "__________________________________________________________________________________________________\n",
      "dense_1 (Dense)                 (None, 150)          19350       lambda[0][0]                     \n",
      "__________________________________________________________________________________________________\n",
      "dense_2 (Dense)                 (None, 34)           4386        lambda[0][0]                     \n",
      "==================================================================================================\n",
      "Total params: 342,297\n",
      "Trainable params: 342,297\n",
      "Non-trainable params: 0\n",
      "__________________________________________________________________________________________________\n"
     ]
    }
   ],
   "source": [
    "RNN.model.summary()"
   ]
  },
  {
   "cell_type": "code",
   "execution_count": 16,
   "metadata": {},
   "outputs": [],
   "source": [
    "seq_length = 32\n",
    "step = 1\n",
    "X, y = RNN.prepare_sequences(notes_to_int, durations_to_int, seq_length, step)"
   ]
  },
  {
   "cell_type": "code",
   "execution_count": 17,
   "metadata": {
    "tags": []
   },
   "outputs": [
    {
     "name": "stdout",
     "output_type": "stream",
     "text": [
      "Epoch 1/30\n",
      "464/464 [==============================] - 16s 29ms/step - loss: 5.4576 - dense_1_loss: 4.0876 - dense_2_loss: 1.3700 - val_loss: 5.7662 - val_dense_1_loss: 4.3763 - val_dense_2_loss: 1.3899\n",
      "Epoch 2/30\n",
      "464/464 [==============================] - 13s 28ms/step - loss: 4.3786 - dense_1_loss: 3.3186 - dense_2_loss: 1.0600 - val_loss: 5.4618 - val_dense_1_loss: 4.1794 - val_dense_2_loss: 1.2824\n",
      "Epoch 3/30\n",
      "464/464 [==============================] - 13s 28ms/step - loss: 3.9746 - dense_1_loss: 2.9799 - dense_2_loss: 0.9947 - val_loss: 5.4323 - val_dense_1_loss: 4.1499 - val_dense_2_loss: 1.2824\n",
      "Epoch 4/30\n",
      "464/464 [==============================] - 13s 28ms/step - loss: 3.7476 - dense_1_loss: 2.7890 - dense_2_loss: 0.9586 - val_loss: 5.5372 - val_dense_1_loss: 4.2326 - val_dense_2_loss: 1.3046\n",
      "Epoch 5/30\n",
      "464/464 [==============================] - 13s 28ms/step - loss: 3.5980 - dense_1_loss: 2.6716 - dense_2_loss: 0.9264 - val_loss: 5.4955 - val_dense_1_loss: 4.1795 - val_dense_2_loss: 1.3160\n",
      "Epoch 6/30\n",
      "464/464 [==============================] - 13s 28ms/step - loss: 3.4873 - dense_1_loss: 2.5793 - dense_2_loss: 0.9080 - val_loss: 5.6562 - val_dense_1_loss: 4.2913 - val_dense_2_loss: 1.3649\n",
      "Epoch 7/30\n",
      "464/464 [==============================] - 13s 28ms/step - loss: 3.3608 - dense_1_loss: 2.4861 - dense_2_loss: 0.8747 - val_loss: 5.6364 - val_dense_1_loss: 4.3057 - val_dense_2_loss: 1.3307\n",
      "Epoch 8/30\n",
      "464/464 [==============================] - 13s 28ms/step - loss: 3.2847 - dense_1_loss: 2.4157 - dense_2_loss: 0.8690 - val_loss: 5.6353 - val_dense_1_loss: 4.3142 - val_dense_2_loss: 1.3211\n",
      "Epoch 9/30\n",
      "464/464 [==============================] - 13s 28ms/step - loss: 3.1997 - dense_1_loss: 2.3491 - dense_2_loss: 0.8506 - val_loss: 5.6529 - val_dense_1_loss: 4.3077 - val_dense_2_loss: 1.3453\n",
      "Epoch 10/30\n",
      "464/464 [==============================] - 13s 28ms/step - loss: 3.1484 - dense_1_loss: 2.3096 - dense_2_loss: 0.8388 - val_loss: 5.6760 - val_dense_1_loss: 4.3261 - val_dense_2_loss: 1.3499\n",
      "Epoch 11/30\n",
      "464/464 [==============================] - 13s 28ms/step - loss: 3.0693 - dense_1_loss: 2.2573 - dense_2_loss: 0.8119 - val_loss: 5.8917 - val_dense_1_loss: 4.5023 - val_dense_2_loss: 1.3894\n",
      "Epoch 12/30\n",
      "464/464 [==============================] - 13s 28ms/step - loss: 2.9981 - dense_1_loss: 2.2064 - dense_2_loss: 0.7917 - val_loss: 5.7570 - val_dense_1_loss: 4.3805 - val_dense_2_loss: 1.3765\n",
      "Epoch 13/30\n",
      "464/464 [==============================] - 13s 28ms/step - loss: 2.9357 - dense_1_loss: 2.1495 - dense_2_loss: 0.7862 - val_loss: 5.9988 - val_dense_1_loss: 4.6116 - val_dense_2_loss: 1.3872\n",
      "Epoch 14/30\n",
      "464/464 [==============================] - 13s 28ms/step - loss: 2.9038 - dense_1_loss: 2.1187 - dense_2_loss: 0.7850 - val_loss: 5.8666 - val_dense_1_loss: 4.4866 - val_dense_2_loss: 1.3800\n",
      "Epoch 15/30\n",
      "464/464 [==============================] - 13s 28ms/step - loss: 2.8671 - dense_1_loss: 2.0962 - dense_2_loss: 0.7709 - val_loss: 6.0726 - val_dense_1_loss: 4.6599 - val_dense_2_loss: 1.4127\n",
      "Epoch 16/30\n",
      "464/464 [==============================] - 13s 28ms/step - loss: 2.8511 - dense_1_loss: 2.0756 - dense_2_loss: 0.7755 - val_loss: 5.9868 - val_dense_1_loss: 4.5531 - val_dense_2_loss: 1.4337\n",
      "Epoch 17/30\n",
      "464/464 [==============================] - 13s 28ms/step - loss: 2.7991 - dense_1_loss: 2.0350 - dense_2_loss: 0.7641 - val_loss: 5.9599 - val_dense_1_loss: 4.5096 - val_dense_2_loss: 1.4503\n",
      "Epoch 18/30\n",
      "464/464 [==============================] - 13s 28ms/step - loss: 2.7473 - dense_1_loss: 1.9980 - dense_2_loss: 0.7493 - val_loss: 6.0458 - val_dense_1_loss: 4.6111 - val_dense_2_loss: 1.4347\n",
      "Epoch 19/30\n",
      "464/464 [==============================] - 13s 28ms/step - loss: 2.7180 - dense_1_loss: 1.9759 - dense_2_loss: 0.7421 - val_loss: 6.0982 - val_dense_1_loss: 4.6429 - val_dense_2_loss: 1.4553\n",
      "Epoch 20/30\n",
      "464/464 [==============================] - 13s 28ms/step - loss: 2.6431 - dense_1_loss: 1.9285 - dense_2_loss: 0.7147 - val_loss: 6.2052 - val_dense_1_loss: 4.7086 - val_dense_2_loss: 1.4966\n",
      "Epoch 21/30\n",
      "464/464 [==============================] - 13s 28ms/step - loss: 2.6210 - dense_1_loss: 1.8946 - dense_2_loss: 0.7264 - val_loss: 6.2394 - val_dense_1_loss: 4.7411 - val_dense_2_loss: 1.4982\n",
      "Epoch 22/30\n",
      "464/464 [==============================] - 13s 28ms/step - loss: 2.5882 - dense_1_loss: 1.8783 - dense_2_loss: 0.7099 - val_loss: 6.3484 - val_dense_1_loss: 4.7746 - val_dense_2_loss: 1.5738\n",
      "Epoch 23/30\n",
      "464/464 [==============================] - 13s 28ms/step - loss: 2.5516 - dense_1_loss: 1.8529 - dense_2_loss: 0.6987 - val_loss: 6.4006 - val_dense_1_loss: 4.8359 - val_dense_2_loss: 1.5646\n",
      "Epoch 24/30\n",
      "464/464 [==============================] - 13s 28ms/step - loss: 2.5212 - dense_1_loss: 1.8297 - dense_2_loss: 0.6915 - val_loss: 6.4151 - val_dense_1_loss: 4.8250 - val_dense_2_loss: 1.5901\n",
      "Epoch 25/30\n",
      "464/464 [==============================] - 13s 28ms/step - loss: 2.4812 - dense_1_loss: 1.7939 - dense_2_loss: 0.6874 - val_loss: 6.5189 - val_dense_1_loss: 4.9482 - val_dense_2_loss: 1.5707\n",
      "Epoch 26/30\n",
      "464/464 [==============================] - 13s 29ms/step - loss: 2.4631 - dense_1_loss: 1.7823 - dense_2_loss: 0.6809 - val_loss: 6.4262 - val_dense_1_loss: 4.8364 - val_dense_2_loss: 1.5897\n",
      "Epoch 27/30\n",
      "464/464 [==============================] - 13s 28ms/step - loss: 2.4062 - dense_1_loss: 1.7513 - dense_2_loss: 0.6549 - val_loss: 6.5301 - val_dense_1_loss: 4.9533 - val_dense_2_loss: 1.5768\n",
      "Epoch 28/30\n",
      "464/464 [==============================] - 13s 28ms/step - loss: 2.3768 - dense_1_loss: 1.7279 - dense_2_loss: 0.6489 - val_loss: 6.5775 - val_dense_1_loss: 4.9483 - val_dense_2_loss: 1.6292\n",
      "Epoch 29/30\n",
      "464/464 [==============================] - 13s 29ms/step - loss: 2.3610 - dense_1_loss: 1.7071 - dense_2_loss: 0.6539 - val_loss: 6.6063 - val_dense_1_loss: 4.9138 - val_dense_2_loss: 1.6925\n",
      "Epoch 30/30\n",
      "464/464 [==============================] - 13s 28ms/step - loss: 2.3316 - dense_1_loss: 1.6800 - dense_2_loss: 0.6515 - val_loss: 6.5754 - val_dense_1_loss: 4.9503 - val_dense_2_loss: 1.6251\n"
     ]
    },
    {
     "data": {
      "text/plain": [
       "<tensorflow.python.keras.callbacks.History at 0x7f8cb460e0a0>"
      ]
     },
     "execution_count": 17,
     "metadata": {},
     "output_type": "execute_result"
    }
   ],
   "source": [
    "RNN.model.fit(\n",
    "    X, y,\n",
    "    epochs=30,\n",
    "    batch_size=32,\n",
    "    validation_split=0.2,\n",
    "    shuffle=True\n",
    ")"
   ]
  },
  {
   "cell_type": "code",
   "execution_count": 18,
   "metadata": {},
   "outputs": [
    {
     "data": {
      "image/png": "[encoded data removed]",
      "text/plain": [
       "<Figure size 432x288 with 1 Axes>"
      ]
     },
     "metadata": {
      "image/png": {
       "height": 248,
       "width": 364
      },
      "needs_background": "light"
     },
     "output_type": "display_data"
    }
   ],
   "source": [
    "plt.figure()\n",
    "plt.plot(RNN.model.history.history['loss'], label='loss')\n",
    "plt.plot(RNN.model.history.history['val_loss'], label='val_loss')\n",
    "plt.legend()\n",
    "plt.show()"
   ]
  },
  {
   "cell_type": "code",
   "execution_count": 19,
   "metadata": {},
   "outputs": [],
   "source": [
    "def sample(preds, temperature):\n",
    "    if temperature == 0:\n",
    "        return np.argmax(preds)\n",
    "    else:\n",
    "        preds = np.log(preds) / temperature\n",
    "        exp_preds = np.exp(preds)\n",
    "        preds = exp_preds / np.sum(exp_preds)\n",
    "        return np.random.choice(len(preds), p=preds)"
   ]
  },
  {
   "cell_type": "code",
   "execution_count": 23,
   "metadata": {},
   "outputs": [
    {
     "data": {
      "application/vnd.jupyter.widget-view+json": {
       "model_id": "315e6c24f79d454f8aaee01f549c7652",
       "version_major": 2,
       "version_minor": 0
      },
      "text/plain": [
       "  0%|          | 0/100 [00:00<?, ?it/s]"
      ]
     },
     "metadata": {},
     "output_type": "display_data"
    },
    {
     "data": {
      "application/vnd.jupyter.widget-view+json": {
       "model_id": "eb01e17051114cd4859bf6ee44acf106",
       "version_major": 2,
       "version_minor": 0
      },
      "text/plain": [
       "  0%|          | 0/100 [00:00<?, ?it/s]"
      ]
     },
     "metadata": {},
     "output_type": "display_data"
    },
    {
     "data": {
      "application/vnd.jupyter.widget-view+json": {
       "model_id": "246f2143c3bb4c77bf785f1e4b351ac1",
       "version_major": 2,
       "version_minor": 0
      },
      "text/plain": [
       "  0%|          | 0/100 [00:00<?, ?it/s]"
      ]
     },
     "metadata": {},
     "output_type": "display_data"
    }
   ],
   "source": [
    "temperatures = [0.0, 0.5, 0.9]\n",
    "n_generated = 100\n",
    "\n",
    "# att_matrix = np.zeros((n_generated+seq_length, n_generated))\n",
    "\n",
    "for temperature in temperatures:\n",
    "    generated = [notes_to_int[:32], durations_to_int[:32]]\n",
    "    for i in tqdm(range(n_generated)):\n",
    "        note_pred, duration_pred = RNN.model.predict([np.array(generated[0][i:]), np.array(generated[1][i:])])\n",
    "        generated[0].append(sample(note_pred[0], temperature))\n",
    "        generated[1].append(sample(duration_pred[0], temperature))\n",
    "    #     if use_attention:\n",
    "    #         att_preds = RNN.att_model.predict(generated[i:])[0]\n",
    "    #         att_matrix[(i-len(att_preds)+seq_length):(i+seq_length), i] = att_preds\n",
    "    \n",
    "    generated = [[inv_note_dictionary[x] for x in generated[0]], [inv_dur_dictionary[x] for x in generated[1]]]\n",
    "    save_notes_and_durations(generated, f'output/rnn/output_{temperature}')"
   ]
  },
  {
   "cell_type": "code",
   "execution_count": 20,
   "metadata": {},
   "outputs": [],
   "source": [
    "# if use_attention:\n",
    "#     fig, ax = plt.subplots(figsize=(20,20))\n",
    "#     im = ax.imshow(att_matrix[(seq_length-2):,], cmap='coolwarm', interpolation='nearest')\n",
    "#     ax.set_xticks(np.arange(-.5, len(generated_to_notes)- seq_length, 1), minor=True);\n",
    "#     ax.set_yticks(np.arange(-.5, len(generated_to_notes)- seq_length, 1), minor=True);\n",
    "#     ax.grid(which='minor', color='black', linestyle='-', linewidth=1)\n",
    "#     ax.set_xticks(np.arange(len(generated_to_notes) - seq_length))\n",
    "#     ax.set_yticks(np.arange(len(generated_to_notes)- seq_length+2))\n",
    "#     ax.set_xticklabels([n for n in generated_to_notes[(seq_length):]])\n",
    "#     ax.set_yticklabels([n for n in generated_to_notes[(seq_length - 2):]])\n",
    "#     ax.xaxis.tick_top()    \n",
    "#     plt.setp(ax.get_xticklabels(), rotation=90, ha=\"left\", va = \"center\",\n",
    "#              rotation_mode=\"anchor\")\n",
    "\n",
    "#     plt.show()"
   ]
  },
  {
   "cell_type": "code",
   "execution_count": null,
   "metadata": {},
   "outputs": [],
   "source": []
  }
 ],
 "metadata": {
  "kernelspec": {
   "display_name": "Python 3",
   "language": "python",
   "name": "python3"
  },
  "language_info": {
   "codemirror_mode": {
    "name": "ipython",
    "version": 3
   },
   "file_extension": ".py",
   "mimetype": "text/x-python",
   "name": "python",
   "nbconvert_exporter": "python",
   "pygments_lexer": "ipython3",
   "version": "3.8.5"
  }
 },
 "nbformat": 4,
 "nbformat_minor": 4
}
