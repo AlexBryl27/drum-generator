{
 "cells": [
  {
   "cell_type": "code",
   "execution_count": 3,
   "metadata": {},
   "outputs": [],
   "source": [
    "import sys\n",
    "sys.path.append('src/')\n",
    "import numpy as np\n",
    "import matplotlib.pyplot as plt\n",
    "\n",
    "from models.rnn import MusicRNN\n",
    "from preprocess import parse_files_to_sequences, limit_uniq_notes, get_dictionaries\n",
    "from save_midi import save_notes_and_durations"
   ]
  },
  {
   "cell_type": "markdown",
   "metadata": {},
   "source": [
    "Изначально было интересно проверить возможность генерации барабанных дорожек в своем стиле. Поэтому в коде отражены особенности написания барабанных партий именно мной.\n",
    "\n",
    "А именно: простой бит в 4/4 |36 38 36 38| (36 - бочка, 38 - рабочий) можно описать 4-я нотами и 4-я длительностями в 1/4. \n",
    "\n",
    "Я же написал бы тот же такт таким образом: |36 R R R 38 R R R 36 R R R 38 R R R|, где R - просто пауза и все длительности 1/16. Поэтому после парсинга ударных в списке нот до 40% пауз, которые могли усложнить модель (по факту нет).\n",
    "\n",
    "Поэтому по мере роста гипотез добавились функции дропа этих пауз и парсинга оригинальных длительностей, так что теперь можно применять код для парсинга любой дорожки и использовать модель с конкатенацией как нот, так и длительностей."
   ]
  },
  {
   "cell_type": "code",
   "execution_count": 4,
   "metadata": {},
   "outputs": [],
   "source": [
    "folderpath = \"tabs/\"\n",
    "track_name = 'guitar'"
   ]
  },
  {
   "cell_type": "code",
   "execution_count": 5,
   "metadata": {},
   "outputs": [
    {
     "data": {
      "application/vnd.jupyter.widget-view+json": {
       "model_id": "fe16a6645990464db31e6f533fea528a",
       "version_major": 2,
       "version_minor": 0
      },
      "text/plain": [
       "HBox(children=(FloatProgress(value=0.0, max=14.0), HTML(value='')))"
      ]
     },
     "metadata": {},
     "output_type": "display_data"
    },
    {
     "name": "stdout",
     "output_type": "stream",
     "text": [
      "\n"
     ]
    },
    {
     "data": {
      "application/vnd.jupyter.widget-view+json": {
       "model_id": "3fae148c13e14ae98ea915521bec044e",
       "version_major": 2,
       "version_minor": 0
      },
      "text/plain": [
       "HBox(children=(FloatProgress(value=0.0, max=12.0), HTML(value='')))"
      ]
     },
     "metadata": {},
     "output_type": "display_data"
    },
    {
     "name": "stdout",
     "output_type": "stream",
     "text": [
      "\n"
     ]
    }
   ],
   "source": [
    "notes, durations = parse_files_to_sequences(folderpath, track_name)"
   ]
  },
  {
   "cell_type": "code",
   "execution_count": 6,
   "metadata": {},
   "outputs": [],
   "source": [
    "notes, durations = limit_uniq_notes(notes, durations, 150)"
   ]
  },
  {
   "cell_type": "code",
   "execution_count": 7,
   "metadata": {},
   "outputs": [],
   "source": [
    "note_dictionary, inv_note_dictionary, notes_to_int, \\\n",
    "duration_dictionary, inv_dur_dictionary, durations_to_int = get_dictionaries(notes, durations)"
   ]
  },
  {
   "cell_type": "code",
   "execution_count": 8,
   "metadata": {},
   "outputs": [],
   "source": [
    "RNN = MusicRNN(\n",
    "    n_notes=len(note_dictionary),\n",
    "    n_durations=len(duration_dictionary),\n",
    "    emb_size=64,\n",
    "    n_units=128,\n",
    "    n_layers=2,\n",
    "    use_dropout=True,\n",
    "    use_attention=True,\n",
    ")"
   ]
  },
  {
   "cell_type": "code",
   "execution_count": 9,
   "metadata": {},
   "outputs": [
    {
     "name": "stdout",
     "output_type": "stream",
     "text": [
      "Model: \"model\"\n",
      "__________________________________________________________________________________________________\n",
      "Layer (type)                    Output Shape         Param #     Connected to                     \n",
      "==================================================================================================\n",
      "input_1 (InputLayer)            [(None, None)]       0                                            \n",
      "__________________________________________________________________________________________________\n",
      "input_2 (InputLayer)            [(None, None)]       0                                            \n",
      "__________________________________________________________________________________________________\n",
      "embedding (Embedding)           (None, None, 64)     9600        input_1[0][0]                    \n",
      "__________________________________________________________________________________________________\n",
      "embedding_1 (Embedding)         (None, None, 64)     2240        input_2[0][0]                    \n",
      "__________________________________________________________________________________________________\n",
      "concatenate (Concatenate)       (None, None, 128)    0           embedding[0][0]                  \n",
      "                                                                 embedding_1[0][0]                \n",
      "__________________________________________________________________________________________________\n",
      "lstm (LSTM)                     (None, None, 128)    131584      concatenate[0][0]                \n",
      "__________________________________________________________________________________________________\n",
      "dropout (Dropout)               (None, None, 128)    0           lstm[0][0]                       \n",
      "__________________________________________________________________________________________________\n",
      "lstm_1 (LSTM)                   (None, None, 128)    131584      dropout[0][0]                    \n",
      "__________________________________________________________________________________________________\n",
      "dropout_1 (Dropout)             (None, None, 128)    0           lstm_1[0][0]                     \n",
      "__________________________________________________________________________________________________\n",
      "dense (Dense)                   (None, None, 1)      129         dropout_1[0][0]                  \n",
      "__________________________________________________________________________________________________\n",
      "reshape (Reshape)               (None, None)         0           dense[0][0]                      \n",
      "__________________________________________________________________________________________________\n",
      "activation (Activation)         (None, None)         0           reshape[0][0]                    \n",
      "__________________________________________________________________________________________________\n",
      "repeat_vector (RepeatVector)    (None, 128, None)    0           activation[0][0]                 \n",
      "__________________________________________________________________________________________________\n",
      "permute (Permute)               (None, None, 128)    0           repeat_vector[0][0]              \n",
      "__________________________________________________________________________________________________\n",
      "multiply (Multiply)             (None, None, 128)    0           dropout_1[0][0]                  \n",
      "                                                                 permute[0][0]                    \n",
      "__________________________________________________________________________________________________\n",
      "lambda (Lambda)                 (None, 128)          0           multiply[0][0]                   \n",
      "__________________________________________________________________________________________________\n",
      "dense_1 (Dense)                 (None, 150)          19350       lambda[0][0]                     \n",
      "__________________________________________________________________________________________________\n",
      "dense_2 (Dense)                 (None, 35)           4515        lambda[0][0]                     \n",
      "==================================================================================================\n",
      "Total params: 299,002\n",
      "Trainable params: 299,002\n",
      "Non-trainable params: 0\n",
      "__________________________________________________________________________________________________\n"
     ]
    }
   ],
   "source": [
    "RNN.model.summary()"
   ]
  },
  {
   "cell_type": "code",
   "execution_count": 10,
   "metadata": {},
   "outputs": [],
   "source": [
    "seq_length = 32\n",
    "step = 1\n",
    "X, y = RNN.prepare_sequences(notes_to_int, durations_to_int, seq_length, step)"
   ]
  },
  {
   "cell_type": "code",
   "execution_count": 11,
   "metadata": {
    "tags": []
   },
   "outputs": [
    {
     "name": "stdout",
     "output_type": "stream",
     "text": [
      "Epoch 1/30\n",
      "470/470 [==============================] - 76s 145ms/step - loss: 5.5158 - dense_1_loss: 4.1183 - dense_2_loss: 1.3975 - val_loss: 5.2602 - val_dense_1_loss: 3.9445 - val_dense_2_loss: 1.3157\n",
      "Epoch 2/30\n",
      "470/470 [==============================] - 66s 140ms/step - loss: 4.5562 - dense_1_loss: 3.4439 - dense_2_loss: 1.1123 - val_loss: 5.1118 - val_dense_1_loss: 3.8613 - val_dense_2_loss: 1.2505\n",
      "Epoch 3/30\n",
      "470/470 [==============================] - 66s 140ms/step - loss: 4.1144 - dense_1_loss: 3.0825 - dense_2_loss: 1.0320 - val_loss: 5.0903 - val_dense_1_loss: 3.8142 - val_dense_2_loss: 1.2762\n",
      "Epoch 4/30\n",
      "470/470 [==============================] - 53s 112ms/step - loss: 3.8753 - dense_1_loss: 2.8725 - dense_2_loss: 1.0029 - val_loss: 5.1690 - val_dense_1_loss: 3.8866 - val_dense_2_loss: 1.2825\n",
      "Epoch 5/30\n",
      "470/470 [==============================] - 32s 67ms/step - loss: 3.6970 - dense_1_loss: 2.7453 - dense_2_loss: 0.9517 - val_loss: 5.0057 - val_dense_1_loss: 3.7543 - val_dense_2_loss: 1.2514\n",
      "Epoch 6/30\n",
      "470/470 [==============================] - 31s 67ms/step - loss: 3.5524 - dense_1_loss: 2.6428 - dense_2_loss: 0.9096 - val_loss: 5.0620 - val_dense_1_loss: 3.7940 - val_dense_2_loss: 1.2680\n",
      "Epoch 7/30\n",
      "470/470 [==============================] - 29s 63ms/step - loss: 3.4368 - dense_1_loss: 2.5370 - dense_2_loss: 0.8999 - val_loss: 5.0608 - val_dense_1_loss: 3.7809 - val_dense_2_loss: 1.2798\n",
      "Epoch 8/30\n",
      "470/470 [==============================] - 29s 63ms/step - loss: 3.3347 - dense_1_loss: 2.4457 - dense_2_loss: 0.8890 - val_loss: 5.1499 - val_dense_1_loss: 3.8685 - val_dense_2_loss: 1.2814\n",
      "Epoch 9/30\n",
      "470/470 [==============================] - 29s 63ms/step - loss: 3.2400 - dense_1_loss: 2.3952 - dense_2_loss: 0.8448 - val_loss: 5.1816 - val_dense_1_loss: 3.8382 - val_dense_2_loss: 1.3434\n",
      "Epoch 10/30\n",
      "470/470 [==============================] - 31s 66ms/step - loss: 3.1520 - dense_1_loss: 2.3155 - dense_2_loss: 0.8365 - val_loss: 5.2795 - val_dense_1_loss: 3.9103 - val_dense_2_loss: 1.3692\n",
      "Epoch 11/30\n",
      "470/470 [==============================] - 31s 66ms/step - loss: 3.1153 - dense_1_loss: 2.2832 - dense_2_loss: 0.8321 - val_loss: 5.2447 - val_dense_1_loss: 3.9253 - val_dense_2_loss: 1.3193\n",
      "Epoch 12/30\n",
      "470/470 [==============================] - 31s 66ms/step - loss: 3.0285 - dense_1_loss: 2.2256 - dense_2_loss: 0.8029 - val_loss: 5.2763 - val_dense_1_loss: 3.9373 - val_dense_2_loss: 1.3390\n",
      "Epoch 13/30\n",
      "470/470 [==============================] - 32s 67ms/step - loss: 2.9617 - dense_1_loss: 2.1716 - dense_2_loss: 0.7901 - val_loss: 5.3467 - val_dense_1_loss: 3.9577 - val_dense_2_loss: 1.3890\n",
      "Epoch 14/30\n",
      "470/470 [==============================] - 31s 66ms/step - loss: 2.9302 - dense_1_loss: 2.1564 - dense_2_loss: 0.7737 - val_loss: 5.3142 - val_dense_1_loss: 3.9958 - val_dense_2_loss: 1.3184\n",
      "Epoch 15/30\n",
      "470/470 [==============================] - 31s 66ms/step - loss: 2.8957 - dense_1_loss: 2.1145 - dense_2_loss: 0.7812 - val_loss: 5.3565 - val_dense_1_loss: 4.0199 - val_dense_2_loss: 1.3366\n",
      "Epoch 16/30\n",
      "470/470 [==============================] - 31s 66ms/step - loss: 2.8087 - dense_1_loss: 2.0418 - dense_2_loss: 0.7669 - val_loss: 5.4328 - val_dense_1_loss: 4.0728 - val_dense_2_loss: 1.3599\n",
      "Epoch 17/30\n",
      "470/470 [==============================] - 32s 67ms/step - loss: 2.7814 - dense_1_loss: 2.0282 - dense_2_loss: 0.7533 - val_loss: 5.4911 - val_dense_1_loss: 4.1317 - val_dense_2_loss: 1.3594\n",
      "Epoch 18/30\n",
      "470/470 [==============================] - 32s 69ms/step - loss: 2.7457 - dense_1_loss: 1.9988 - dense_2_loss: 0.7469 - val_loss: 5.4602 - val_dense_1_loss: 4.0867 - val_dense_2_loss: 1.3735\n",
      "Epoch 19/30\n",
      "470/470 [==============================] - 34s 72ms/step - loss: 2.7134 - dense_1_loss: 1.9683 - dense_2_loss: 0.7451 - val_loss: 5.5238 - val_dense_1_loss: 4.1277 - val_dense_2_loss: 1.3962\n",
      "Epoch 20/30\n",
      "470/470 [==============================] - 31s 65ms/step - loss: 2.6728 - dense_1_loss: 1.9295 - dense_2_loss: 0.7433 - val_loss: 5.5169 - val_dense_1_loss: 4.1115 - val_dense_2_loss: 1.4054\n",
      "Epoch 21/30\n",
      "470/470 [==============================] - 31s 66ms/step - loss: 2.6287 - dense_1_loss: 1.9137 - dense_2_loss: 0.7151 - val_loss: 5.5805 - val_dense_1_loss: 4.1593 - val_dense_2_loss: 1.4212\n",
      "Epoch 22/30\n",
      "470/470 [==============================] - 31s 67ms/step - loss: 2.5984 - dense_1_loss: 1.8845 - dense_2_loss: 0.7139 - val_loss: 5.6143 - val_dense_1_loss: 4.1830 - val_dense_2_loss: 1.4312\n",
      "Epoch 23/30\n",
      "470/470 [==============================] - 33s 70ms/step - loss: 2.5509 - dense_1_loss: 1.8552 - dense_2_loss: 0.6957 - val_loss: 5.7488 - val_dense_1_loss: 4.3010 - val_dense_2_loss: 1.4478\n",
      "Epoch 24/30\n",
      "470/470 [==============================] - 31s 65ms/step - loss: 2.5191 - dense_1_loss: 1.8277 - dense_2_loss: 0.6915 - val_loss: 5.7507 - val_dense_1_loss: 4.2930 - val_dense_2_loss: 1.4577\n",
      "Epoch 25/30\n",
      "470/470 [==============================] - 31s 67ms/step - loss: 2.4830 - dense_1_loss: 1.7948 - dense_2_loss: 0.6881 - val_loss: 5.7432 - val_dense_1_loss: 4.2873 - val_dense_2_loss: 1.4559\n",
      "Epoch 26/30\n",
      "470/470 [==============================] - 32s 68ms/step - loss: 2.4691 - dense_1_loss: 1.7782 - dense_2_loss: 0.6910 - val_loss: 5.6981 - val_dense_1_loss: 4.2435 - val_dense_2_loss: 1.4546\n",
      "Epoch 27/30\n",
      "470/470 [==============================] - 32s 68ms/step - loss: 2.3990 - dense_1_loss: 1.7346 - dense_2_loss: 0.6644 - val_loss: 5.8321 - val_dense_1_loss: 4.3075 - val_dense_2_loss: 1.5246\n",
      "Epoch 28/30\n",
      "470/470 [==============================] - 31s 66ms/step - loss: 2.3512 - dense_1_loss: 1.7105 - dense_2_loss: 0.6406 - val_loss: 5.7917 - val_dense_1_loss: 4.3072 - val_dense_2_loss: 1.4845\n",
      "Epoch 29/30\n",
      "470/470 [==============================] - 31s 67ms/step - loss: 2.3322 - dense_1_loss: 1.6900 - dense_2_loss: 0.6421 - val_loss: 5.8927 - val_dense_1_loss: 4.3993 - val_dense_2_loss: 1.4934\n",
      "Epoch 30/30\n",
      "470/470 [==============================] - 31s 66ms/step - loss: 2.3112 - dense_1_loss: 1.6623 - dense_2_loss: 0.6489 - val_loss: 5.8927 - val_dense_1_loss: 4.3775 - val_dense_2_loss: 1.5151\n"
     ]
    },
    {
     "data": {
      "text/plain": [
       "<tensorflow.python.keras.callbacks.History at 0x7f56abbac850>"
      ]
     },
     "execution_count": 11,
     "metadata": {},
     "output_type": "execute_result"
    }
   ],
   "source": [
    "RNN.model.fit(\n",
    "    X, y,\n",
    "    epochs=30,\n",
    "    batch_size=32,\n",
    "    validation_split=0.2,\n",
    "    shuffle=True\n",
    ")"
   ]
  },
  {
   "cell_type": "code",
   "execution_count": 12,
   "metadata": {},
   "outputs": [
    {
     "data": {
      "image/png": "[encoded data removed]",
      "text/plain": [
       "<Figure size 432x288 with 1 Axes>"
      ]
     },
     "metadata": {
      "image/png": {
       "height": 248,
       "width": 373
      },
      "needs_background": "light"
     },
     "output_type": "display_data"
    }
   ],
   "source": [
    "plt.figure()\n",
    "plt.plot(RNN.model.history.history['loss'], label='loss')\n",
    "plt.plot(RNN.model.history.history['val_loss'], label='val_loss')\n",
    "plt.legend()\n",
    "plt.show()"
   ]
  },
  {
   "cell_type": "code",
   "execution_count": 13,
   "metadata": {},
   "outputs": [],
   "source": [
    "def sample(preds, temperature):\n",
    "    if temperature == 0:\n",
    "        return np.argmax(preds)\n",
    "    else:\n",
    "        preds = np.log(preds) / temperature\n",
    "        exp_preds = np.exp(preds)\n",
    "        preds = exp_preds / np.sum(exp_preds)\n",
    "        return np.random.choice(len(preds), p=preds)"
   ]
  },
  {
   "cell_type": "code",
   "execution_count": 18,
   "metadata": {},
   "outputs": [],
   "source": [
    "temperatures = [0.0, 0.5, 0.9]\n",
    "n_generated = 100\n",
    "\n",
    "# att_matrix = np.zeros((n_generated+seq_length, n_generated))\n",
    "\n",
    "for temperature in temperatures:\n",
    "    generated = [notes_to_int[:1], durations_to_int[:1]]\n",
    "    for i in range(n_generated):\n",
    "        note_pred, duration_pred = RNN.model.predict([np.array(generated[0][i:]), np.array(generated[1][i:])])\n",
    "        generated[0].append(sample(note_pred[0], temperature))\n",
    "        generated[1].append(sample(duration_pred[0], temperature))\n",
    "    #     if use_attention:\n",
    "    #         att_preds = RNN.att_model.predict(generated[i:])[0]\n",
    "    #         att_matrix[(i-len(att_preds)+seq_length):(i+seq_length), i] = att_preds\n",
    "    \n",
    "    generated = [[inv_note_dictionary[x] for x in generated[0]], [inv_dur_dictionary[x] for x in generated[1]]]\n",
    "    save_notes_and_durations(generated, f'output/rnn/output_{temperature}')"
   ]
  },
  {
   "cell_type": "code",
   "execution_count": 16,
   "metadata": {},
   "outputs": [],
   "source": [
    "# if use_attention:\n",
    "#     fig, ax = plt.subplots(figsize=(20,20))\n",
    "#     im = ax.imshow(att_matrix[(seq_length-2):,], cmap='coolwarm', interpolation='nearest')\n",
    "#     ax.set_xticks(np.arange(-.5, len(generated_to_notes)- seq_length, 1), minor=True);\n",
    "#     ax.set_yticks(np.arange(-.5, len(generated_to_notes)- seq_length, 1), minor=True);\n",
    "#     ax.grid(which='minor', color='black', linestyle='-', linewidth=1)\n",
    "#     ax.set_xticks(np.arange(len(generated_to_notes) - seq_length))\n",
    "#     ax.set_yticks(np.arange(len(generated_to_notes)- seq_length+2))\n",
    "#     ax.set_xticklabels([n for n in generated_to_notes[(seq_length):]])\n",
    "#     ax.set_yticklabels([n for n in generated_to_notes[(seq_length - 2):]])\n",
    "#     ax.xaxis.tick_top()    \n",
    "#     plt.setp(ax.get_xticklabels(), rotation=90, ha=\"left\", va = \"center\",\n",
    "#              rotation_mode=\"anchor\")\n",
    "\n",
    "#     plt.show()"
   ]
  },
  {
   "cell_type": "code",
   "execution_count": null,
   "metadata": {},
   "outputs": [],
   "source": []
  }
 ],
 "metadata": {
  "kernelspec": {
   "display_name": "Python 3",
   "language": "python",
   "name": "python3"
  },
  "language_info": {
   "codemirror_mode": {
    "name": "ipython",
    "version": 3
   },
   "file_extension": ".py",
   "mimetype": "text/x-python",
   "name": "python",
   "nbconvert_exporter": "python",
   "pygments_lexer": "ipython3",
   "version": "3.8.5"
  }
 },
 "nbformat": 4,
 "nbformat_minor": 4
}
