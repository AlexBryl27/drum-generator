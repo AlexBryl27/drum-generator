{
 "cells": [
  {
   "cell_type": "code",
   "execution_count": 1,
   "metadata": {},
   "outputs": [],
   "source": [
    "import os\n",
    "import numpy as np\n",
    "from tqdm.notebook import tqdm\n",
    "import guitarpro\n",
    "\n",
    "import matplotlib.pyplot as plt\n",
    "\n",
    "from src.models.rnn import MusicRNN\n",
    "from src.parse_gp import drop_rests_from_drum_track, get_notes_and_durations\n",
    "from src.save_midi import save_notes_and_durations, save_notes"
   ]
  },
  {
   "cell_type": "markdown",
   "metadata": {},
   "source": [
    "Изначально было интересно проверить возможность генерации барабанных дорожек в своем стиле. Поэтому в коде отражены особенности написания барабанных партий именно мной.\n",
    "\n",
    "А именно: простой бит в 4/4 |36 38 36 38| (36 - бочка, 38 - рабочий) можно описать 4-я нотами и 4-я длительностями в 1/4. \n",
    "\n",
    "Я же написал бы тот же такт таким образом: |36 R R R 38 R R R 36 R R R 38 R R R|, где R - просто пауза и все длительности 1/16. Поэтому после парсинга ударных в списке нот до 40% пауз, которые могли усложнить модель (по факту нет).\n",
    "\n",
    "Поэтому по мере роста гипотез добавились функции дропа этих пауз и парсинга оригинальных длительностей, так что теперь можно применять код для парсинга любой дорожки и использовать модель с конкатенацией как нот, так и длительностей."
   ]
  },
  {
   "cell_type": "code",
   "execution_count": 2,
   "metadata": {},
   "outputs": [],
   "source": [
    "folderpath = \"tabs/\"\n",
    "use_durations = True\n",
    "track_name = 'guitar'\n",
    "drop_rests = False"
   ]
  },
  {
   "cell_type": "code",
   "execution_count": 3,
   "metadata": {},
   "outputs": [
    {
     "data": {
      "application/vnd.jupyter.widget-view+json": {
       "model_id": "d94d8e69c4ae4f26b5a1a1000f46fc93",
       "version_major": 2,
       "version_minor": 0
      },
      "text/plain": [
       "  0%|          | 0/12 [00:00<?, ?it/s]"
      ]
     },
     "metadata": {},
     "output_type": "display_data"
    }
   ],
   "source": [
    "notes, durations = [], []\n",
    "for folder in os.listdir(folderpath):\n",
    "    for filename in tqdm(os.listdir(folderpath + folder + '/')):\n",
    "        tab = guitarpro.parse(folderpath + folder + '/' + filename)\n",
    "        tab_notes, tab_durations = get_notes_and_durations(tab, track_name, False)\n",
    "        notes += tab_notes\n",
    "        durations += tab_durations"
   ]
  },
  {
   "cell_type": "code",
   "execution_count": 4,
   "metadata": {},
   "outputs": [
    {
     "data": {
      "text/plain": [
       "True"
      ]
     },
     "execution_count": 4,
     "metadata": {},
     "output_type": "execute_result"
    }
   ],
   "source": [
    "len(notes) == len(durations)"
   ]
  },
  {
   "cell_type": "code",
   "execution_count": 5,
   "metadata": {},
   "outputs": [],
   "source": [
    "if drop_rests:\n",
    "    notes, durations = drop_rests_from_drum_track(notes)"
   ]
  },
  {
   "cell_type": "code",
   "execution_count": 6,
   "metadata": {},
   "outputs": [
    {
     "data": {
      "text/plain": [
       "[46, 73, 144, 174, 213, 160, 73, 144, 174, 213]"
      ]
     },
     "execution_count": 6,
     "metadata": {},
     "output_type": "execute_result"
    }
   ],
   "source": [
    "note_dictionary = {note: i for i, note in enumerate(set(notes))}\n",
    "inv_note_dictionary = {i: note for note, i in note_dictionary.items()}\n",
    "notes_to_int = [note_dictionary[note] for note in notes]\n",
    "notes_to_int[:10]"
   ]
  },
  {
   "cell_type": "code",
   "execution_count": 7,
   "metadata": {},
   "outputs": [
    {
     "data": {
      "text/plain": [
       "['del',\n",
       " 'B2.',\n",
       " 'D#3.',\n",
       " 'A#4.',\n",
       " 'D5.',\n",
       " 'D4.A3.E3.B2.',\n",
       " 'B2.',\n",
       " 'D#3.',\n",
       " 'A#4.',\n",
       " 'D5.']"
      ]
     },
     "execution_count": 7,
     "metadata": {},
     "output_type": "execute_result"
    }
   ],
   "source": [
    "notes[:10]"
   ]
  },
  {
   "cell_type": "code",
   "execution_count": 8,
   "metadata": {},
   "outputs": [
    {
     "data": {
      "text/plain": [
       "6352"
      ]
     },
     "execution_count": 8,
     "metadata": {},
     "output_type": "execute_result"
    }
   ],
   "source": [
    "len(notes)"
   ]
  },
  {
   "cell_type": "code",
   "execution_count": 9,
   "metadata": {},
   "outputs": [
    {
     "data": {
      "text/plain": [
       "226"
      ]
     },
     "execution_count": 9,
     "metadata": {},
     "output_type": "execute_result"
    }
   ],
   "source": [
    "len(note_dictionary)"
   ]
  },
  {
   "cell_type": "code",
   "execution_count": 10,
   "metadata": {},
   "outputs": [
    {
     "name": "stdout",
     "output_type": "stream",
     "text": [
      "5\n"
     ]
    }
   ],
   "source": [
    "if use_durations:\n",
    "    duration_dictionary = {dur: i for i, dur in enumerate(set(durations))}\n",
    "    inv_dur_dictionary = {i: dur for dur, i in duration_dictionary.items()}\n",
    "    durations_to_int = [duration_dictionary[dur] for dur in durations]\n",
    "    durations_to_int[:10]\n",
    "    print(len(duration_dictionary))\n",
    "else:\n",
    "    durations_to_int = None"
   ]
  },
  {
   "cell_type": "code",
   "execution_count": 11,
   "metadata": {},
   "outputs": [],
   "source": [
    "n_notes = len(note_dictionary)\n",
    "n_durations = len(duration_dictionary) if use_durations else None\n",
    "emb_size = 100\n",
    "n_units = 128\n",
    "n_layers = 2\n",
    "use_dropout = True\n",
    "use_attention = True"
   ]
  },
  {
   "cell_type": "code",
   "execution_count": 13,
   "metadata": {},
   "outputs": [],
   "source": [
    "RNN = MusicRNN(\n",
    "    n_notes,\n",
    "    n_durations,\n",
    "    emb_size,\n",
    "    n_units,\n",
    "    n_layers,\n",
    "    use_dropout,\n",
    "    use_attention,\n",
    "    use_durations\n",
    ")"
   ]
  },
  {
   "cell_type": "code",
   "execution_count": 14,
   "metadata": {},
   "outputs": [
    {
     "name": "stdout",
     "output_type": "stream",
     "text": [
      "Model: \"model\"\n",
      "__________________________________________________________________________________________________\n",
      "Layer (type)                    Output Shape         Param #     Connected to                     \n",
      "==================================================================================================\n",
      "input_1 (InputLayer)            [(None, None)]       0                                            \n",
      "__________________________________________________________________________________________________\n",
      "input_2 (InputLayer)            [(None, None)]       0                                            \n",
      "__________________________________________________________________________________________________\n",
      "embedding (Embedding)           (None, None, 100)    22600       input_1[0][0]                    \n",
      "__________________________________________________________________________________________________\n",
      "embedding_1 (Embedding)         (None, None, 100)    500         input_2[0][0]                    \n",
      "__________________________________________________________________________________________________\n",
      "concatenate (Concatenate)       (None, None, 200)    0           embedding[0][0]                  \n",
      "                                                                 embedding_1[0][0]                \n",
      "__________________________________________________________________________________________________\n",
      "lstm (LSTM)                     (None, None, 128)    168448      concatenate[0][0]                \n",
      "__________________________________________________________________________________________________\n",
      "dropout (Dropout)               (None, None, 128)    0           lstm[0][0]                       \n",
      "__________________________________________________________________________________________________\n",
      "lstm_1 (LSTM)                   (None, None, 128)    131584      dropout[0][0]                    \n",
      "__________________________________________________________________________________________________\n",
      "dropout_1 (Dropout)             (None, None, 128)    0           lstm_1[0][0]                     \n",
      "__________________________________________________________________________________________________\n",
      "dense (Dense)                   (None, None, 1)      129         dropout_1[0][0]                  \n",
      "__________________________________________________________________________________________________\n",
      "reshape (Reshape)               (None, None)         0           dense[0][0]                      \n",
      "__________________________________________________________________________________________________\n",
      "activation (Activation)         (None, None)         0           reshape[0][0]                    \n",
      "__________________________________________________________________________________________________\n",
      "repeat_vector (RepeatVector)    (None, 128, None)    0           activation[0][0]                 \n",
      "__________________________________________________________________________________________________\n",
      "permute (Permute)               (None, None, 128)    0           repeat_vector[0][0]              \n",
      "__________________________________________________________________________________________________\n",
      "multiply (Multiply)             (None, None, 128)    0           dropout_1[0][0]                  \n",
      "                                                                 permute[0][0]                    \n",
      "__________________________________________________________________________________________________\n",
      "lambda (Lambda)                 (None, 128)          0           multiply[0][0]                   \n",
      "__________________________________________________________________________________________________\n",
      "dense_1 (Dense)                 (None, 226)          29154       lambda[0][0]                     \n",
      "__________________________________________________________________________________________________\n",
      "dense_2 (Dense)                 (None, 5)            645         lambda[0][0]                     \n",
      "==================================================================================================\n",
      "Total params: 353,060\n",
      "Trainable params: 353,060\n",
      "Non-trainable params: 0\n",
      "__________________________________________________________________________________________________\n"
     ]
    }
   ],
   "source": [
    "RNN.model.summary()"
   ]
  },
  {
   "cell_type": "code",
   "execution_count": 15,
   "metadata": {},
   "outputs": [],
   "source": [
    "seq_length = 32\n",
    "step = 1\n",
    "X, y = RNN.prepare_sequences(notes_to_int, durations_to_int, seq_length, step)"
   ]
  },
  {
   "cell_type": "code",
   "execution_count": 15,
   "metadata": {
    "collapsed": true,
    "jupyter": {
     "outputs_hidden": true
    },
    "tags": []
   },
   "outputs": [
    {
     "name": "stdout",
     "output_type": "stream",
     "text": [
      "Epoch 1/30\n",
      "158/158 [==============================] - 20s 100ms/step - loss: 5.6613 - dense_1_loss: 4.4461 - dense_2_loss: 1.2152 - val_loss: 5.0247 - val_dense_1_loss: 3.9203 - val_dense_2_loss: 1.1044\n",
      "Epoch 2/30\n",
      "158/158 [==============================] - 14s 90ms/step - loss: 4.7286 - dense_1_loss: 3.7042 - dense_2_loss: 1.0244 - val_loss: 4.9329 - val_dense_1_loss: 3.8524 - val_dense_2_loss: 1.0805\n",
      "Epoch 3/30\n",
      "158/158 [==============================] - 14s 91ms/step - loss: 4.2962 - dense_1_loss: 3.3464 - dense_2_loss: 0.9498 - val_loss: 4.7984 - val_dense_1_loss: 3.7645 - val_dense_2_loss: 1.0339\n",
      "Epoch 4/30\n",
      "158/158 [==============================] - 14s 89ms/step - loss: 4.0267 - dense_1_loss: 3.1034 - dense_2_loss: 0.9233 - val_loss: 4.8399 - val_dense_1_loss: 3.7685 - val_dense_2_loss: 1.0714\n",
      "Epoch 5/30\n",
      "158/158 [==============================] - 14s 90ms/step - loss: 3.7127 - dense_1_loss: 2.8448 - dense_2_loss: 0.8679 - val_loss: 4.8779 - val_dense_1_loss: 3.7166 - val_dense_2_loss: 1.1613\n",
      "Epoch 6/30\n",
      "158/158 [==============================] - 14s 90ms/step - loss: 3.5729 - dense_1_loss: 2.7337 - dense_2_loss: 0.8392 - val_loss: 4.9187 - val_dense_1_loss: 3.7555 - val_dense_2_loss: 1.1633\n",
      "Epoch 7/30\n",
      "158/158 [==============================] - 14s 91ms/step - loss: 3.4195 - dense_1_loss: 2.6034 - dense_2_loss: 0.8162 - val_loss: 4.9760 - val_dense_1_loss: 3.8504 - val_dense_2_loss: 1.1255\n",
      "Epoch 8/30\n",
      "158/158 [==============================] - 14s 90ms/step - loss: 3.2406 - dense_1_loss: 2.4507 - dense_2_loss: 0.7899 - val_loss: 4.8791 - val_dense_1_loss: 3.7747 - val_dense_2_loss: 1.1044\n",
      "Epoch 9/30\n",
      "158/158 [==============================] - 14s 90ms/step - loss: 3.1378 - dense_1_loss: 2.3767 - dense_2_loss: 0.7611 - val_loss: 4.9398 - val_dense_1_loss: 3.8387 - val_dense_2_loss: 1.1011\n",
      "Epoch 10/30\n",
      "158/158 [==============================] - 14s 90ms/step - loss: 3.0573 - dense_1_loss: 2.3135 - dense_2_loss: 0.7438 - val_loss: 5.0239 - val_dense_1_loss: 3.9410 - val_dense_2_loss: 1.0829\n",
      "Epoch 11/30\n",
      "158/158 [==============================] - 14s 89ms/step - loss: 2.9558 - dense_1_loss: 2.2187 - dense_2_loss: 0.7371 - val_loss: 4.9675 - val_dense_1_loss: 3.7872 - val_dense_2_loss: 1.1803\n",
      "Epoch 12/30\n",
      "158/158 [==============================] - 14s 90ms/step - loss: 2.8905 - dense_1_loss: 2.1633 - dense_2_loss: 0.7271 - val_loss: 5.1606 - val_dense_1_loss: 3.9634 - val_dense_2_loss: 1.1972\n",
      "Epoch 13/30\n",
      "158/158 [==============================] - 15s 92ms/step - loss: 2.8372 - dense_1_loss: 2.1269 - dense_2_loss: 0.7104 - val_loss: 5.2102 - val_dense_1_loss: 3.9517 - val_dense_2_loss: 1.2585\n",
      "Epoch 14/30\n",
      "158/158 [==============================] - 14s 90ms/step - loss: 2.8008 - dense_1_loss: 2.0976 - dense_2_loss: 0.7032 - val_loss: 5.0267 - val_dense_1_loss: 3.8427 - val_dense_2_loss: 1.1840\n",
      "Epoch 15/30\n",
      "158/158 [==============================] - 14s 89ms/step - loss: 2.7784 - dense_1_loss: 2.0744 - dense_2_loss: 0.7040 - val_loss: 5.1648 - val_dense_1_loss: 3.9762 - val_dense_2_loss: 1.1887\n",
      "Epoch 16/30\n",
      "158/158 [==============================] - 14s 91ms/step - loss: 2.6802 - dense_1_loss: 1.9940 - dense_2_loss: 0.6862 - val_loss: 5.1866 - val_dense_1_loss: 3.9779 - val_dense_2_loss: 1.2087\n",
      "Epoch 17/30\n",
      "158/158 [==============================] - 14s 90ms/step - loss: 2.6041 - dense_1_loss: 1.9546 - dense_2_loss: 0.6495 - val_loss: 5.3731 - val_dense_1_loss: 4.0945 - val_dense_2_loss: 1.2786\n",
      "Epoch 18/30\n",
      "158/158 [==============================] - 14s 89ms/step - loss: 2.5952 - dense_1_loss: 1.9372 - dense_2_loss: 0.6580 - val_loss: 5.2602 - val_dense_1_loss: 3.9870 - val_dense_2_loss: 1.2732\n",
      "Epoch 19/30\n",
      "158/158 [==============================] - 14s 90ms/step - loss: 2.5568 - dense_1_loss: 1.8852 - dense_2_loss: 0.6716 - val_loss: 5.3597 - val_dense_1_loss: 4.1458 - val_dense_2_loss: 1.2139\n",
      "Epoch 20/30\n",
      "158/158 [==============================] - 14s 89ms/step - loss: 2.5243 - dense_1_loss: 1.8862 - dense_2_loss: 0.6381 - val_loss: 5.4008 - val_dense_1_loss: 4.1465 - val_dense_2_loss: 1.2542\n",
      "Epoch 21/30\n",
      "158/158 [==============================] - 14s 89ms/step - loss: 2.5227 - dense_1_loss: 1.8670 - dense_2_loss: 0.6557 - val_loss: 5.3313 - val_dense_1_loss: 4.0880 - val_dense_2_loss: 1.2434\n",
      "Epoch 22/30\n",
      "158/158 [==============================] - 14s 91ms/step - loss: 2.4422 - dense_1_loss: 1.8124 - dense_2_loss: 0.6298 - val_loss: 5.4959 - val_dense_1_loss: 4.1677 - val_dense_2_loss: 1.3282\n",
      "Epoch 23/30\n",
      "158/158 [==============================] - 14s 89ms/step - loss: 2.4460 - dense_1_loss: 1.8073 - dense_2_loss: 0.6387 - val_loss: 5.4268 - val_dense_1_loss: 4.1871 - val_dense_2_loss: 1.2397\n",
      "Epoch 24/30\n",
      "158/158 [==============================] - 14s 90ms/step - loss: 2.4106 - dense_1_loss: 1.7789 - dense_2_loss: 0.6317 - val_loss: 5.5580 - val_dense_1_loss: 4.2603 - val_dense_2_loss: 1.2977\n",
      "Epoch 25/30\n",
      "158/158 [==============================] - 14s 90ms/step - loss: 2.3554 - dense_1_loss: 1.7268 - dense_2_loss: 0.6285 - val_loss: 5.4785 - val_dense_1_loss: 4.1987 - val_dense_2_loss: 1.2798\n",
      "Epoch 26/30\n",
      "158/158 [==============================] - 14s 90ms/step - loss: 2.3373 - dense_1_loss: 1.7297 - dense_2_loss: 0.6076 - val_loss: 5.6069 - val_dense_1_loss: 4.2062 - val_dense_2_loss: 1.4007\n",
      "Epoch 27/30\n",
      "158/158 [==============================] - 14s 89ms/step - loss: 2.3062 - dense_1_loss: 1.7067 - dense_2_loss: 0.5995 - val_loss: 5.5172 - val_dense_1_loss: 4.2026 - val_dense_2_loss: 1.3145\n",
      "Epoch 28/30\n",
      "158/158 [==============================] - 14s 89ms/step - loss: 2.2623 - dense_1_loss: 1.6663 - dense_2_loss: 0.5961 - val_loss: 5.7306 - val_dense_1_loss: 4.3389 - val_dense_2_loss: 1.3917\n",
      "Epoch 29/30\n",
      "158/158 [==============================] - 14s 90ms/step - loss: 2.2096 - dense_1_loss: 1.6387 - dense_2_loss: 0.5709 - val_loss: 5.5758 - val_dense_1_loss: 4.2389 - val_dense_2_loss: 1.3369\n",
      "Epoch 30/30\n",
      "158/158 [==============================] - 14s 90ms/step - loss: 2.1445 - dense_1_loss: 1.5851 - dense_2_loss: 0.5593 - val_loss: 5.6879 - val_dense_1_loss: 4.1806 - val_dense_2_loss: 1.5073\n"
     ]
    },
    {
     "data": {
      "text/plain": [
       "<tensorflow.python.keras.callbacks.History at 0x7fc1d11898e0>"
      ]
     },
     "execution_count": 15,
     "metadata": {},
     "output_type": "execute_result"
    }
   ],
   "source": [
    "RNN.model.fit(\n",
    "    X, y,\n",
    "    epochs=30,\n",
    "    batch_size=32,\n",
    "    validation_split=0.2,\n",
    "    shuffle=True\n",
    ")"
   ]
  },
  {
   "cell_type": "code",
   "execution_count": 16,
   "metadata": {},
   "outputs": [
    {
     "data": {
      "image/png": "[encoded data removed]",
      "text/plain": [
       "<Figure size 432x288 with 1 Axes>"
      ]
     },
     "metadata": {
      "image/png": {
       "height": 248,
       "width": 373
      },
      "needs_background": "light"
     },
     "output_type": "display_data"
    }
   ],
   "source": [
    "plt.figure()\n",
    "plt.plot(RNN.model.history.history['loss'], label='loss')\n",
    "plt.plot(RNN.model.history.history['val_loss'], label='val_loss')\n",
    "plt.legend()\n",
    "plt.show()"
   ]
  },
  {
   "cell_type": "code",
   "execution_count": 17,
   "metadata": {},
   "outputs": [],
   "source": [
    "def sample(preds, temperature):\n",
    "    if temperature == 0:\n",
    "        return np.argmax(preds)\n",
    "    else:\n",
    "        preds = np.log(preds) / temperature\n",
    "        exp_preds = np.exp(preds)\n",
    "        preds = exp_preds / np.sum(exp_preds)\n",
    "        return np.random.choice(len(preds), p=preds)"
   ]
  },
  {
   "cell_type": "code",
   "execution_count": 24,
   "metadata": {},
   "outputs": [],
   "source": [
    "# if use_durations:\n",
    "#     self_notes = [\n",
    "#         '46.36.', '46.36.', '46.38.', '46.36.', '38.', '46.36.', '38.', '46.36.', '46.38.', '46.36.', '38.',\n",
    "#         '46.36.', '46.36.', '46.38.', '46.36.', '38.', '46.36.', '38.', '46.36.', '46.38.', '46.36.', '38.',\n",
    "#     ]\n",
    "#     self_durations = [\n",
    "#         1/8, 1/8, 1/8, 1/16, 1/16, 1/16, 1/16, 1/8, 1/8, 1/16, 1/16,\n",
    "#         1/8, 1/8, 1/8, 1/16, 1/16, 1/16, 1/16, 1/8, 1/8, 1/16, 1/16\n",
    "#     ]\n",
    "#     generated_notes = [note_dictionary[x] for x in self_notes]\n",
    "#     generated_durations = [duration_dictionary[x] for x in self_durations]\n",
    "#     generated = [generated_notes, generated_durations]\n",
    "# else:\n",
    "#     self_notes = [\n",
    "#         '46.36.', '', '46.36.', '', '46.38.', '', '46.36.', '38.', '46.36.', '38.', '46.36.', '', '46.38.', '', '46.36.', '38.',\n",
    "#         '46.36.', '', '46.36.', '', '46.38.', '', '46.36.', '38.', '46.36.', '38.', '46.36.', '', '46.38.', '', '46.36.', '38.',\n",
    "#     ]\n",
    "#     generated = [note_dictionary[x] for x in self_notes]"
   ]
  },
  {
   "cell_type": "code",
   "execution_count": 19,
   "metadata": {},
   "outputs": [],
   "source": [
    "generated = [[note_dictionary[x] for x in notes[:32]], [duration_dictionary[x] for x in durations[:32]]]"
   ]
  },
  {
   "cell_type": "code",
   "execution_count": 20,
   "metadata": {},
   "outputs": [
    {
     "data": {
      "application/vnd.jupyter.widget-view+json": {
       "model_id": "fe6a1210417e4e93ae605cb015c026f1",
       "version_major": 2,
       "version_minor": 0
      },
      "text/plain": [
       "HBox(children=(FloatProgress(value=0.0), HTML(value='')))"
      ]
     },
     "metadata": {},
     "output_type": "display_data"
    },
    {
     "name": "stdout",
     "output_type": "stream",
     "text": [
      "\n"
     ]
    }
   ],
   "source": [
    "temperature = 0.5\n",
    "n_generated = 100\n",
    "\n",
    "att_matrix = np.zeros((n_generated+seq_length, n_generated))\n",
    "\n",
    "for i in tqdm(range(n_generated)):\n",
    "    if use_durations:\n",
    "        note_pred, duration_pred = RNN.model.predict([np.array(generated[0][i:]), np.array(generated[1][i:])])\n",
    "        generated[0].append(sample(note_pred[0], temperature))\n",
    "        generated[1].append(sample(duration_pred[0], temperature))\n",
    "    else:\n",
    "        note_pred = RNN.model.predict([generated[i:]])\n",
    "        generated.append(sample(note_pred[0], temperature))\n",
    "#     if use_attention:\n",
    "#         att_preds = RNN.att_model.predict(generated[i:])[0]\n",
    "#         att_matrix[(i-len(att_preds)+seq_length):(i+seq_length), i] = att_preds"
   ]
  },
  {
   "cell_type": "code",
   "execution_count": 21,
   "metadata": {},
   "outputs": [
    {
     "data": {
      "text/plain": [
       "['A#3.D#2.',\n",
       " 'E2.',\n",
       " 'A#4.',\n",
       " 'F#4.',\n",
       " 'C#3.G#3.',\n",
       " 'D#3.B3.',\n",
       " 'F#4.',\n",
       " 'B5.',\n",
       " 'A#4.F#3.A#3.',\n",
       " 'G3.',\n",
       " 'E5.B4.G4.D4.A3.E3.',\n",
       " 'D2.',\n",
       " 'A3.',\n",
       " 'A3.E3.B2.']"
      ]
     },
     "execution_count": 21,
     "metadata": {},
     "output_type": "execute_result"
    }
   ],
   "source": [
    "if use_durations:\n",
    "    generated_to_notes = [inv_note_dictionary[i] for i in generated[0]]\n",
    "    generated_to_durations = [inv_dur_dictionary[i] for i in generated[1]]\n",
    "else:\n",
    "    generated_to_notes = [inv_note_dictionary[i] for i in generated]\n",
    "generated_to_notes[64:78]"
   ]
  },
  {
   "cell_type": "code",
   "execution_count": 22,
   "metadata": {},
   "outputs": [],
   "source": [
    "if use_durations:\n",
    "    generated = [generated_to_notes, generated_to_durations]\n",
    "else:\n",
    "    generated = generated_to_notes"
   ]
  },
  {
   "cell_type": "code",
   "execution_count": 23,
   "metadata": {},
   "outputs": [],
   "source": [
    "save_notes_and_durations(generated, 'output')\n",
    "#save_notes(generated, 'output')"
   ]
  },
  {
   "cell_type": "code",
   "execution_count": 20,
   "metadata": {},
   "outputs": [],
   "source": [
    "# if use_attention:\n",
    "#     fig, ax = plt.subplots(figsize=(20,20))\n",
    "#     im = ax.imshow(att_matrix[(seq_length-2):,], cmap='coolwarm', interpolation='nearest')\n",
    "#     ax.set_xticks(np.arange(-.5, len(generated_to_notes)- seq_length, 1), minor=True);\n",
    "#     ax.set_yticks(np.arange(-.5, len(generated_to_notes)- seq_length, 1), minor=True);\n",
    "#     ax.grid(which='minor', color='black', linestyle='-', linewidth=1)\n",
    "#     ax.set_xticks(np.arange(len(generated_to_notes) - seq_length))\n",
    "#     ax.set_yticks(np.arange(len(generated_to_notes)- seq_length+2))\n",
    "#     ax.set_xticklabels([n for n in generated_to_notes[(seq_length):]])\n",
    "#     ax.set_yticklabels([n for n in generated_to_notes[(seq_length - 2):]])\n",
    "#     ax.xaxis.tick_top()    \n",
    "#     plt.setp(ax.get_xticklabels(), rotation=90, ha=\"left\", va = \"center\",\n",
    "#              rotation_mode=\"anchor\")\n",
    "\n",
    "#     plt.show()"
   ]
  },
  {
   "cell_type": "code",
   "execution_count": null,
   "metadata": {},
   "outputs": [],
   "source": []
  }
 ],
 "metadata": {
  "kernelspec": {
   "display_name": "Python 3",
   "language": "python",
   "name": "python3"
  },
  "language_info": {
   "codemirror_mode": {
    "name": "ipython",
    "version": 3
   },
   "file_extension": ".py",
   "mimetype": "text/x-python",
   "name": "python",
   "nbconvert_exporter": "python",
   "pygments_lexer": "ipython3",
   "version": "3.8.5"
  }
 },
 "nbformat": 4,
 "nbformat_minor": 4
}
