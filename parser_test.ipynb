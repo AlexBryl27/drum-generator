{
 "cells": [
  {
   "cell_type": "code",
   "execution_count": 1,
   "id": "detailed-prize",
   "metadata": {},
   "outputs": [],
   "source": [
    "from src.parse_gp import drop_rests_from_drum_track, get_notes_and_durations\n",
    "from src.save_midi import save_notes_and_durations, save_notes\n",
    "import guitarpro\n",
    "import json"
   ]
  },
  {
   "cell_type": "code",
   "execution_count": 2,
   "id": "private-enterprise",
   "metadata": {},
   "outputs": [],
   "source": [
    "filepath = \"tabs/necro/03 - Djaentz.gp5\"\n",
    "track_name = 'guitar'"
   ]
  },
  {
   "cell_type": "code",
   "execution_count": 3,
   "id": "correct-suicide",
   "metadata": {},
   "outputs": [],
   "source": [
    "tab = guitarpro.parse(filepath)\n",
    "notes, durations = get_notes_and_durations(tab, track_name, True)"
   ]
  },
  {
   "cell_type": "code",
   "execution_count": 4,
   "id": "homeless-jacket",
   "metadata": {},
   "outputs": [
    {
     "data": {
      "text/plain": [
       "['B3.F#3.B1.',\n",
       " 'B3.F#3.B1.',\n",
       " 'B3.F#3.B1.',\n",
       " 'B3.F#3.B1.',\n",
       " 'B3.F#3.B1.',\n",
       " 'B3.F#3.B1.',\n",
       " 'B3.F#3.B1.',\n",
       " 'B3.F#3.B1.',\n",
       " 'B3.F#3.B1.',\n",
       " 'B3.F#3.B1.']"
      ]
     },
     "execution_count": 4,
     "metadata": {},
     "output_type": "execute_result"
    }
   ],
   "source": [
    "notes[:10]"
   ]
  },
  {
   "cell_type": "code",
   "execution_count": 5,
   "id": "seasonal-moldova",
   "metadata": {},
   "outputs": [
    {
     "data": {
      "text/plain": [
       "[0.0625, 0.125, 0.125, 0.125, 0.125, 0.0625, 0.125, 0.125, 0.125, 0.0625]"
      ]
     },
     "execution_count": 5,
     "metadata": {},
     "output_type": "execute_result"
    }
   ],
   "source": [
    "durations[:10]"
   ]
  },
  {
   "cell_type": "code",
   "execution_count": 6,
   "id": "wooden-cathedral",
   "metadata": {},
   "outputs": [],
   "source": [
    "save_notes_and_durations([notes, durations], 'test')"
   ]
  },
  {
   "cell_type": "code",
   "execution_count": null,
   "id": "parallel-broadway",
   "metadata": {},
   "outputs": [],
   "source": []
  }
 ],
 "metadata": {
  "kernelspec": {
   "display_name": "Python 3",
   "language": "python",
   "name": "python3"
  },
  "language_info": {
   "codemirror_mode": {
    "name": "ipython",
    "version": 3
   },
   "file_extension": ".py",
   "mimetype": "text/x-python",
   "name": "python",
   "nbconvert_exporter": "python",
   "pygments_lexer": "ipython3",
   "version": "3.8.5"
  }
 },
 "nbformat": 4,
 "nbformat_minor": 5
}
